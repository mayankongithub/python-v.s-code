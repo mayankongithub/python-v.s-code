{
 "cells": [
  {
   "cell_type": "code",
   "execution_count": 1,
   "metadata": {},
   "outputs": [
    {
     "name": "stdout",
     "output_type": "stream",
     "text": [
      "a4bc2d\n"
     ]
    }
   ],
   "source": [
    "str1 = input()   # aaaabccd\n",
    "ch = str1[0]\n",
    "result = \"\"\n",
    "count = 0\n",
    "str1 = str1 + \" \"\n",
    "\n",
    "for x in str1:\n",
    "    if x == ch:\n",
    "        count += 1\n",
    "    else:\n",
    "        if count==1:\n",
    "            result=result+str(ch)\n",
    "            ch=x\n",
    "            count=1\n",
    "        else:\n",
    "            result = result+str(ch)+str(count)\n",
    "            ch = x\n",
    "            count = 1\n",
    "print(result)"
   ]
  },
  {
   "cell_type": "code",
   "execution_count": 2,
   "metadata": {},
   "outputs": [
    {
     "name": "stdout",
     "output_type": "stream",
     "text": [
      "bcc\n"
     ]
    }
   ],
   "source": [
    "str = \"aaaabcca\"\n",
    "print(str.replace(\"a\",\"\"))"
   ]
  },
  {
   "cell_type": "code",
   "execution_count": 1,
   "metadata": {},
   "outputs": [
    {
     "name": "stdout",
     "output_type": "stream",
     "text": [
      "aaacaaaacaaaa\n"
     ]
    }
   ],
   "source": [
    "str = \"aaabcaaaabbbbbbbbbbbbcaaaa\"\n",
    "print(str.replace(\"b\",\"\"))"
   ]
  },
  {
   "cell_type": "code",
   "execution_count": 396,
   "metadata": {},
   "outputs": [
    {
     "name": "stdout",
     "output_type": "stream",
     "text": [
      "adbbbbabbbaaa\n"
     ]
    }
   ],
   "source": [
    "str_1 = \"asdbbbbabbbaaa\"\n",
    "print(str_1.replace(\"s\",\"\"))"
   ]
  },
  {
   "cell_type": "code",
   "execution_count": 3,
   "metadata": {},
   "outputs": [
    {
     "name": "stdout",
     "output_type": "stream",
     "text": [
      "emoclew ot gnidoc sajnin "
     ]
    }
   ],
   "source": [
    "n = input()\n",
    "n = n.split()\n",
    "for i in n:\n",
    "    i = i[::-1]\n",
    "    print(i, end=\" \")"
   ]
  },
  {
   "cell_type": "code",
   "execution_count": 13,
   "metadata": {},
   "outputs": [
    {
     "name": "stdout",
     "output_type": "stream",
     "text": [
      "true\n"
     ]
    }
   ],
   "source": [
    "def arePermutation(str1, str2):\n",
    "    \n",
    "    n1 = len(str1) \n",
    "    n2 = len(str2)\n",
    "    if (n1 != n2):\n",
    "        return False\n",
    "  \n",
    "    # Sort both strings \n",
    "    a = sorted(str1) \n",
    "    str1 = \"\".join(a) \n",
    "    b = sorted(str2) \n",
    "    str2 = \"\".join(b) \n",
    "  \n",
    "    # Compare sorted strings \n",
    "    for i in range(0, n1, 1): \n",
    "        if (str1[i] == str2[i]): \n",
    "            return True\n",
    "  \n",
    "    return False\n",
    "  \n",
    "str1 = input()\n",
    "str2 = input()\n",
    "if (arePermutation(str1, str2)):\n",
    "    print(\"true\") \n",
    "else: \n",
    "    print(\"false\") "
   ]
  },
  {
   "cell_type": "code",
   "execution_count": 392,
   "metadata": {},
   "outputs": [
    {
     "name": "stdout",
     "output_type": "stream",
     "text": [
      "true\n"
     ]
    }
   ],
   "source": [
    "def arePermutation(str1,str2):\n",
    "    n = len(str1)\n",
    "    m = len(str2)\n",
    "    if n!=m:\n",
    "        return False\n",
    "\n",
    "    a = sorted(str1)\n",
    "    str1 = \"\".join(a)\n",
    "    b = sorted(str2)\n",
    "    str2 = \"\".join(b)\n",
    "\n",
    "    for i in range(n):\n",
    "        if(str1[i]==str2[i]):\n",
    "            return True\n",
    "    return False\n",
    "str1 = \"maaykn\"\n",
    "str2 = \"mayank\"\n",
    "c = arePermutation(str1,str2)\n",
    "if True :\n",
    "    print(\"true\")\n",
    "else:\n",
    "    print(\"false\")\n"
   ]
  },
  {
   "cell_type": "code",
   "execution_count": 6,
   "metadata": {},
   "outputs": [
    {
     "data": {
      "text/plain": [
       "'aakmny'"
      ]
     },
     "execution_count": 6,
     "metadata": {},
     "output_type": "execute_result"
    }
   ],
   "source": [
    "string_new = \"mayank\"\n",
    "a = sorted(string_new)\n",
    "b = \"\".join(a)\n",
    "b"
   ]
  },
  {
   "cell_type": "code",
   "execution_count": 11,
   "metadata": {},
   "outputs": [
    {
     "data": {
      "text/plain": [
       "str"
      ]
     },
     "execution_count": 11,
     "metadata": {},
     "output_type": "execute_result"
    }
   ],
   "source": [
    "b = sorted(str2)\n",
    "str2 = \"#\".join(b)\n",
    "type(str2)"
   ]
  },
  {
   "cell_type": "code",
   "execution_count": 290,
   "metadata": {},
   "outputs": [
    {
     "name": "stdout",
     "output_type": "stream",
     "text": [
      "<class 'str'>\n"
     ]
    }
   ],
   "source": [
    "str = \"can oij ds wedfsff\"\n",
    "del str\n",
    "print(str)"
   ]
  },
  {
   "cell_type": "code",
   "execution_count": 291,
   "metadata": {},
   "outputs": [
    {
     "name": "stdout",
     "output_type": "stream",
     "text": [
      "abc\n"
     ]
    }
   ],
   "source": [
    "str = \"aaabaccc\"\n",
    "str2 = \"\"\n",
    "x = 0\n",
    "for i in str:\n",
    "    if str.index(i) == x:\n",
    "        str2 = str2 + i\n",
    "    x = x + 1\n",
    "print(str2)"
   ]
  },
  {
   "cell_type": "code",
   "execution_count": 298,
   "metadata": {},
   "outputs": [
    {
     "name": "stdout",
     "output_type": "stream",
     "text": [
      "maynk shr\n"
     ]
    }
   ],
   "source": [
    "str = \"mayank sharma\"\n",
    "str2 = \"\"\n",
    "x = 0\n",
    "for i in str:\n",
    "    if (str.index(i)==x):\n",
    "        str2 = str2 + i\n",
    "    x+=1\n",
    "print(str2)\n"
   ]
  },
  {
   "cell_type": "code",
   "execution_count": 308,
   "metadata": {},
   "outputs": [
    {
     "name": "stdout",
     "output_type": "stream",
     "text": [
      "maynk shr\n"
     ]
    }
   ],
   "source": [
    "str = \"mayank sharma\"\n",
    "str2 = \"\"\n",
    "x = 0\n",
    "for i in str:\n",
    "    if(str.index(i)==x):\n",
    "        str2 = str2 + i\n",
    "    x+=1\n",
    "print(str2)"
   ]
  },
  {
   "cell_type": "code",
   "execution_count": null,
   "metadata": {},
   "outputs": [],
   "source": [
    "str = \"mayank sharma\"\n",
    "str2 = \"\"\n"
   ]
  },
  {
   "cell_type": "code",
   "execution_count": 26,
   "metadata": {},
   "outputs": [
    {
     "data": {
      "text/plain": [
       "str"
      ]
     },
     "execution_count": 26,
     "metadata": {},
     "output_type": "execute_result"
    }
   ],
   "source": [
    "type(str2)"
   ]
  },
  {
   "cell_type": "code",
   "execution_count": 42,
   "metadata": {},
   "outputs": [
    {
     "name": "stdout",
     "output_type": "stream",
     "text": [
      "[1, 2, 3, 4]\n"
     ]
    }
   ],
   "source": [
    "row = int(input())\n",
    "li = []\n",
    "for i in range(row):\n",
    "    ele = int(input())\n",
    "    li.append(ele)\n",
    "print(li)"
   ]
  },
  {
   "cell_type": "code",
   "execution_count": 49,
   "metadata": {},
   "outputs": [
    {
     "name": "stdout",
     "output_type": "stream",
     "text": [
      "1   2   3   \n",
      "4   5   6   \n"
     ]
    }
   ],
   "source": [
    "#import numpy as np\n",
    "matrix = []\n",
    "row = int(input())\n",
    "col = int(input())\n",
    "for i in range(row):\n",
    "    a = []\n",
    "    for j in range(col):\n",
    "        val = int(input())\n",
    "        a.append(val)\n",
    "    matrix.append(a)\n",
    "#arr = np.array(martix)\n",
    "for i in range(row):\n",
    "    for j in range(col):\n",
    "        print(matrix[i][j],end=\"   \")\n",
    "    print()"
   ]
  },
  {
   "cell_type": "code",
   "execution_count": 56,
   "metadata": {},
   "outputs": [
    {
     "name": "stdout",
     "output_type": "stream",
     "text": [
      "7\n",
      "29\n"
     ]
    }
   ],
   "source": [
    "def sum(n,m,*more):\n",
    "    a = n+m\n",
    "    print(a)\n",
    "    for i in more:\n",
    "        a = a+i\n",
    "    print(a)\n",
    "\n",
    "\n",
    "\n",
    "n = 4\n",
    "m = 3\n",
    "sum(n,m,4,5,6,7)"
   ]
  },
  {
   "cell_type": "code",
   "execution_count": 364,
   "metadata": {},
   "outputs": [
    {
     "name": "stdout",
     "output_type": "stream",
     "text": [
      "{'can': 4, 'you': 3, 'canner': 1}\n"
     ]
    }
   ],
   "source": [
    "s = \"can you can you can you can canner\"\n",
    "d = {}\n",
    "s = s.split()\n",
    "for i in s:\n",
    "    if i in d:\n",
    "        d[i] = d[i] + 1\n",
    "    else:\n",
    "        d[i] = 1\n",
    "print(d)"
   ]
  },
  {
   "cell_type": "code",
   "execution_count": 370,
   "metadata": {},
   "outputs": [
    {
     "name": "stdout",
     "output_type": "stream",
     "text": [
      "<class 'dict'>\n",
      "{'dusk till dawn': 'SAMAR'}\n"
     ]
    }
   ],
   "source": [
    "a = {\"dusk till dawn\":'SAMAR'}\n",
    "print(type(a))\n",
    "print(a)"
   ]
  },
  {
   "cell_type": "code",
   "execution_count": 373,
   "metadata": {},
   "outputs": [
    {
     "name": "stdout",
     "output_type": "stream",
     "text": [
      "<class 'dict'>\n"
     ]
    }
   ],
   "source": [
    "b = {\"to find a way to this\":5}\n",
    "print(type(b))"
   ]
  },
  {
   "cell_type": "code",
   "execution_count": 375,
   "metadata": {},
   "outputs": [
    {
     "name": "stdout",
     "output_type": "stream",
     "text": [
      "<class 'dict'>\n"
     ]
    }
   ],
   "source": [
    "m1 = b.copy()\n",
    "print(type(m1))"
   ]
  },
  {
   "cell_type": "code",
   "execution_count": 63,
   "metadata": {},
   "outputs": [
    {
     "data": {
      "text/plain": [
       "{'this': 5, 'is': 4, 'a': 4, 'dictionary': 7}"
      ]
     },
     "execution_count": 63,
     "metadata": {},
     "output_type": "execute_result"
    }
   ],
   "source": [
    "d = dict([(\"this\",5),(\"is\",4),(\"a\",4),(\"dictionary\",7)])\n",
    "d"
   ]
  },
  {
   "cell_type": "code",
   "execution_count": 30,
   "metadata": {},
   "outputs": [
    {
     "data": {
      "text/plain": [
       "{'this': 5, 'is': 6, 'you': 8}"
      ]
     },
     "execution_count": 30,
     "metadata": {},
     "output_type": "execute_result"
    }
   ],
   "source": [
    "d = dict([(\"this\",5),(\"is\",6),(\"you\",8)])\n",
    "d"
   ]
  },
  {
   "cell_type": "code",
   "execution_count": 377,
   "metadata": {},
   "outputs": [
    {
     "ename": "TypeError",
     "evalue": "'dict' object is not callable",
     "output_type": "error",
     "traceback": [
      "\u001b[1;31m---------------------------------------------------------------------------\u001b[0m",
      "\u001b[1;31mTypeError\u001b[0m                                 Traceback (most recent call last)",
      "Cell \u001b[1;32mIn [377], line 1\u001b[0m\n\u001b[1;32m----> 1\u001b[0m r \u001b[39m=\u001b[39m \u001b[39mdict\u001b[39;49m([(\u001b[39m\"\u001b[39;49m\u001b[39mu\u001b[39;49m\u001b[39m\"\u001b[39;49m,\u001b[39m8\u001b[39;49m),(\u001b[39m\"\u001b[39;49m\u001b[39mrt\u001b[39;49m\u001b[39m\"\u001b[39;49m,\u001b[39m8\u001b[39;49m)])\n\u001b[0;32m      2\u001b[0m r\n",
      "\u001b[1;31mTypeError\u001b[0m: 'dict' object is not callable"
     ]
    }
   ],
   "source": [
    "r = dict([(\"u\",8),(\"rt\",8)])\n",
    "r"
   ]
  },
  {
   "cell_type": "code",
   "execution_count": 68,
   "metadata": {},
   "outputs": [
    {
     "data": {
      "text/plain": [
       "{'abc': 4, 'dcv': 4, 'frd': 4}"
      ]
     },
     "execution_count": 68,
     "metadata": {},
     "output_type": "execute_result"
    }
   ],
   "source": [
    "d = dict.fromkeys([\"abc\",\"dcv\",\"frd\"],4)\n",
    "d"
   ]
  },
  {
   "cell_type": "code",
   "execution_count": 32,
   "metadata": {},
   "outputs": [
    {
     "data": {
      "text/plain": [
       "{'cbsdh': 5, 'dasube': 5, 'ewfjrn': 5}"
      ]
     },
     "execution_count": 32,
     "metadata": {},
     "output_type": "execute_result"
    }
   ],
   "source": [
    "wd = dict.fromkeys([\"cbsdh\",\"dasube\",\"ewfjrn\"],5)\n",
    "wd"
   ]
  },
  {
   "cell_type": "code",
   "execution_count": 73,
   "metadata": {},
   "outputs": [
    {
     "name": "stdout",
     "output_type": "stream",
     "text": [
      "1   2   3   4   \n",
      "5   6   7   8   \n",
      "9   0   1   2   \n",
      "3   4   5   6   \n"
     ]
    }
   ],
   "source": [
    "row = int(input())\n",
    "col = int(input())\n",
    "matrix = []\n",
    "for i in range(row):\n",
    "    a = []\n",
    "    for j in range(col):\n",
    "        ele = int(input())\n",
    "        a.append(ele)\n",
    "    matrix.append(a)\n",
    "for i in range(row):\n",
    "    for j in range(col):\n",
    "        print(matrix[i][j],end=\"   \")\n",
    "    print()"
   ]
  },
  {
   "cell_type": "code",
   "execution_count": 324,
   "metadata": {},
   "outputs": [
    {
     "name": "stdout",
     "output_type": "stream",
     "text": [
      "<class 'list'>\n"
     ]
    }
   ],
   "source": [
    "print(type(matrix))"
   ]
  },
  {
   "cell_type": "code",
   "execution_count": 37,
   "metadata": {},
   "outputs": [
    {
     "name": "stdout",
     "output_type": "stream",
     "text": [
      "{'this': 5, 'thi': 5, 'yuji': 5}\n"
     ]
    }
   ],
   "source": [
    "d = dict([(\"this\",5),(\"thi\",5),(\"yuji\",5)])\n",
    "print(d)"
   ]
  },
  {
   "cell_type": "code",
   "execution_count": 34,
   "metadata": {},
   "outputs": [
    {
     "data": {
      "text/plain": [
       "dict_keys(['this', 'thi', 'yuji'])"
      ]
     },
     "execution_count": 34,
     "metadata": {},
     "output_type": "execute_result"
    }
   ],
   "source": [
    "d.keys()"
   ]
  },
  {
   "cell_type": "code",
   "execution_count": 35,
   "metadata": {},
   "outputs": [
    {
     "data": {
      "text/plain": [
       "dict_values([5, 5, 5])"
      ]
     },
     "execution_count": 35,
     "metadata": {},
     "output_type": "execute_result"
    }
   ],
   "source": [
    "d.values()\n"
   ]
  },
  {
   "cell_type": "code",
   "execution_count": 38,
   "metadata": {},
   "outputs": [
    {
     "name": "stdout",
     "output_type": "stream",
     "text": [
      "(1, 2, 3, 3, 4, 5)\n"
     ]
    }
   ],
   "source": [
    "tuple_1 = (1,2,3)\n",
    "tuple_2 = (3,4,5)\n",
    "print(tuple_1+tuple_2)"
   ]
  },
  {
   "cell_type": "code",
   "execution_count": 82,
   "metadata": {},
   "outputs": [
    {
     "ename": "TypeError",
     "evalue": "'str' object is not callable",
     "output_type": "error",
     "traceback": [
      "\u001b[1;31m---------------------------------------------------------------------------\u001b[0m",
      "\u001b[1;31mTypeError\u001b[0m                                 Traceback (most recent call last)",
      "Cell \u001b[1;32mIn [82], line 1\u001b[0m\n\u001b[1;32m----> 1\u001b[0m d \u001b[39m=\u001b[39m \u001b[39mstr\u001b[39;49m(\u001b[39mdict\u001b[39;49m([(\u001b[39m\"\u001b[39;49m\u001b[39mthis\u001b[39;49m\u001b[39m\"\u001b[39;49m,\u001b[39m\"\u001b[39;49m\u001b[39m5\u001b[39;49m\u001b[39m\"\u001b[39;49m),(\u001b[39m\"\u001b[39;49m\u001b[39mthi\u001b[39;49m\u001b[39m\"\u001b[39;49m,\u001b[39m\"\u001b[39;49m\u001b[39m5\u001b[39;49m\u001b[39m\"\u001b[39;49m),(\u001b[39m\"\u001b[39;49m\u001b[39myuji\u001b[39;49m\u001b[39m\"\u001b[39;49m,\u001b[39m\"\u001b[39;49m\u001b[39m4\u001b[39;49m\u001b[39m\"\u001b[39;49m)]))\n\u001b[0;32m      2\u001b[0m e \u001b[39m=\u001b[39m \u001b[39mstr\u001b[39m(\u001b[39mdict\u001b[39m([(\u001b[39m\"\u001b[39m\u001b[39mths\u001b[39m\u001b[39m\"\u001b[39m,\u001b[39m\"\u001b[39m\u001b[39m5\u001b[39m\u001b[39m\"\u001b[39m),(\u001b[39m\"\u001b[39m\u001b[39mhi\u001b[39m\u001b[39m\"\u001b[39m,\u001b[39m\"\u001b[39m\u001b[39m5\u001b[39m\u001b[39m\"\u001b[39m),(\u001b[39m\"\u001b[39m\u001b[39muji\u001b[39m\u001b[39m\"\u001b[39m,\u001b[39m\"\u001b[39m\u001b[39m4\u001b[39m\u001b[39m\"\u001b[39m)]))\n\u001b[0;32m      3\u001b[0m w \u001b[39m=\u001b[39m d\u001b[39m+\u001b[39me\n",
      "\u001b[1;31mTypeError\u001b[0m: 'str' object is not callable"
     ]
    }
   ],
   "source": [
    "d = str(dict([(\"this\",\"5\"),(\"thi\",\"5\"),(\"yuji\",\"4\")]))\n",
    "e = str(dict([(\"ths\",\"5\"),(\"hi\",\"5\"),(\"uji\",\"4\")]))\n",
    "w = d+e\n",
    "print(w)"
   ]
  },
  {
   "cell_type": "code",
   "execution_count": 99,
   "metadata": {},
   "outputs": [
    {
     "name": "stdout",
     "output_type": "stream",
     "text": [
      "can you be my friend\n"
     ]
    }
   ],
   "source": [
    "str_1 = \"can you \"\n",
    "str_2 = \"be my friend\"\n",
    "print(str_1+str_2)"
   ]
  },
  {
   "cell_type": "code",
   "execution_count": 92,
   "metadata": {},
   "outputs": [
    {
     "data": {
      "text/plain": [
       "'{\"this\":4}'"
      ]
     },
     "execution_count": 92,
     "metadata": {},
     "output_type": "execute_result"
    }
   ],
   "source": [
    "d = input()\n",
    "d"
   ]
  },
  {
   "cell_type": "code",
   "execution_count": 109,
   "metadata": {},
   "outputs": [
    {
     "name": "stdout",
     "output_type": "stream",
     "text": [
      "ca u6\n"
     ]
    }
   ],
   "source": [
    "str_1 = \"ca u\"\n",
    "str_3 = \"6\"\n",
    "print (str_1+str_3)"
   ]
  },
  {
   "cell_type": "code",
   "execution_count": 115,
   "metadata": {},
   "outputs": [
    {
     "name": "stdout",
     "output_type": "stream",
     "text": [
      "this : 3\n",
      "bhalla : 2\n",
      "will : 3\n",
      "destory u : 2\n"
     ]
    }
   ],
   "source": [
    "d = {\"this\":3,\"bhalla\":2,\"will\":3,\"destory u\":2}\n",
    "for i in d:\n",
    "    print(i,\":\",d[i])"
   ]
  },
  {
   "cell_type": "code",
   "execution_count": 118,
   "metadata": {},
   "outputs": [
    {
     "data": {
      "text/plain": [
       "{1, 2, 4}"
      ]
     },
     "execution_count": 118,
     "metadata": {},
     "output_type": "execute_result"
    }
   ],
   "source": [
    "a = {1,2,3,4}\n",
    "b = {4,2,1,5,6,7}\n",
    "a.intersection(b)"
   ]
  },
  {
   "cell_type": "code",
   "execution_count": 119,
   "metadata": {},
   "outputs": [
    {
     "data": {
      "text/plain": [
       "{1, 2, 3, 4, 5, 6, 7}"
      ]
     },
     "execution_count": 119,
     "metadata": {},
     "output_type": "execute_result"
    }
   ],
   "source": [
    "a.union(b)"
   ]
  },
  {
   "cell_type": "code",
   "execution_count": 123,
   "metadata": {},
   "outputs": [
    {
     "data": {
      "text/plain": [
       "{3}"
      ]
     },
     "execution_count": 123,
     "metadata": {},
     "output_type": "execute_result"
    }
   ],
   "source": [
    "a.difference(b)  #a mai hai per b mai nhi hai"
   ]
  },
  {
   "cell_type": "code",
   "execution_count": 127,
   "metadata": {},
   "outputs": [
    {
     "data": {
      "text/plain": [
       "{5, 6, 7}"
      ]
     },
     "execution_count": 127,
     "metadata": {},
     "output_type": "execute_result"
    }
   ],
   "source": [
    "b-a"
   ]
  },
  {
   "cell_type": "code",
   "execution_count": 125,
   "metadata": {},
   "outputs": [
    {
     "data": {
      "text/plain": [
       "{5, 6, 7}"
      ]
     },
     "execution_count": 125,
     "metadata": {},
     "output_type": "execute_result"
    }
   ],
   "source": [
    "b.difference(a)  #b mai hai per a mai nhi hai"
   ]
  },
  {
   "cell_type": "code",
   "execution_count": 329,
   "metadata": {},
   "outputs": [
    {
     "data": {
      "text/plain": [
       "{5, 6, 7}"
      ]
     },
     "execution_count": 329,
     "metadata": {},
     "output_type": "execute_result"
    }
   ],
   "source": [
    "a.symmetric_difference(b)  # not in both but present in a but not in b and vice-versa"
   ]
  },
  {
   "cell_type": "code",
   "execution_count": 131,
   "metadata": {},
   "outputs": [
    {
     "data": {
      "text/plain": [
       "{1, 2, 4}"
      ]
     },
     "execution_count": 131,
     "metadata": {},
     "output_type": "execute_result"
    }
   ],
   "source": [
    "a.intersection_update(b)\n",
    "a"
   ]
  },
  {
   "cell_type": "code",
   "execution_count": 135,
   "metadata": {},
   "outputs": [
    {
     "data": {
      "text/plain": [
       "True"
      ]
     },
     "execution_count": 135,
     "metadata": {},
     "output_type": "execute_result"
    }
   ],
   "source": [
    "a.issubset(b)"
   ]
  },
  {
   "cell_type": "code",
   "execution_count": 138,
   "metadata": {},
   "outputs": [
    {
     "data": {
      "text/plain": [
       "{1, 2, 3, 4, 5, 6, 7, 9}"
      ]
     },
     "execution_count": 138,
     "metadata": {},
     "output_type": "execute_result"
    }
   ],
   "source": [
    "s = {1,2,3,4,5,6,7,3,4}\n",
    "s.add(9)\n",
    "s"
   ]
  },
  {
   "cell_type": "code",
   "execution_count": 142,
   "metadata": {},
   "outputs": [
    {
     "name": "stdout",
     "output_type": "stream",
     "text": [
      "15\n"
     ]
    }
   ],
   "source": [
    "s = {1,2,3,4,4,5}\n",
    "add = 0\n",
    "for i in s:\n",
    "    add = add + i\n",
    "print(add)"
   ]
  },
  {
   "cell_type": "code",
   "execution_count": 148,
   "metadata": {},
   "outputs": [
    {
     "data": {
      "text/plain": [
       "('h', 'a', 'm', 'b', 'u', 'r', 'g')"
      ]
     },
     "execution_count": 148,
     "metadata": {},
     "output_type": "execute_result"
    }
   ],
   "source": [
    "tuple(\"hamburg\")"
   ]
  },
  {
   "cell_type": "code",
   "execution_count": 159,
   "metadata": {},
   "outputs": [
    {
     "data": {
      "text/plain": [
       "(5, 6, 7, 8, 9, 10)"
      ]
     },
     "execution_count": 159,
     "metadata": {},
     "output_type": "execute_result"
    }
   ],
   "source": [
    "t = (1,2,3,4,5,6,7,8,9,10)\n",
    "e = t[-6:]\n",
    "e"
   ]
  },
  {
   "cell_type": "code",
   "execution_count": 163,
   "metadata": {},
   "outputs": [
    {
     "data": {
      "text/plain": [
       "(1, 2, 3, 4, 1, 2, 3, 4)"
      ]
     },
     "execution_count": 163,
     "metadata": {},
     "output_type": "execute_result"
    }
   ],
   "source": [
    "t = (1,2,3,4)\n",
    "e = (t*2)\n",
    "e"
   ]
  },
  {
   "cell_type": "code",
   "execution_count": 331,
   "metadata": {},
   "outputs": [
    {
     "data": {
      "text/plain": [
       "{2, 3, 4, 5}"
      ]
     },
     "execution_count": 331,
     "metadata": {},
     "output_type": "execute_result"
    }
   ],
   "source": [
    "s = {1,2,3,4,5}\n",
    "e = s.pop()\n",
    "s"
   ]
  },
  {
   "cell_type": "code",
   "execution_count": 193,
   "metadata": {},
   "outputs": [
    {
     "name": "stdout",
     "output_type": "stream",
     "text": [
      "{'monday', 'Saturday', 'thursday', 'tuesday', 'wednesday', 'friday'}\n",
      "{'march', 'february', 'june', 'january'}\n",
      "{1, 2, 3, 4, 5, 6}\n"
     ]
    }
   ],
   "source": [
    "days = set([\"monday\",\"tuesday\",\"wednesday\",\"thursday\",\"friday\",\"Saturday\"])\n",
    "months = {\"january\",\"february\",\"march\",\"june\"}\n",
    "date = {1,2,3,4,5,6}\n",
    "print(days)\n",
    "print(months)\n",
    "print(date)"
   ]
  },
  {
   "cell_type": "code",
   "execution_count": 196,
   "metadata": {},
   "outputs": [
    {
     "data": {
      "text/plain": [
       "{'Saturday', 'friday', 'monday', 'sunday', 'thursday', 'tuesday', 'wednesday'}"
      ]
     },
     "execution_count": 196,
     "metadata": {},
     "output_type": "execute_result"
    }
   ],
   "source": [
    "days.add(\"sunday\")\n",
    "days"
   ]
  },
  {
   "cell_type": "code",
   "execution_count": 198,
   "metadata": {},
   "outputs": [
    {
     "data": {
      "text/plain": [
       "{'Saturday', 'friday', 'sunday', 'thursday', 'tuesday', 'wednesday'}"
      ]
     },
     "execution_count": 198,
     "metadata": {},
     "output_type": "execute_result"
    }
   ],
   "source": [
    "days.discard(\"monday\")\n",
    "days"
   ]
  },
  {
   "cell_type": "code",
   "execution_count": 208,
   "metadata": {},
   "outputs": [
    {
     "name": "stdout",
     "output_type": "stream",
     "text": [
      "True\n",
      "True\n"
     ]
    }
   ],
   "source": [
    "number = set([1,2,3,4,5,6,7])\n",
    "number_2 = {1,2,3,4}\n",
    "print(number_2<=number) #superset\n",
    "print(number>=number_2) # subset"
   ]
  },
  {
   "cell_type": "code",
   "execution_count": 205,
   "metadata": {},
   "outputs": [
    {
     "name": "stdout",
     "output_type": "stream",
     "text": [
      "{1, 2, 3, 4, 5, 6, 7, 8, 9}\n",
      "{4, 5}\n"
     ]
    }
   ],
   "source": [
    "number = {1,2,3,4,5}\n",
    "number_2 = {5,4,6,7,8,9}\n",
    "print(number|number_2)\n",
    "print(number&number_2)"
   ]
  },
  {
   "cell_type": "code",
   "execution_count": 229,
   "metadata": {},
   "outputs": [
    {
     "ename": "TypeError",
     "evalue": "'list' object is not callable",
     "output_type": "error",
     "traceback": [
      "\u001b[1;31m---------------------------------------------------------------------------\u001b[0m",
      "\u001b[1;31mTypeError\u001b[0m                                 Traceback (most recent call last)",
      "Cell \u001b[1;32mIn [229], line 1\u001b[0m\n\u001b[1;32m----> 1\u001b[0m row \u001b[39m=\u001b[39m \u001b[39mint\u001b[39m(\u001b[39minput\u001b[39;49m())\n\u001b[0;32m      2\u001b[0m col \u001b[39m=\u001b[39m \u001b[39mint\u001b[39m(\u001b[39minput\u001b[39m())\n\u001b[0;32m      3\u001b[0m input_list \u001b[39m=\u001b[39m \u001b[39minput\u001b[39m()\u001b[39m.\u001b[39msplit()\n",
      "\u001b[1;31mTypeError\u001b[0m: 'list' object is not callable"
     ]
    }
   ],
   "source": [
    "row = int(input())\n",
    "col = int(input())\n",
    "input_list = input().split()\n",
    "my_list = [[int(my_list[i*col+j])for j in range(col)]for i in range (row)]\n",
    "my_list"
   ]
  },
  {
   "cell_type": "code",
   "execution_count": 237,
   "metadata": {},
   "outputs": [
    {
     "name": "stdout",
     "output_type": "stream",
     "text": [
      "fdafdavxyz\n"
     ]
    }
   ],
   "source": [
    "def replace(str,char,char2):\n",
    "    new_string = \"\"\n",
    "    for i in str:\n",
    "        if (i==char):\n",
    "            new_string = new_string + char2\n",
    "        else:\n",
    "            new_string = new_string + i\n",
    "    return new_string\n",
    "\n",
    "str = \"fsafsavxyz\"\n",
    "str = replace(str,\"s\",\"d\")\n",
    "print(str)"
   ]
  },
  {
   "cell_type": "code",
   "execution_count": 62,
   "metadata": {},
   "outputs": [
    {
     "name": "stdout",
     "output_type": "stream",
     "text": [
      "fdafdavxyz\n"
     ]
    }
   ],
   "source": [
    "def replace(str,s,d):\n",
    "    new_string = \"\"\n",
    "    for i in str:\n",
    "        if (i==\"s\"):\n",
    "            new_string = new_string + \"d\"\n",
    "        else:\n",
    "            new_string = new_string + i\n",
    "    return new_string\n",
    "\n",
    "str = \"fsafsavxyz\"\n",
    "str = replace(str,\"s\",\"d\")\n",
    "print(str)"
   ]
  },
  {
   "cell_type": "code",
   "execution_count": 64,
   "metadata": {},
   "outputs": [
    {
     "name": "stdout",
     "output_type": "stream",
     "text": [
      "msysnk shsrms\n"
     ]
    }
   ],
   "source": [
    "def replace(str,a,s):\n",
    "    new_str = \"\"\n",
    "    for i in str:\n",
    "        if i==\"a\":\n",
    "            new_str = new_str + \"s\"\n",
    "        else:\n",
    "            new_str = new_str + i\n",
    "    return new_str\n",
    "\n",
    "str = \"mayank sharma\"\n",
    "str = replace(str,\"a\",\"s\")\n",
    "print(str)"
   ]
  },
  {
   "cell_type": "code",
   "execution_count": 240,
   "metadata": {},
   "outputs": [
    {
     "name": "stdout",
     "output_type": "stream",
     "text": [
      "msysnk shsrms\n"
     ]
    }
   ],
   "source": [
    "def replace(str,a,s):\n",
    "    empty = \"\"\n",
    "    for i in str:\n",
    "        if (i==a):\n",
    "            empty = empty + \"s\"\n",
    "        else:\n",
    "            empty = empty + i\n",
    "    return empty\n",
    "\n",
    "\n",
    "str = \"mayank sharma\"\n",
    "str = replace(str,\"a\",\"s\")\n",
    "print(str)"
   ]
  },
  {
   "cell_type": "code",
   "execution_count": 272,
   "metadata": {},
   "outputs": [
    {
     "name": "stdout",
     "output_type": "stream",
     "text": [
      "(0, 22)\n"
     ]
    }
   ],
   "source": [
    "def count_in_string(c):\n",
    "    count = 0\n",
    "    tount = 0\n",
    "    for i in c:\n",
    "        \n",
    "        if i==\"q,w,e,r,t,y,u,i,o,pl,k,j,h,g,f,d,s,a,z,x,c,v,b,n,m\":\n",
    "            count = count + 1\n",
    "        else:\n",
    "            i==\"!,@,#,$,%,^,&,*,(,)\"\n",
    "            tount = tount + 1\n",
    "    return count , tount\n",
    "\n",
    "c = \"asdfghjkj@ wqerty2!%^&\"\n",
    "e = count_in_string(c)\n",
    "print(e)"
   ]
  },
  {
   "cell_type": "code",
   "execution_count": 262,
   "metadata": {},
   "outputs": [
    {
     "name": "stdout",
     "output_type": "stream",
     "text": [
      "[0, 1, 2]\n"
     ]
    }
   ],
   "source": [
    "x= [i**+1 for i in range(3)]; print(x);"
   ]
  },
  {
   "cell_type": "code",
   "execution_count": 285,
   "metadata": {},
   "outputs": [
    {
     "name": "stdout",
     "output_type": "stream",
     "text": [
      "(4, 5, 1, 8)\n"
     ]
    }
   ],
   "source": [
    "def count_in_string(c):\n",
    "    c,s,v,d = 0,0,0,0\n",
    "    for i in str:\n",
    "        if (i>=\"a\" and i<=\"z\") or (i>=\"A\" and i<=\"Z\"):\n",
    "            \n",
    "            if(i==\"a\" or i==\"e\" or i==\"i\" or i==\"o\" or i==\"u\") or ((i=='A'or i=='E' or i =='I' or i=='O' or i=='U')):\n",
    "                v+=1\n",
    "            else:\n",
    "                c+=1\n",
    "        elif (i>='0' and i<='9'):\n",
    "            d+=1    \n",
    "        else:\n",
    "            s+=1\n",
    "    return c,v,s,d\n",
    "\n",
    "str = \"aeioumynk06112005&\"\n",
    "e = count_in_string(str)\n",
    "print(e)"
   ]
  },
  {
   "cell_type": "code",
   "execution_count": 335,
   "metadata": {},
   "outputs": [
    {
     "name": "stdout",
     "output_type": "stream",
     "text": [
      "60\n"
     ]
    }
   ],
   "source": [
    "list = [10,20,30,40,50,60,70]\n",
    "for i in list:\n",
    "    if (i>50):\n",
    "        list.remove(i)\n",
    "print(i)"
   ]
  },
  {
   "cell_type": "code",
   "execution_count": 336,
   "metadata": {},
   "outputs": [],
   "source": [
    "list = [30,40,50,60,70]"
   ]
  },
  {
   "cell_type": "code",
   "execution_count": 353,
   "metadata": {},
   "outputs": [
    {
     "data": {
      "text/plain": [
       "[30, 40, 50]"
      ]
     },
     "execution_count": 353,
     "metadata": {},
     "output_type": "execute_result"
    }
   ],
   "source": [
    "list_2 = [i for i in list if i <= 50 ] \n",
    "list_2"
   ]
  },
  {
   "cell_type": "code",
   "execution_count": 356,
   "metadata": {},
   "outputs": [
    {
     "name": "stdout",
     "output_type": "stream",
     "text": [
      "a\n"
     ]
    }
   ],
   "source": [
    "def get_max_occuring_char(str1):\n",
    "  ASCII_SIZE = 256\n",
    "  ctr = [0] * ASCII_SIZE\n",
    "  max = 0\n",
    "  ch = ''\n",
    "  for i in str1:\n",
    "    ctr[ord(i)]+=1;\n",
    " \n",
    "  for i in str1:\n",
    "    if max < ctr[ord(i)]:\n",
    "      max = ctr[ord(i)]\n",
    "      ch = i\n",
    "  return ch\n",
    "\n",
    "str1=\"mayank\"\n",
    "print(get_max_occuring_char(str1))"
   ]
  },
  {
   "cell_type": "code",
   "execution_count": 417,
   "metadata": {},
   "outputs": [
    {
     "name": "stdout",
     "output_type": "stream",
     "text": [
      "a\n"
     ]
    }
   ],
   "source": [
    "def get_max(str1):\n",
    "    ascii = 256\n",
    "    ctr = [0] * ascii\n",
    "    max = 0\n",
    "    empty = \"\"\n",
    "    for i in str1:\n",
    "        ctr[ord(i)]+=1\n",
    "    \n",
    "    for i in str1:\n",
    "        if max < ctr[ord(i)]:\n",
    "            max = ctr[ord(i)]\n",
    "            empty = i\n",
    "    return empty\n",
    "str1=\"mayank\"\n",
    "print(get_max(str1))"
   ]
  },
  {
   "cell_type": "code",
   "execution_count": 359,
   "metadata": {},
   "outputs": [
    {
     "data": {
      "text/plain": [
       "tuple"
      ]
     },
     "execution_count": 359,
     "metadata": {},
     "output_type": "execute_result"
    }
   ],
   "source": [
    "e = (1,3)\n",
    "type(e)"
   ]
  },
  {
   "cell_type": "code",
   "execution_count": 361,
   "metadata": {},
   "outputs": [
    {
     "data": {
      "text/plain": [
       "(1, 2, 3, 5, 6, 7)"
      ]
     },
     "execution_count": 361,
     "metadata": {},
     "output_type": "execute_result"
    }
   ],
   "source": [
    "t = (1,2,3)\n",
    "t_2 = (5,6,7)\n",
    "sum = t+t_2\n",
    "sum"
   ]
  },
  {
   "cell_type": "code",
   "execution_count": 362,
   "metadata": {},
   "outputs": [
    {
     "data": {
      "text/plain": [
       "4"
      ]
     },
     "execution_count": 362,
     "metadata": {},
     "output_type": "execute_result"
    }
   ],
   "source": [
    "set = {1,2,3,4,1,2,3,4}\n",
    "len(set)"
   ]
  },
  {
   "cell_type": "code",
   "execution_count": 389,
   "metadata": {},
   "outputs": [
    {
     "name": "stdout",
     "output_type": "stream",
     "text": [
      "abcbc\n"
     ]
    }
   ],
   "source": [
    "str = \"aaabcccbbbbccc\"\n",
    "str_2 = \"\"\n",
    "for i in str:\n",
    "    if str_2 == \"\" or i!= str_2[len(str_2)-1]:\n",
    "        str_2 += i\n",
    "print(str_2)"
   ]
  },
  {
   "cell_type": "code",
   "execution_count": 399,
   "metadata": {},
   "outputs": [
    {
     "name": "stdout",
     "output_type": "stream",
     "text": [
      "abcbca\n"
     ]
    }
   ],
   "source": [
    "str = \"aaabcccbcca\"\n",
    "s = \"\"\n",
    "for i in str:\n",
    "    if s == \"\" or i!=s[len(s)-1]:\n",
    "        s +=i\n",
    "print(s)"
   ]
  },
  {
   "cell_type": "code",
   "execution_count": 400,
   "metadata": {},
   "outputs": [
    {
     "name": "stdout",
     "output_type": "stream",
     "text": [
      "maynk shr\n"
     ]
    }
   ],
   "source": [
    "s = \"mayank shaarma\"\n",
    "s_new = \"\"\n",
    "x = 0\n",
    "for i in s:\n",
    "    if (s.index(i)==x):\n",
    "        s_new+=i\n",
    "    x+=1\n",
    "print(s_new)"
   ]
  },
  {
   "cell_type": "code",
   "execution_count": 414,
   "metadata": {},
   "outputs": [
    {
     "name": "stdout",
     "output_type": "stream",
     "text": [
      "emoclew ot sajnin gnidoc "
     ]
    }
   ],
   "source": [
    "str = \"welcome to ninjas coding\"\n",
    "e = str.split()\n",
    "for i in e:\n",
    "    w=i[::-1]\n",
    "    print(w,end=\" \")"
   ]
  },
  {
   "cell_type": "code",
   "execution_count": 415,
   "metadata": {},
   "outputs": [
    {
     "ename": "TypeError",
     "evalue": "'list' object is not callable",
     "output_type": "error",
     "traceback": [
      "\u001b[1;31m---------------------------------------------------------------------------\u001b[0m",
      "\u001b[1;31mTypeError\u001b[0m                                 Traceback (most recent call last)",
      "Cell \u001b[1;32mIn [415], line 1\u001b[0m\n\u001b[1;32m----> 1\u001b[0m \u001b[39mstr\u001b[39m \u001b[39m=\u001b[39m \u001b[39minput\u001b[39;49m()\u001b[39m.\u001b[39mslit()\n\u001b[0;32m      2\u001b[0m n,m \u001b[39m=\u001b[39m \u001b[39mint\u001b[39m(\u001b[39mstr\u001b[39m[\u001b[39m0\u001b[39m]),\u001b[39mint\u001b[39m(\u001b[39mstr\u001b[39m[\u001b[39m1\u001b[39m])\n\u001b[0;32m      3\u001b[0m li \u001b[39m=\u001b[39m [[\u001b[39mint\u001b[39m(j) \u001b[39mfor\u001b[39;00m j \u001b[39min\u001b[39;00m \u001b[39minput\u001b[39m()\u001b[39m.\u001b[39msplit()]\u001b[39mfor\u001b[39;00m i \u001b[39min\u001b[39;00m \u001b[39mrange\u001b[39m(n)]\n",
      "\u001b[1;31mTypeError\u001b[0m: 'list' object is not callable"
     ]
    }
   ],
   "source": [
    "str = input().slit()\n",
    "n,m = int(str[0]),int(str[1])\n",
    "li = [[int(j) for j in input().split()]for i in range(n)]\n",
    "li"
   ]
  },
  {
   "cell_type": "code",
   "execution_count": 418,
   "metadata": {},
   "outputs": [
    {
     "name": "stdout",
     "output_type": "stream",
     "text": [
      "mynk shrm\n"
     ]
    }
   ],
   "source": [
    "str= \"mayank sharma\"\n",
    "print(str.replace(\"a\",''))"
   ]
  },
  {
   "cell_type": "code",
   "execution_count": 420,
   "metadata": {},
   "outputs": [
    {
     "ename": "TypeError",
     "evalue": "'list' object is not callable",
     "output_type": "error",
     "traceback": [
      "\u001b[1;31m---------------------------------------------------------------------------\u001b[0m",
      "\u001b[1;31mTypeError\u001b[0m                                 Traceback (most recent call last)",
      "Cell \u001b[1;32mIn [420], line 1\u001b[0m\n\u001b[1;32m----> 1\u001b[0m \u001b[39mstr\u001b[39m \u001b[39m=\u001b[39m \u001b[39minput\u001b[39;49m(\u001b[39m\"\u001b[39;49m\u001b[39m\"\u001b[39;49m)\u001b[39m.\u001b[39msplit()\n\u001b[0;32m      2\u001b[0m a \u001b[39m=\u001b[39m \u001b[39mint\u001b[39m(\u001b[39minput\u001b[39m())\n\u001b[0;32m      3\u001b[0m \u001b[39mfor\u001b[39;00m i \u001b[39min\u001b[39;00m \u001b[39mstr\u001b[39m :\n",
      "\u001b[1;31mTypeError\u001b[0m: 'list' object is not callable"
     ]
    }
   ],
   "source": [
    "str = input(\"\").split()\n",
    "a = int(input())\n",
    "for i in str :\n",
    "    x = print(i[a],end=\"\")"
   ]
  },
  {
   "cell_type": "code",
   "execution_count": 29,
   "metadata": {},
   "outputs": [
    {
     "name": "stdout",
     "output_type": "stream",
     "text": [
      "true\n"
     ]
    }
   ],
   "source": [
    "def are_permutation(str1,str2):\n",
    "    n = len(str1)\n",
    "    m = len(str2)\n",
    "    if n!=m:\n",
    "        return False\n",
    "\n",
    "    a = sorted(str1)\n",
    "    str1 = \"\".join(a)\n",
    "    b = sorted(str2)\n",
    "    str2 = \"\".join(b)\n",
    "\n",
    "    for i in range(n):\n",
    "        for j in range(n):\n",
    "            if str1[i]==str2[j]:\n",
    "                return True\n",
    "\n",
    "    return False\n",
    "\n",
    "str1 = \"mayank\"\n",
    "str2 = \"knaaym\"\n",
    "if are_permutation(str1,str2):\n",
    "    print(\"true\")\n",
    "else:\n",
    "    print(\"false\")\n",
    "\n"
   ]
  },
  {
   "cell_type": "code",
   "execution_count": 56,
   "metadata": {},
   "outputs": [
    {
     "name": "stdout",
     "output_type": "stream",
     "text": [
      "emoclew ot gnidoc sajnin "
     ]
    }
   ],
   "source": [
    "str  = \"welcome to coding ninjas\"\n",
    "e = str.split()\n",
    "for i in e:\n",
    "    i = i[::-1]\n",
    "    print(i,end=\" \")"
   ]
  },
  {
   "cell_type": "code",
   "execution_count": 58,
   "metadata": {},
   "outputs": [
    {
     "name": "stdout",
     "output_type": "stream",
     "text": [
      "['asdfcgvhbv']\n"
     ]
    }
   ],
   "source": [
    "str = \"asdfcgvhbv\"\n",
    "str3=str.split()\n",
    "type(str3)\n",
    "print(str3)"
   ]
  },
  {
   "cell_type": "code",
   "execution_count": 85,
   "metadata": {},
   "outputs": [
    {
     "name": "stdout",
     "output_type": "stream",
     "text": [
      "true\n"
     ]
    }
   ],
   "source": [
    "def checkFib(n):\n",
    "    if n==1 or n==0:\n",
    "        return True\n",
    "    a = 1\n",
    "    b = 1\n",
    "    while a<n:\n",
    "        a, b = a+b, a\n",
    "    if a==n:\n",
    "        return True\n",
    "    return False\n",
    "\n",
    "n = int(input())\n",
    "if checkFib(n):\n",
    "    print(\"true\")\n",
    "else:\n",
    "    print(\"false\")"
   ]
  },
  {
   "cell_type": "code",
   "execution_count": 91,
   "metadata": {},
   "outputs": [
    {
     "name": "stdout",
     "output_type": "stream",
     "text": [
      "0\n",
      "1\n",
      "1\n",
      "2\n",
      "3\n",
      "5\n",
      "8\n",
      "13\n",
      "21\n",
      "34\n"
     ]
    }
   ],
   "source": [
    "def fibo(n):\n",
    "    a = 0\n",
    "    b = 1\n",
    "    print(a)\n",
    "    print(b)\n",
    "    for i in range(2,n):\n",
    "        c = a + b\n",
    "        a = b\n",
    "        b = c\n",
    "        print(c)\n",
    "fibo(10)"
   ]
  },
  {
   "cell_type": "code",
   "execution_count": 103,
   "metadata": {},
   "outputs": [
    {
     "name": "stdout",
     "output_type": "stream",
     "text": [
      "Armstrong\n"
     ]
    }
   ],
   "source": [
    "i = int(input())\n",
    "original = i\n",
    "sum = 0\n",
    "while i>0:\n",
    "    sum = sum+(i%10)*(i%10)*(i%10)*(i%10)\n",
    "    i = i//10\n",
    "\n",
    "if original == sum:\n",
    "    print(\"Armstrong\")\n",
    "else:\n",
    "    print(\"Not Armstrong\")"
   ]
  },
  {
   "cell_type": "code",
   "execution_count": 107,
   "metadata": {},
   "outputs": [
    {
     "ename": "TypeError",
     "evalue": "object of type 'int' has no len()",
     "output_type": "error",
     "traceback": [
      "\u001b[1;31m---------------------------------------------------------------------------\u001b[0m",
      "\u001b[1;31mTypeError\u001b[0m                                 Traceback (most recent call last)",
      "Cell \u001b[1;32mIn [107], line 17\u001b[0m\n\u001b[0;32m     14\u001b[0m         \u001b[39mreturn\u001b[39;00m \u001b[39mFalse\u001b[39;00m\n\u001b[0;32m     16\u001b[0m n \u001b[39m=\u001b[39m \u001b[39mint\u001b[39m(\u001b[39minput\u001b[39m())\n\u001b[1;32m---> 17\u001b[0m armstrong(n)\n",
      "Cell \u001b[1;32mIn [107], line 2\u001b[0m, in \u001b[0;36marmstrong\u001b[1;34m(n)\u001b[0m\n\u001b[0;32m      1\u001b[0m \u001b[39mdef\u001b[39;00m \u001b[39marmstrong\u001b[39m(n):\n\u001b[1;32m----> 2\u001b[0m     order \u001b[39m=\u001b[39m \u001b[39mlen\u001b[39;49m(n)\n\u001b[0;32m      3\u001b[0m     \u001b[39msum\u001b[39m \u001b[39m=\u001b[39m \u001b[39m0\u001b[39m\n\u001b[0;32m      5\u001b[0m     original \u001b[39m=\u001b[39m n\n",
      "\u001b[1;31mTypeError\u001b[0m: object of type 'int' has no len()"
     ]
    }
   ],
   "source": [
    "def armstrong(n):\n",
    "    order = len(n)\n",
    "    sum = 0\n",
    "\n",
    "    original = n\n",
    "    while n>0:\n",
    "        digit = num%10\n",
    "        sum += digit ** order\n",
    "        n = n//10\n",
    "\n",
    "    if sum == original:\n",
    "        return True\n",
    "    else:\n",
    "        return False\n",
    "\n",
    "n = int(input())\n",
    "armstrong(n)"
   ]
  }
 ],
 "metadata": {
  "kernelspec": {
   "display_name": "Python 3.10.8 64-bit (microsoft store)",
   "language": "python",
   "name": "python3"
  },
  "language_info": {
   "codemirror_mode": {
    "name": "ipython",
    "version": 3
   },
   "file_extension": ".py",
   "mimetype": "text/x-python",
   "name": "python",
   "nbconvert_exporter": "python",
   "pygments_lexer": "ipython3",
   "version": "3.10.9 (tags/v3.10.9:1dd9be6, Dec  6 2022, 20:01:21) [MSC v.1934 64 bit (AMD64)]"
  },
  "orig_nbformat": 4,
  "vscode": {
   "interpreter": {
    "hash": "80c318d97dd7b7f214ce67664e2d0190d59ffb0e5749b830a316645587cc9c9e"
   }
  }
 },
 "nbformat": 4,
 "nbformat_minor": 2
}
