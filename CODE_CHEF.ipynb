{
 "cells": [
  {
   "cell_type": "code",
   "execution_count": 1,
   "metadata": {},
   "outputs": [
    {
     "name": "stdout",
     "output_type": "stream",
     "text": [
      "Yes\n",
      "No\n",
      "No\n"
     ]
    }
   ],
   "source": [
    "# CODE CHEF\n",
    "# cook your dish here\n",
    "for i in range(int(input())):\n",
    "    a = int(input())\n",
    "    if (a%2==0):\n",
    "        print(\"Yes\")\n",
    "    else:\n",
    "        print(\"No\")"
   ]
  },
  {
   "cell_type": "code",
   "execution_count": 3,
   "metadata": {},
   "outputs": [
    {
     "name": "stdout",
     "output_type": "stream",
     "text": [
      "60\n",
      "75\n"
     ]
    }
   ],
   "source": [
    "for i in range(int(input())):\n",
    "    a = int(input())\n",
    "    m = a*15\n",
    "    print(m)"
   ]
  },
  {
   "cell_type": "code",
   "execution_count": 2,
   "metadata": {},
   "outputs": [
    {
     "name": "stdout",
     "output_type": "stream",
     "text": [
      "No\n",
      "yes\n",
      "No\n"
     ]
    }
   ],
   "source": [
    "for i in range(int(input())):\n",
    "    r1,r2,r3 = map(int,input().split())\n",
    "    if r1 > r2+r3 or r2 > r3+r1 or r3 > r1+r2:\n",
    "        print(\"yes\")\n",
    "    else:\n",
    "        print(\"No\") "
   ]
  },
  {
   "cell_type": "code",
   "execution_count": 2,
   "metadata": {},
   "outputs": [
    {
     "name": "stdout",
     "output_type": "stream",
     "text": [
      "12\n",
      "2\n"
     ]
    }
   ],
   "source": [
    "for i in range(int(input())):\n",
    "    n,m = map(int,input().split())\n",
    "    m = n-m\n",
    "    if m>0:\n",
    "        print(n+m)\n",
    "    else:\n",
    "        print(n)"
   ]
  },
  {
   "cell_type": "code",
   "execution_count": 1,
   "metadata": {},
   "outputs": [
    {
     "name": "stdout",
     "output_type": "stream",
     "text": [
      "Alice\n",
      "Bob\n"
     ]
    }
   ],
   "source": [
    "prime=[1,2,3,5,7,11]\n",
    "N=int(input())\n",
    "for i in range(N):\n",
    "    a,b=map(int,input().split())\n",
    "    add=a+b\n",
    "    if add in prime:\n",
    "        print(\"Alice\")\n",
    "    else:\n",
    "        print('Bob')\n",
    "        "
   ]
  },
  {
   "cell_type": "code",
   "execution_count": 15,
   "metadata": {},
   "outputs": [
    {
     "name": "stdout",
     "output_type": "stream",
     "text": [
      "ollehymemansiknayam"
     ]
    }
   ],
   "source": [
    "n = \"hello my name is mayank\"\n",
    "n = n.split()\n",
    "for i in n:\n",
    "    i = i[::-1]\n",
    "    print(i,end=\"\")\n",
    "  \n"
   ]
  },
  {
   "cell_type": "code",
   "execution_count": 6,
   "metadata": {},
   "outputs": [
    {
     "name": "stdout",
     "output_type": "stream",
     "text": [
      "emoclew ot gnidoc sajnin ? "
     ]
    }
   ],
   "source": [
    "n = input()\n",
    "n = n.split()\n",
    "for i in n:\n",
    "    i = i[::-1]\n",
    "    print(i, end=\" \")"
   ]
  },
  {
   "cell_type": "code",
   "execution_count": 1,
   "metadata": {},
   "outputs": [
    {
     "name": "stdout",
     "output_type": "stream",
     "text": [
      "My name is mayank\n"
     ]
    }
   ],
   "source": [
    "str = \"my name is mayank\"\n",
    "print(str.capitalize())"
   ]
  },
  {
   "cell_type": "code",
   "execution_count": 41,
   "metadata": {},
   "outputs": [
    {
     "name": "stdout",
     "output_type": "stream",
     "text": [
      "bbcc\n"
     ]
    }
   ],
   "source": [
    "def remove_char(str,ch):\n",
    "    print(str.replace(ch,''))\n",
    "    \n",
    "\n",
    "\n",
    "str = \"baabcc\"\n",
    "ch = \"a\"\n",
    "#str = str.split()\n",
    "w = remove_char(str,ch)\n",
    "w"
   ]
  }
 ],
 "metadata": {
  "kernelspec": {
   "display_name": "Python 3.10.8 64-bit (microsoft store)",
   "language": "python",
   "name": "python3"
  },
  "language_info": {
   "codemirror_mode": {
    "name": "ipython",
    "version": 3
   },
   "file_extension": ".py",
   "mimetype": "text/x-python",
   "name": "python",
   "nbconvert_exporter": "python",
   "pygments_lexer": "ipython3",
   "version": "3.10.8"
  },
  "orig_nbformat": 4,
  "vscode": {
   "interpreter": {
    "hash": "80c318d97dd7b7f214ce67664e2d0190d59ffb0e5749b830a316645587cc9c9e"
   }
  }
 },
 "nbformat": 4,
 "nbformat_minor": 2
}
