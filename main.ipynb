{
 "cells": [
  {
   "cell_type": "code",
   "execution_count": 1,
   "metadata": {},
   "outputs": [
    {
     "name": "stdout",
     "output_type": "stream",
     "text": [
      "8\n"
     ]
    }
   ],
   "source": [
    "print(8)"
   ]
  },
  {
   "cell_type": "code",
   "execution_count": 2,
   "metadata": {},
   "outputs": [
    {
     "data": {
      "text/plain": [
       "['__add__',\n",
       " '__class__',\n",
       " '__class_getitem__',\n",
       " '__contains__',\n",
       " '__delattr__',\n",
       " '__delitem__',\n",
       " '__dir__',\n",
       " '__doc__',\n",
       " '__eq__',\n",
       " '__format__',\n",
       " '__ge__',\n",
       " '__getattribute__',\n",
       " '__getitem__',\n",
       " '__gt__',\n",
       " '__hash__',\n",
       " '__iadd__',\n",
       " '__imul__',\n",
       " '__init__',\n",
       " '__init_subclass__',\n",
       " '__iter__',\n",
       " '__le__',\n",
       " '__len__',\n",
       " '__lt__',\n",
       " '__mul__',\n",
       " '__ne__',\n",
       " '__new__',\n",
       " '__reduce__',\n",
       " '__reduce_ex__',\n",
       " '__repr__',\n",
       " '__reversed__',\n",
       " '__rmul__',\n",
       " '__setattr__',\n",
       " '__setitem__',\n",
       " '__sizeof__',\n",
       " '__str__',\n",
       " '__subclasshook__',\n",
       " 'append',\n",
       " 'clear',\n",
       " 'copy',\n",
       " 'count',\n",
       " 'extend',\n",
       " 'index',\n",
       " 'insert',\n",
       " 'pop',\n",
       " 'remove',\n",
       " 'reverse',\n",
       " 'sort']"
      ]
     },
     "execution_count": 2,
     "metadata": {},
     "output_type": "execute_result"
    }
   ],
   "source": [
    "dir(list)"
   ]
  },
  {
   "cell_type": "code",
   "execution_count": null,
   "metadata": {},
   "outputs": [],
   "source": []
  },
  {
   "cell_type": "code",
   "execution_count": 45,
   "metadata": {},
   "outputs": [
    {
     "name": "stdout",
     "output_type": "stream",
     "text": [
      "mayank sharma op in the chat\n"
     ]
    }
   ],
   "source": [
    "print(\"mayank sharma op in the chat\")"
   ]
  },
  {
   "cell_type": "code",
   "execution_count": 47,
   "metadata": {},
   "outputs": [
    {
     "data": {
      "text/plain": [
       "167890123455"
      ]
     },
     "execution_count": 47,
     "metadata": {},
     "output_type": "execute_result"
    }
   ],
   "source": [
    "def add(a,b):\n",
    "    return(a+b)\n",
    "add (4,1)"
   ]
  },
  {
   "cell_type": "code",
   "execution_count": 2,
   "metadata": {},
   "outputs": [
    {
     "data": {
      "text/plain": [
       "120"
      ]
     },
     "execution_count": 2,
     "metadata": {},
     "output_type": "execute_result"
    }
   ],
   "source": [
    "def fact(n):\n",
    "    if (n==1):\n",
    "        return 1\n",
    "    else:\n",
    "        return(n*fact(n-1))\n",
    "    \n",
    "fact(int(input()))"
   ]
  },
  {
   "cell_type": "code",
   "execution_count": 5,
   "metadata": {},
   "outputs": [
    {
     "data": {
      "text/plain": [
       "55"
      ]
     },
     "execution_count": 5,
     "metadata": {},
     "output_type": "execute_result"
    }
   ],
   "source": [
    "def add(n):\n",
    "    if (n==1):\n",
    "        return(1)\n",
    "    elif(n==0):\n",
    "        return 0\n",
    "    else:\n",
    "        return(n+add(n-1))\n",
    "\n",
    "add(10)\n"
   ]
  },
  {
   "cell_type": "code",
   "execution_count": 6,
   "metadata": {},
   "outputs": [
    {
     "name": "stdout",
     "output_type": "stream",
     "text": [
      "64\n"
     ]
    }
   ],
   "source": [
    "def power(n, p):\n",
    "    if p == 0:\n",
    "        return 1\n",
    "    elif p == 1:\n",
    "        return n\n",
    "    else:\n",
    "        return (n*power(n, p-1))\n",
    "n = 2\n",
    "p = 6\n",
    "print(power(n, p))"
   ]
  },
  {
   "cell_type": "code",
   "execution_count": 41,
   "metadata": {},
   "outputs": [
    {
     "name": "stdout",
     "output_type": "stream",
     "text": [
      "[1, 4, 9, 16]\n"
     ]
    },
    {
     "data": {
      "text/plain": [
       "1774399135808"
      ]
     },
     "execution_count": 41,
     "metadata": {},
     "output_type": "execute_result"
    }
   ],
   "source": [
    "li = [1,2,3,4]\n",
    "li2 = []\n",
    "for i in li:\n",
    "    li2.append(i**2)\n",
    "print(li2)\n",
    "id(li2)"
   ]
  },
  {
   "cell_type": "code",
   "execution_count": 47,
   "metadata": {},
   "outputs": [
    {
     "data": {
      "text/plain": [
       "[1, 4, 9, 16]"
      ]
     },
     "execution_count": 47,
     "metadata": {},
     "output_type": "execute_result"
    }
   ],
   "source": [
    "li_2 = [i**2 for i in li]\n",
    "li_2"
   ]
  },
  {
   "cell_type": "code",
   "execution_count": 49,
   "metadata": {},
   "outputs": [
    {
     "data": {
      "text/plain": [
       "[4, 16]"
      ]
     },
     "execution_count": 49,
     "metadata": {},
     "output_type": "execute_result"
    }
   ],
   "source": [
    "li_2 = [i**2 for i in li if i%2==0]\n",
    "li_2"
   ]
  },
  {
   "cell_type": "code",
   "execution_count": 54,
   "metadata": {},
   "outputs": [
    {
     "name": "stdout",
     "output_type": "stream",
     "text": [
      "[6]\n"
     ]
    }
   ],
   "source": [
    "li = [1,2,3,4,5,6,7,8,9]\n",
    "li_new = []\n",
    "for i in li:\n",
    "    if(i%2==0 and i%3==0):\n",
    "        li_new.append(i)\n",
    "        break\n",
    "else:\n",
    "    print(\"not divisible by 2 and 3\")\n",
    "print(li_new)\n"
   ]
  },
  {
   "cell_type": "code",
   "execution_count": 56,
   "metadata": {},
   "outputs": [
    {
     "data": {
      "text/plain": [
       "[1, 2, 3, 4, 5, 6, 7, 8, 9]"
      ]
     },
     "execution_count": 56,
     "metadata": {},
     "output_type": "execute_result"
    }
   ],
   "source": [
    "li"
   ]
  },
  {
   "cell_type": "code",
   "execution_count": 58,
   "metadata": {},
   "outputs": [
    {
     "name": "stdout",
     "output_type": "stream",
     "text": [
      "[6]\n"
     ]
    }
   ],
   "source": [
    "li2 = [i for i in li if i%2==0 and i%3==0]\n",
    "print(li2)"
   ]
  },
  {
   "cell_type": "code",
   "execution_count": 67,
   "metadata": {},
   "outputs": [
    {
     "data": {
      "text/plain": [
       "['p', 'a', 'r', 'i', 'k', 'h']"
      ]
     },
     "execution_count": 67,
     "metadata": {},
     "output_type": "execute_result"
    }
   ],
   "source": [
    "s = \"parikh\"\n",
    "li = [i for i in s]\n",
    "li"
   ]
  },
  {
   "cell_type": "code",
   "execution_count": 69,
   "metadata": {},
   "outputs": [
    {
     "name": "stdout",
     "output_type": "stream",
     "text": [
      "[['p', 'a', 'r', 'i', 'k', 'h'], ['r', 'o', 'h', 'a', 'n'], ['m', 'a', 'y', 'a', 'n', 'k']]\n"
     ]
    }
   ],
   "source": [
    "li = [\"parikh\",\"rohan\",\"mayank\"]\n",
    "li2 = [[s for s in i ] for i in li]\n",
    "print(li2)"
   ]
  },
  {
   "cell_type": "code",
   "execution_count": 71,
   "metadata": {},
   "outputs": [
    {
     "name": "stdout",
     "output_type": "stream",
     "text": [
      "[[0, 0, 0, 0], [0, 1, 2, 3], [0, 2, 4, 6]]\n"
     ]
    }
   ],
   "source": [
    "li = [[ i*j for j in range(4)] for i in range(3)]\n",
    "print(li)"
   ]
  },
  {
   "cell_type": "code",
   "execution_count": 72,
   "metadata": {},
   "outputs": [],
   "source": [
    "li = [4,5,6,7,8]\n",
    "list_new = [3,4,5,2,1]\n",
    "list3 = []"
   ]
  },
  {
   "cell_type": "code",
   "execution_count": 74,
   "metadata": {},
   "outputs": [
    {
     "data": {
      "text/plain": [
       "[4, 5]"
      ]
     },
     "execution_count": 74,
     "metadata": {},
     "output_type": "execute_result"
    }
   ],
   "source": [
    "list3 = [i for i in li for j in list_new if i==j]\n",
    "list3"
   ]
  },
  {
   "cell_type": "code",
   "execution_count": 1,
   "metadata": {},
   "outputs": [],
   "source": [
    "li = [1,2,3,4,5]\n",
    "li2 = [2,3,4,7,8]\n",
    "li3 = []"
   ]
  },
  {
   "cell_type": "code",
   "execution_count": 3,
   "metadata": {},
   "outputs": [
    {
     "name": "stdout",
     "output_type": "stream",
     "text": [
      "[2, 3, 4]\n"
     ]
    }
   ],
   "source": [
    "li3  = [i for i in li for j in li2 if i == j]\n",
    "print(li3)"
   ]
  },
  {
   "cell_type": "code",
   "execution_count": 1,
   "metadata": {},
   "outputs": [],
   "source": [
    "li = [1,2,3,4,5]\n",
    "li3 = []"
   ]
  },
  {
   "cell_type": "code",
   "execution_count": 3,
   "metadata": {},
   "outputs": [
    {
     "name": "stdout",
     "output_type": "stream",
     "text": [
      "[2, 4]\n"
     ]
    }
   ],
   "source": [
    "li3 = [i for i in li if i%2==0]\n",
    "print(li3)"
   ]
  },
  {
   "cell_type": "code",
   "execution_count": 4,
   "metadata": {},
   "outputs": [],
   "source": [
    "li = [1,2,3,4,5]\n",
    "li2 = [2,3,4,7,8]\n",
    "li3 = []"
   ]
  },
  {
   "cell_type": "code",
   "execution_count": 5,
   "metadata": {},
   "outputs": [
    {
     "name": "stdout",
     "output_type": "stream",
     "text": [
      "[4, 6, 8]\n"
     ]
    }
   ],
   "source": [
    "li3  = [i + j for i in li for j in li2 if i == j]\n",
    "print(li3)"
   ]
  },
  {
   "cell_type": "code",
   "execution_count": 91,
   "metadata": {},
   "outputs": [
    {
     "data": {
      "text/plain": [
       "['Hii',\n",
       " 'My',\n",
       " 'Name',\n",
       " 'Is',\n",
       " 'Mayank,I',\n",
       " 'Welcome',\n",
       " 'My',\n",
       " 'Self',\n",
       " 'To',\n",
       " 'The',\n",
       " 'World',\n",
       " 'Of',\n",
       " 'Python']"
      ]
     },
     "execution_count": 91,
     "metadata": {},
     "output_type": "execute_result"
    }
   ],
   "source": [
    "new = \"Hii My Name Is Mayank,I Welcome My Self To The World Of Python\"\n",
    "new.split()"
   ]
  },
  {
   "cell_type": "code",
   "execution_count": 92,
   "metadata": {},
   "outputs": [],
   "source": [
    "list =[\"Hii My Name Is Mayank\"]"
   ]
  },
  {
   "cell_type": "code",
   "execution_count": 98,
   "metadata": {},
   "outputs": [],
   "source": [
    "list_new = [str(i) for i in list ]"
   ]
  },
  {
   "cell_type": "code",
   "execution_count": 99,
   "metadata": {},
   "outputs": [
    {
     "data": {
      "text/plain": [
       "['Hii My Name Is Mayank']"
      ]
     },
     "execution_count": 99,
     "metadata": {},
     "output_type": "execute_result"
    }
   ],
   "source": [
    "list_new"
   ]
  },
  {
   "cell_type": "code",
   "execution_count": 102,
   "metadata": {},
   "outputs": [
    {
     "data": {
      "text/plain": [
       "['7']"
      ]
     },
     "execution_count": 102,
     "metadata": {},
     "output_type": "execute_result"
    }
   ],
   "source": [
    "str = input().split()\n",
    "str"
   ]
  },
  {
   "cell_type": "code",
   "execution_count": 109,
   "metadata": {},
   "outputs": [
    {
     "data": {
      "text/plain": [
       "['34647']"
      ]
     },
     "execution_count": 109,
     "metadata": {},
     "output_type": "execute_result"
    }
   ],
   "source": [
    "str = input().split()\n",
    "str\n"
   ]
  },
  {
   "cell_type": "code",
   "execution_count": 17,
   "metadata": {},
   "outputs": [
    {
     "data": {
      "text/plain": [
       "['\"my n', 'me is m', 'y', 'nk sh', 'rm', '']"
      ]
     },
     "execution_count": 17,
     "metadata": {},
     "output_type": "execute_result"
    }
   ],
   "source": [
    "#str_2 = [\"hii my name is mayank sharma\"]\n",
    "str_2 = input().split(\"a\")\n",
    "str_2"
   ]
  },
  {
   "cell_type": "code",
   "execution_count": 1,
   "metadata": {},
   "outputs": [
    {
     "name": "stdout",
     "output_type": "stream",
     "text": [
      "5\n"
     ]
    }
   ],
   "source": [
    "n = int(input())\n",
    "print(n)"
   ]
  },
  {
   "cell_type": "code",
   "execution_count": 6,
   "metadata": {},
   "outputs": [
    {
     "name": "stdout",
     "output_type": "stream",
     "text": [
      "1\n"
     ]
    }
   ],
   "source": [
    "a = int(input())\n",
    "b = int(input())\n",
    "c = a - b\n",
    "print(c)"
   ]
  },
  {
   "cell_type": "markdown",
   "metadata": {},
   "source": [
    "*\n",
    "**\n",
    "***\n",
    "****"
   ]
  },
  {
   "cell_type": "code",
   "execution_count": 14,
   "metadata": {},
   "outputs": [
    {
     "name": "stdout",
     "output_type": "stream",
     "text": [
      "*\n",
      "**\n",
      "***\n",
      "****\n",
      "*****\n"
     ]
    }
   ],
   "source": [
    "n = int(input())\n",
    "for i in range(1,n+1):\n",
    "    for j in range(i):\n",
    "        print(\"*\",end=\"\")\n",
    "    print()"
   ]
  },
  {
   "cell_type": "markdown",
   "metadata": {},
   "source": [
    "n = int(input())\n",
    "for i in range(1,n+1):\n",
    "    for j in range(i):\n",
    "        print(j,end=\"\")\n",
    "    print()"
   ]
  },
  {
   "cell_type": "code",
   "execution_count": 24,
   "metadata": {},
   "outputs": [
    {
     "name": "stdout",
     "output_type": "stream",
     "text": [
      "55555\n",
      "55555\n",
      "55555\n",
      "55555\n",
      "55555\n"
     ]
    }
   ],
   "source": [
    "n = int(input())\n",
    "for i in range(1,n+1):\n",
    "    for j in range(n):\n",
    "        print(n,end=\"\")\n",
    "    print()"
   ]
  },
  {
   "cell_type": "code",
   "execution_count": 22,
   "metadata": {},
   "outputs": [
    {
     "name": "stdout",
     "output_type": "stream",
     "text": [
      "\n",
      "\n",
      "5\n",
      "55\n",
      "555\n"
     ]
    }
   ],
   "source": [
    "n = int(input())\n",
    "for i in range(1,n+1):\n",
    "    for j in range(2,i-1):\n",
    "        print(n,end=\"\")\n",
    "    print()"
   ]
  },
  {
   "cell_type": "code",
   "execution_count": 12,
   "metadata": {},
   "outputs": [
    {
     "name": "stdout",
     "output_type": "stream",
     "text": [
      "120\n"
     ]
    }
   ],
   "source": [
    "n = int(input()) \n",
    "fact = 1\n",
    "for i in range(1,n+1):\n",
    "    fact = fact * i\n",
    "print(fact)"
   ]
  },
  {
   "cell_type": "code",
   "execution_count": 13,
   "metadata": {},
   "outputs": [
    {
     "name": "stdout",
     "output_type": "stream",
     "text": [
      "not a prime number\n"
     ]
    }
   ],
   "source": [
    "n = int(input())\n",
    "for i in range(2,n):\n",
    "    if(n%2==0):\n",
    "        print(\"not a prime number\")\n",
    "        break\n",
    "else:\n",
    "    print(\"is a prime number\")"
   ]
  },
  {
   "cell_type": "code",
   "execution_count": 3,
   "metadata": {},
   "outputs": [
    {
     "name": "stdout",
     "output_type": "stream",
     "text": [
      "1685523006736\n"
     ]
    }
   ],
   "source": [
    "a = 34\n",
    "print(id(a))"
   ]
  },
  {
   "cell_type": "code",
   "execution_count": 4,
   "metadata": {},
   "outputs": [
    {
     "name": "stdout",
     "output_type": "stream",
     "text": [
      "87\n",
      "1685523008432\n",
      "67\n",
      "1685523007792\n"
     ]
    },
    {
     "ename": "",
     "evalue": "",
     "output_type": "error",
     "traceback": [
      "\u001b[1;31mThe Kernel crashed while executing code in the the current cell or a previous cell. Please review the code in the cell(s) to identify a possible cause of the failure. Click <a href='https://aka.ms/vscodeJupyterKernelCrash'>here</a> for more info. View Jupyter <a href='command:jupyter.viewOutput'>log</a> for further details."
     ]
    }
   ],
   "source": [
    "a = 87\n",
    "print(a)\n",
    "print(id(a))\n",
    "a = 67\n",
    "print(a)\n",
    "print(id(a))"
   ]
  },
  {
   "cell_type": "code",
   "execution_count": 7,
   "metadata": {},
   "outputs": [
    {
     "name": "stdout",
     "output_type": "stream",
     "text": [
      "1.5\n",
      "1\n"
     ]
    }
   ],
   "source": [
    "print(6/4)\n",
    "print(6//4)"
   ]
  },
  {
   "cell_type": "code",
   "execution_count": 10,
   "metadata": {},
   "outputs": [
    {
     "name": "stdout",
     "output_type": "stream",
     "text": [
      "5\n",
      "1\n",
      "Invalid Operation\n"
     ]
    }
   ],
   "source": [
    "n = int(input())\n",
    "while n!=6:\n",
    "    if n<=5 and n>=1:\n",
    "        a = int(input())\n",
    "        b = int(input())\n",
    "    if(n==1):\n",
    "        c = a + b\n",
    "        print(c)\n",
    "    if(n==2):\n",
    "        c = a - b\n",
    "        print(c)\n",
    "    if(n==3):\n",
    "        c = a * b\n",
    "        print(c)\n",
    "    if(n==4):\n",
    "        c = a // b\n",
    "        print(c)\n",
    "    if(n==5):\n",
    "        c = a % b\n",
    "        print(c)\n",
    "    if(n==6):\n",
    "        quit()\n",
    "    elif(n>6 or n<1):\n",
    "        print(\"Invalid Operation\")\n",
    "    n = int(input())"
   ]
  },
  {
   "cell_type": "code",
   "execution_count": 11,
   "metadata": {},
   "outputs": [
    {
     "name": "stdout",
     "output_type": "stream",
     "text": [
      "5\n"
     ]
    }
   ],
   "source": [
    "n = 5\n",
    "print(n)"
   ]
  },
  {
   "cell_type": "code",
   "execution_count": 12,
   "metadata": {},
   "outputs": [
    {
     "data": {
      "text/plain": [
       "9"
      ]
     },
     "execution_count": 12,
     "metadata": {},
     "output_type": "execute_result"
    }
   ],
   "source": [
    "def add(a,b):\n",
    "    c = a + b\n",
    "    return c\n",
    "\n",
    "a = int(input())\n",
    "b = int(input())\n",
    "add(a,b)\n"
   ]
  },
  {
   "cell_type": "code",
   "execution_count": 14,
   "metadata": {},
   "outputs": [
    {
     "ename": "ZeroDivisionError",
     "evalue": "division by zero",
     "output_type": "error",
     "traceback": [
      "\u001b[1;31m---------------------------------------------------------------------------\u001b[0m",
      "\u001b[1;31mZeroDivisionError\u001b[0m                         Traceback (most recent call last)",
      "Cell \u001b[1;32mIn [14], line 3\u001b[0m\n\u001b[0;32m      1\u001b[0m a \u001b[39m=\u001b[39m \u001b[39m5\u001b[39m\n\u001b[0;32m      2\u001b[0m b \u001b[39m=\u001b[39m \u001b[39m0\u001b[39m\n\u001b[1;32m----> 3\u001b[0m \u001b[39mprint\u001b[39m(a\u001b[39m/\u001b[39;49mb)\n\u001b[0;32m      4\u001b[0m \u001b[39mprint\u001b[39m(\u001b[39m\"\u001b[39m\u001b[39mbye\u001b[39m\u001b[39m\"\u001b[39m)\n",
      "\u001b[1;31mZeroDivisionError\u001b[0m: division by zero"
     ]
    }
   ],
   "source": [
    "a = 5\n",
    "b = 0\n",
    "print(a/b)\n",
    "print(\"bye\")"
   ]
  },
  {
   "cell_type": "code",
   "execution_count": 16,
   "metadata": {},
   "outputs": [
    {
     "name": "stdout",
     "output_type": "stream",
     "text": [
      "sytem version is:\n",
      "3.10.8 (tags/v3.10.8:aaaf517, Oct 11 2022, 16:50:30) [MSC v.1933 64 bit (AMD64)]\n",
      "sys.version_info(major=3, minor=10, micro=8, releaselevel='final', serial=0)\n"
     ]
    }
   ],
   "source": [
    "import sys\n",
    "print(\"sytem version is:\")\n",
    "print(sys.version)\n",
    "print(sys.version_info)"
   ]
  },
  {
   "cell_type": "code",
   "execution_count": 17,
   "metadata": {},
   "outputs": [
    {
     "name": "stdout",
     "output_type": "stream",
     "text": [
      "3.10.8 (tags/v3.10.8:aaaf517, Oct 11 2022, 16:50:30) [MSC v.1933 64 bit (AMD64)]\n"
     ]
    }
   ],
   "source": [
    "print(sys.version)"
   ]
  },
  {
   "cell_type": "code",
   "execution_count": 19,
   "metadata": {},
   "outputs": [
    {
     "name": "stdout",
     "output_type": "stream",
     "text": [
      "10:34\n",
      "0.001813386086383119\n"
     ]
    }
   ],
   "source": [
    "date = 11/3/2022\n",
    "time = \"10:34\"\n",
    "print(time)\n",
    "print(date)"
   ]
  },
  {
   "cell_type": "code",
   "execution_count": 20,
   "metadata": {},
   "outputs": [
    {
     "name": "stdout",
     "output_type": "stream",
     "text": [
      "Today's date: 2022-11-03\n"
     ]
    }
   ],
   "source": [
    "from datetime import date\n",
    "\n",
    "today = date.today()\n",
    "print(\"Today's date:\", today)"
   ]
  },
  {
   "cell_type": "code",
   "execution_count": 23,
   "metadata": {},
   "outputs": [
    {
     "name": "stdout",
     "output_type": "stream",
     "text": [
      "2022-11-03 10:39:07.344678\n"
     ]
    }
   ],
   "source": [
    "import datetime\n",
    "\n",
    "a = datetime.datetime.today()\n",
    "#b = datetime.datetime.now()\n",
    "print(a)\n",
    "#print(b)"
   ]
  },
  {
   "cell_type": "code",
   "execution_count": 26,
   "metadata": {},
   "outputs": [
    {
     "name": "stdout",
     "output_type": "stream",
     "text": [
      "neutral\n"
     ]
    }
   ],
   "source": [
    "n = int(input())\n",
    "if n<0:\n",
    "    print(\"negative\")\n",
    "if n==0:\n",
    "    print(\"neutral\")\n",
    "else:\n",
    "    print(\"positive\")"
   ]
  },
  {
   "cell_type": "code",
   "execution_count": 28,
   "metadata": {},
   "outputs": [
    {
     "name": "stdout",
     "output_type": "stream",
     "text": [
      "4\n"
     ]
    }
   ],
   "source": [
    "x1 = int(input())\n",
    "x2 = int(input())\n",
    "y1 = int(input())\n",
    "y2 = int(input())\n",
    "area = (x2 - x1) * (y2 - y1)\n",
    "print(area)\n"
   ]
  },
  {
   "cell_type": "code",
   "execution_count": 1,
   "metadata": {},
   "outputs": [
    {
     "ename": "AttributeError",
     "evalue": "module 'datetime' has no attribute 'a'",
     "output_type": "error",
     "traceback": [
      "\u001b[1;31m---------------------------------------------------------------------------\u001b[0m",
      "\u001b[1;31mAttributeError\u001b[0m                            Traceback (most recent call last)",
      "Cell \u001b[1;32mIn [1], line 3\u001b[0m\n\u001b[0;32m      1\u001b[0m \u001b[39mimport\u001b[39;00m \u001b[39mdatetime\u001b[39;00m\n\u001b[1;32m----> 3\u001b[0m a \u001b[39m=\u001b[39m datetime\u001b[39m.\u001b[39;49ma\u001b[39m.\u001b[39mtoday()\n\u001b[0;32m      4\u001b[0m \u001b[39m#b = datetime.datetime.now()\u001b[39;00m\n\u001b[0;32m      5\u001b[0m \u001b[39mprint\u001b[39m(a)\n",
      "\u001b[1;31mAttributeError\u001b[0m: module 'datetime' has no attribute 'a'"
     ]
    }
   ],
   "source": [
    "import datetime\n",
    "\n",
    "a = datetime.a.today()\n",
    "#b = datetime.datetime.now()\n",
    "print(a)\n",
    "#print(b)"
   ]
  },
  {
   "cell_type": "code",
   "execution_count": 5,
   "metadata": {},
   "outputs": [
    {
     "ename": "AttributeError",
     "evalue": "type object 'datetime.datetime' has no attribute 'tom'",
     "output_type": "error",
     "traceback": [
      "\u001b[1;31m---------------------------------------------------------------------------\u001b[0m",
      "\u001b[1;31mAttributeError\u001b[0m                            Traceback (most recent call last)",
      "Cell \u001b[1;32mIn [5], line 3\u001b[0m\n\u001b[0;32m      1\u001b[0m \u001b[39mimport\u001b[39;00m \u001b[39mdatetime\u001b[39;00m\n\u001b[1;32m----> 3\u001b[0m a \u001b[39m=\u001b[39m datetime\u001b[39m.\u001b[39;49mdatetime\u001b[39m.\u001b[39;49mtom()\n\u001b[0;32m      4\u001b[0m \u001b[39m#b = datetime.datetime.now()\u001b[39;00m\n\u001b[0;32m      5\u001b[0m \u001b[39mprint\u001b[39m(a)\n",
      "\u001b[1;31mAttributeError\u001b[0m: type object 'datetime.datetime' has no attribute 'tom'"
     ]
    }
   ],
   "source": [
    "import datetime\n",
    "\n",
    "a = datetime.datetime.tom()\n",
    "#b = datetime.datetime.now()\n",
    "print(a)\n",
    "#print(b)"
   ]
  },
  {
   "cell_type": "code",
   "execution_count": 6,
   "metadata": {},
   "outputs": [
    {
     "name": "stdout",
     "output_type": "stream",
     "text": [
      "2022-11-03 15:06:05.261549\n"
     ]
    }
   ],
   "source": [
    "import datetime\n",
    "a = datetime.datetime.today()\n",
    "print(a)"
   ]
  },
  {
   "cell_type": "code",
   "execution_count": 11,
   "metadata": {},
   "outputs": [
    {
     "name": "stdout",
     "output_type": "stream",
     "text": [
      "1\n",
      "2\n",
      "3\n",
      "4\n",
      "5\n",
      "6\n",
      "7\n",
      "8\n",
      "9\n",
      "10\n"
     ]
    }
   ],
   "source": [
    "n = 10\n",
    "i = 0\n",
    "while i<n:\n",
    "    i = i + 1\n",
    "    print(i)"
   ]
  },
  {
   "cell_type": "code",
   "execution_count": 12,
   "metadata": {},
   "outputs": [
    {
     "data": {
      "text/plain": [
       "['DirEntry',\n",
       " 'F_OK',\n",
       " 'GenericAlias',\n",
       " 'Mapping',\n",
       " 'MutableMapping',\n",
       " 'O_APPEND',\n",
       " 'O_BINARY',\n",
       " 'O_CREAT',\n",
       " 'O_EXCL',\n",
       " 'O_NOINHERIT',\n",
       " 'O_RANDOM',\n",
       " 'O_RDONLY',\n",
       " 'O_RDWR',\n",
       " 'O_SEQUENTIAL',\n",
       " 'O_SHORT_LIVED',\n",
       " 'O_TEMPORARY',\n",
       " 'O_TEXT',\n",
       " 'O_TRUNC',\n",
       " 'O_WRONLY',\n",
       " 'P_DETACH',\n",
       " 'P_NOWAIT',\n",
       " 'P_NOWAITO',\n",
       " 'P_OVERLAY',\n",
       " 'P_WAIT',\n",
       " 'PathLike',\n",
       " 'R_OK',\n",
       " 'SEEK_CUR',\n",
       " 'SEEK_END',\n",
       " 'SEEK_SET',\n",
       " 'TMP_MAX',\n",
       " 'W_OK',\n",
       " 'X_OK',\n",
       " '_AddedDllDirectory',\n",
       " '_Environ',\n",
       " '__all__',\n",
       " '__builtins__',\n",
       " '__cached__',\n",
       " '__doc__',\n",
       " '__file__',\n",
       " '__loader__',\n",
       " '__name__',\n",
       " '__package__',\n",
       " '__spec__',\n",
       " '_check_methods',\n",
       " '_execvpe',\n",
       " '_exists',\n",
       " '_exit',\n",
       " '_fspath',\n",
       " '_get_exports_list',\n",
       " '_walk',\n",
       " '_wrap_close',\n",
       " 'abc',\n",
       " 'abort',\n",
       " 'access',\n",
       " 'add_dll_directory',\n",
       " 'altsep',\n",
       " 'chdir',\n",
       " 'chmod',\n",
       " 'close',\n",
       " 'closerange',\n",
       " 'cpu_count',\n",
       " 'curdir',\n",
       " 'defpath',\n",
       " 'device_encoding',\n",
       " 'devnull',\n",
       " 'dup',\n",
       " 'dup2',\n",
       " 'environ',\n",
       " 'error',\n",
       " 'execl',\n",
       " 'execle',\n",
       " 'execlp',\n",
       " 'execlpe',\n",
       " 'execv',\n",
       " 'execve',\n",
       " 'execvp',\n",
       " 'execvpe',\n",
       " 'extsep',\n",
       " 'fdopen',\n",
       " 'fsdecode',\n",
       " 'fsencode',\n",
       " 'fspath',\n",
       " 'fstat',\n",
       " 'fsync',\n",
       " 'ftruncate',\n",
       " 'get_exec_path',\n",
       " 'get_handle_inheritable',\n",
       " 'get_inheritable',\n",
       " 'get_terminal_size',\n",
       " 'getcwd',\n",
       " 'getcwdb',\n",
       " 'getenv',\n",
       " 'getlogin',\n",
       " 'getpid',\n",
       " 'getppid',\n",
       " 'isatty',\n",
       " 'kill',\n",
       " 'linesep',\n",
       " 'link',\n",
       " 'listdir',\n",
       " 'lseek',\n",
       " 'lstat',\n",
       " 'makedirs',\n",
       " 'mkdir',\n",
       " 'name',\n",
       " 'open',\n",
       " 'pardir',\n",
       " 'path',\n",
       " 'pathsep',\n",
       " 'pipe',\n",
       " 'popen',\n",
       " 'putenv',\n",
       " 'read',\n",
       " 'readlink',\n",
       " 'remove',\n",
       " 'removedirs',\n",
       " 'rename',\n",
       " 'renames',\n",
       " 'replace',\n",
       " 'rmdir',\n",
       " 'scandir',\n",
       " 'sep',\n",
       " 'set_handle_inheritable',\n",
       " 'set_inheritable',\n",
       " 'spawnl',\n",
       " 'spawnle',\n",
       " 'spawnv',\n",
       " 'spawnve',\n",
       " 'st',\n",
       " 'startfile',\n",
       " 'stat',\n",
       " 'stat_result',\n",
       " 'statvfs_result',\n",
       " 'strerror',\n",
       " 'supports_bytes_environ',\n",
       " 'supports_dir_fd',\n",
       " 'supports_effective_ids',\n",
       " 'supports_fd',\n",
       " 'supports_follow_symlinks',\n",
       " 'symlink',\n",
       " 'sys',\n",
       " 'system',\n",
       " 'terminal_size',\n",
       " 'times',\n",
       " 'times_result',\n",
       " 'truncate',\n",
       " 'umask',\n",
       " 'uname_result',\n",
       " 'unlink',\n",
       " 'unsetenv',\n",
       " 'urandom',\n",
       " 'utime',\n",
       " 'waitpid',\n",
       " 'waitstatus_to_exitcode',\n",
       " 'walk',\n",
       " 'write']"
      ]
     },
     "execution_count": 12,
     "metadata": {},
     "output_type": "execute_result"
    }
   ],
   "source": [
    "dir(os)"
   ]
  },
  {
   "cell_type": "code",
   "execution_count": 13,
   "metadata": {},
   "outputs": [
    {
     "name": "stdout",
     "output_type": "stream",
     "text": [
      "0\n",
      "1\n",
      "2\n",
      "3\n",
      "4\n",
      "5\n",
      "6\n",
      "7\n",
      "8\n"
     ]
    }
   ],
   "source": [
    "x = 0\n",
    "while x<9:\n",
    "    print(x)\n",
    "    x = x+1"
   ]
  },
  {
   "cell_type": "code",
   "execution_count": 14,
   "metadata": {},
   "outputs": [
    {
     "ename": "TypeError",
     "evalue": "'int' object is not iterable",
     "output_type": "error",
     "traceback": [
      "\u001b[1;31m---------------------------------------------------------------------------\u001b[0m",
      "\u001b[1;31mTypeError\u001b[0m                                 Traceback (most recent call last)",
      "Cell \u001b[1;32mIn [14], line 3\u001b[0m\n\u001b[0;32m      1\u001b[0m \u001b[39mimport\u001b[39;00m \u001b[39mrandom\u001b[39;00m\n\u001b[0;32m      2\u001b[0m n \u001b[39m=\u001b[39m \u001b[39mint\u001b[39m(\u001b[39minput\u001b[39m())\n\u001b[1;32m----> 3\u001b[0m \u001b[39mfor\u001b[39;00m i \u001b[39min\u001b[39;00m n :\n\u001b[0;32m      4\u001b[0m     \u001b[39mif\u001b[39;00m n\u001b[39m==\u001b[39mrandom:\n\u001b[0;32m      5\u001b[0m         \u001b[39mprint\u001b[39m(\u001b[39m\"\u001b[39m\u001b[39mcorrect\u001b[39m\u001b[39m\"\u001b[39m)\n",
      "\u001b[1;31mTypeError\u001b[0m: 'int' object is not iterable"
     ]
    }
   ],
   "source": [
    "import random\n",
    "n = int(input())\n",
    "for i in n:\n",
    "    if n==random:\n",
    "        print(\"correct\")\n",
    "    else:\n",
    "        print(\"wrong\")"
   ]
  },
  {
   "cell_type": "code",
   "execution_count": 4,
   "metadata": {},
   "outputs": [],
   "source": [
    "#n = int(input())\n",
    "x = 50\n",
    "while True:\n",
    "    n = int(input())\n",
    "    print(\"correct answer\")\n",
    "    break\n",
    "    if n<x:\n",
    "        print(\"smaller\")\n",
    "        continue\n",
    "    if n>x:\n",
    "        print(\"greater\")\n",
    "        continue"
   ]
  },
  {
   "cell_type": "code",
   "execution_count": 49,
   "metadata": {},
   "outputs": [
    {
     "name": "stdout",
     "output_type": "stream",
     "text": [
      "smaller\n",
      "correct\n"
     ]
    }
   ],
   "source": [
    "x = int(input())\n",
    "while True:\n",
    "    n = int(input())\n",
    "    if n==x:\n",
    "        print(\"correct\")\n",
    "        break\n",
    "    if n<x:\n",
    "        print(\"smaller\")\n",
    "    if n>x:\n",
    "        print(\"greater\")"
   ]
  },
  {
   "cell_type": "code",
   "execution_count": 8,
   "metadata": {},
   "outputs": [
    {
     "name": "stdout",
     "output_type": "stream",
     "text": [
      "4444\n",
      "4444\n",
      "4444\n",
      "4444\n"
     ]
    }
   ],
   "source": [
    "n = int(input())\n",
    "for i in range(1,n+1):\n",
    "    for j in range(1,n+1):\n",
    "        print(n,end=\"\")\n",
    "    print()"
   ]
  },
  {
   "cell_type": "code",
   "execution_count": 10,
   "metadata": {},
   "outputs": [
    {
     "name": "stdout",
     "output_type": "stream",
     "text": [
      "1\n",
      "22\n",
      "333\n",
      "4444\n"
     ]
    }
   ],
   "source": [
    "n = int(input())\n",
    "for i in range(1,n+1):\n",
    "    for j in range(1,i+1):\n",
    "        print(i,end=\"\")\n",
    "    print()"
   ]
  },
  {
   "cell_type": "code",
   "execution_count": 35,
   "metadata": {},
   "outputs": [
    {
     "name": "stdout",
     "output_type": "stream",
     "text": [
      "Stop And Smell The Roses\n"
     ]
    }
   ],
   "source": [
    "#q = 5\n",
    "n = \"stop and smell the roses\"\n",
    "print(n.title())"
   ]
  },
  {
   "cell_type": "code",
   "execution_count": 36,
   "metadata": {},
   "outputs": [
    {
     "name": "stdout",
     "output_type": "stream",
     "text": [
      "['khausik', 'mayank', 'manu']\n"
     ]
    }
   ],
   "source": [
    "#q = 2\n",
    "friends = [\"manu\",\"mayank\",\"khausik\"]\n",
    "print(friends[::-1])"
   ]
  },
  {
   "cell_type": "code",
   "execution_count": 37,
   "metadata": {},
   "outputs": [
    {
     "name": "stdout",
     "output_type": "stream",
     "text": [
      "7\n"
     ]
    }
   ],
   "source": [
    "#q = 3\n",
    "no = [1,2,7,5,6]\n",
    "great = 1\n",
    "for i in no:\n",
    "    if i > great:\n",
    "        great = i\n",
    "print(great)\n"
   ]
  },
  {
   "cell_type": "code",
   "execution_count": 46,
   "metadata": {},
   "outputs": [
    {
     "name": "stdout",
     "output_type": "stream",
     "text": [
      "November  6 , 2022\n"
     ]
    }
   ],
   "source": [
    "#q = 6\n",
    "n = input(\"Enter a date (mm/dd/yyyy):\")\n",
    "n2 = n.split(\"/\")\n",
    "month = int(n2[0])\n",
    "day = int(n2[1])\n",
    "year = int(n2[2])\n",
    "if month == 1:\n",
    "    month = \"January\"\n",
    "elif month == 2:\n",
    "    month = \"February\"\n",
    "elif month == 3:\n",
    "    month = \"March\"\n",
    "elif month == 4:\n",
    "    month = \"April\"\n",
    "elif month == 5:\n",
    "    month = \"May\"\n",
    "elif month == 6:\n",
    "    month = \"June\"\n",
    "elif month == 7:\n",
    "    month = \"July\"\n",
    "elif month == 8:\n",
    "    month = \"August\"\n",
    "elif month == 9:\n",
    "    month = \"September\"\n",
    "elif month == 10:\n",
    "    month = \"Octomber\"\n",
    "elif month == 11:\n",
    "    month = \"November\"\n",
    "elif month == 12:\n",
    "    month = \"December\"\n",
    "else:\n",
    "    print(\"Enter a valid month\")\n",
    "\n",
    "print(month,\"\",day,\",\",year)"
   ]
  },
  {
   "cell_type": "code",
   "execution_count": 48,
   "metadata": {},
   "outputs": [
    {
     "name": "stdout",
     "output_type": "stream",
     "text": [
      "[1, 2, 3, 5, 6, 7]\n"
     ]
    }
   ],
   "source": [
    "l1 = [1,2,3]\n",
    "l2 = [5,6,7]\n",
    "l1.extend(l2)\n",
    "print(l1)"
   ]
  },
  {
   "cell_type": "code",
   "execution_count": 54,
   "metadata": {},
   "outputs": [
    {
     "name": "stdout",
     "output_type": "stream",
     "text": [
      "[1, 2, 3, 4, 6]\n"
     ]
    }
   ],
   "source": [
    "#q = 3\n",
    "n = int(input())\n",
    "li = []\n",
    "for i in range(n):\n",
    "    element = int(input())\n",
    "    li.append(element)\n",
    "print(li)"
   ]
  },
  {
   "cell_type": "code",
   "execution_count": 55,
   "metadata": {},
   "outputs": [
    {
     "name": "stdout",
     "output_type": "stream",
     "text": [
      "6\n"
     ]
    }
   ],
   "source": [
    "great = li[0]\n",
    "for i in li:\n",
    "    if i > great:\n",
    "        great = i\n",
    "print(great) "
   ]
  },
  {
   "cell_type": "code",
   "execution_count": 5,
   "metadata": {},
   "outputs": [
    {
     "name": "stdout",
     "output_type": "stream",
     "text": [
      "[2, 1, 4, 6, 7]\n"
     ]
    }
   ],
   "source": [
    "# q = 4\n",
    "list = [1, 4, 6, 7, 2]              # [2,1,4,6,7]\n",
    "\n",
    "list = list[4:] + list[:4]\n",
    "print(list)"
   ]
  },
  {
   "cell_type": "code",
   "execution_count": 1,
   "metadata": {},
   "outputs": [
    {
     "name": "stdout",
     "output_type": "stream",
     "text": [
      "6  9\n"
     ]
    }
   ],
   "source": [
    "Number=int(input())\n",
    "even=0\n",
    "odd=0\n",
    "while(Number>0):\n",
    "    Reminder = Number %10\n",
    "    if(Reminder % 2 == 0):\n",
    "        even=even + Reminder\n",
    "    else:\n",
    "        odd= odd + Reminder\n",
    "    Number = Number //10\n",
    "print(even,\"\",odd)n "
   ]
  },
  {
   "cell_type": "code",
   "execution_count": 3,
   "metadata": {},
   "outputs": [
    {
     "name": "stdout",
     "output_type": "stream",
     "text": [
      "[1, 2, 3, 4, 6]\n"
     ]
    }
   ],
   "source": [
    "n = int(input())\n",
    "li = []\n",
    "for i in range(n):\n",
    "    element  = int(input())\n",
    "    li.append(element)\n",
    "print(li)"
   ]
  },
  {
   "cell_type": "code",
   "execution_count": 6,
   "metadata": {},
   "outputs": [
    {
     "name": "stdout",
     "output_type": "stream",
     "text": [
      "[6, 1, 2, 3, 4]\n"
     ]
    }
   ],
   "source": [
    "li = li[4:] + li[:4]\n",
    "print(li)"
   ]
  },
  {
   "cell_type": "code",
   "execution_count": 13,
   "metadata": {},
   "outputs": [
    {
     "ename": "AttributeError",
     "evalue": "'tuple' object has no attribute 'split'",
     "output_type": "error",
     "traceback": [
      "\u001b[1;31m---------------------------------------------------------------------------\u001b[0m",
      "\u001b[1;31mAttributeError\u001b[0m                            Traceback (most recent call last)",
      "Cell \u001b[1;32mIn [13], line 5\u001b[0m\n\u001b[0;32m      3\u001b[0m \u001b[39mfor\u001b[39;00m i \u001b[39min\u001b[39;00m \u001b[39mrange\u001b[39m(n):\n\u001b[0;32m      4\u001b[0m     element  \u001b[39m=\u001b[39m \u001b[39mint\u001b[39m(\u001b[39minput\u001b[39m())\n\u001b[1;32m----> 5\u001b[0m     tu\u001b[39m.\u001b[39;49msplit()\n\u001b[0;32m      6\u001b[0m \u001b[39mprint\u001b[39m(tu)\n",
      "\u001b[1;31mAttributeError\u001b[0m: 'tuple' object has no attribute 'split'"
     ]
    }
   ],
   "source": [
    "#n = int(input())\n",
    "tu = ()\n",
    "for i in range(n):\n",
    "    element  = int(input())\n",
    "    tu.split()\n",
    "print(tu)"
   ]
  },
  {
   "cell_type": "code",
   "execution_count": 26,
   "metadata": {},
   "outputs": [
    {
     "name": "stdout",
     "output_type": "stream",
     "text": [
      "5\n",
      "[1, 2, 3, 4, 5]\n",
      "1\n",
      "3\n"
     ]
    }
   ],
   "source": [
    "list = []\n",
    "n = int(input())\n",
    "print(n)\n",
    "\n",
    "for i in range(n):\n",
    "    element = int(input())\n",
    "    list.append(element)\n",
    "print(list)\n",
    "\n",
    "\n",
    "for i in range(0,3,2):\n",
    "    print(list[i])"
   ]
  },
  {
   "cell_type": "code",
   "execution_count": 24,
   "metadata": {},
   "outputs": [
    {
     "name": "stdout",
     "output_type": "stream",
     "text": [
      "enter 5 elements\n"
     ]
    }
   ],
   "source": [
    "n = int(input())\n",
    "print(\"enter\" ,int(n),\"elements\")"
   ]
  },
  {
   "cell_type": "code",
   "execution_count": 31,
   "metadata": {},
   "outputs": [
    {
     "name": "stdout",
     "output_type": "stream",
     "text": [
      "[1, 2, 3, 4, 5]\n",
      "[5, 4, 3, 2, 1]\n"
     ]
    }
   ],
   "source": [
    "# CODE BY MAYANK SHARMA(section G-10 group 2)\n",
    "\n",
    "# Write a program that accepts a list from user. Your program should reverse\n",
    "n = int(input())  # Take an input this displace that how many elements are in list\n",
    "li = []            # An empty List is Created\n",
    "for i in range(n):  \n",
    "    element  = int(input())   # A variable named element is created which will take input from user \n",
    "    li.append(element)        # the input taken above in variable element will be appended in li by using li.append\n",
    "print(li)                     # after appending the elements in li we have printed li\n",
    "print(li[::-1])               # now we have reversed the list using slicing space before : displace start space after : displace stop and at last it displace end"
   ]
  },
  {
   "cell_type": "code",
   "execution_count": 30,
   "metadata": {},
   "outputs": [
    {
     "name": "stdout",
     "output_type": "stream",
     "text": [
      "[6, 4, 3, 2, 1]\n"
     ]
    }
   ],
   "source": [
    "print(li[::-1])\n"
   ]
  },
  {
   "cell_type": "code",
   "execution_count": 34,
   "metadata": {},
   "outputs": [
    {
     "name": "stdout",
     "output_type": "stream",
     "text": [
      "Enter 5 elements\n",
      "6\n",
      "Reverse List: [5, 4, 3, 2, 1]\n"
     ]
    }
   ],
   "source": [
    "mylist = []\n",
    "size = int(input('How many elements you want to enter? '))\n",
    "\n",
    "print('Enter',str(size),'elements')\n",
    "\n",
    "for i in range(size):\n",
    "    data = int(input())\n",
    "    mylist.append(data)\n",
    "    \n",
    "x = mylist[:]\n",
    "print(6)\n",
    "x.reverse()\n",
    "print('Reverse List:', x)"
   ]
  },
  {
   "cell_type": "code",
   "execution_count": 36,
   "metadata": {},
   "outputs": [
    {
     "name": "stdout",
     "output_type": "stream",
     "text": [
      "[5, 4, 3, 2, 1]\n"
     ]
    }
   ],
   "source": [
    "a = [ 1,2,3,4,5]\n",
    "a.reverse()\n",
    "print(a)"
   ]
  },
  {
   "cell_type": "code",
   "execution_count": 38,
   "metadata": {},
   "outputs": [
    {
     "data": {
      "text/plain": [
       "[7, 2, 3, 4, 5]"
      ]
     },
     "execution_count": 38,
     "metadata": {},
     "output_type": "execute_result"
    }
   ],
   "source": [
    "li1 = [1,2,3,4,5]\n",
    "li1[0] = 7\n",
    "li1"
   ]
  },
  {
   "cell_type": "code",
   "execution_count": 41,
   "metadata": {},
   "outputs": [
    {
     "name": "stdout",
     "output_type": "stream",
     "text": [
      "4\n"
     ]
    }
   ],
   "source": [
    "str = \"Mayank Sharma\"\n",
    "count = 0\n",
    "for i in range(len(str)):\n",
    "    if (str[i]=='a'):\n",
    "        count = count + 1\n",
    "print(count)"
   ]
  },
  {
   "cell_type": "code",
   "execution_count": 20,
   "metadata": {},
   "outputs": [
    {
     "name": "stdout",
     "output_type": "stream",
     "text": [
      "4\n"
     ]
    }
   ],
   "source": [
    "str = \"Mayank Sharma\"\n",
    "count = 0\n",
    "for i in range(len(str)):\n",
    "    if (str[i]=='a'):\n",
    "        count = count + 1\n",
    "print(count)"
   ]
  },
  {
   "cell_type": "code",
   "execution_count": 21,
   "metadata": {},
   "outputs": [
    {
     "name": "stdout",
     "output_type": "stream",
     "text": [
      "13\n"
     ]
    }
   ],
   "source": [
    "str = \"Mayank Sharma\"\n",
    "count = 0\n",
    "for i in range(len(str)):\n",
    "    #if (str[i]=='a'):\n",
    "        count = count + 1\n",
    "print(count)"
   ]
  },
  {
   "cell_type": "code",
   "execution_count": 43,
   "metadata": {},
   "outputs": [
    {
     "name": "stdout",
     "output_type": "stream",
     "text": [
      "4\n"
     ]
    }
   ],
   "source": [
    "str = \"Mayank Sharma\"\n",
    "count = 0\n",
    "for i in str:\n",
    "    if (i == 'a'):\n",
    "        count = count + 1\n",
    "print(count)"
   ]
  },
  {
   "cell_type": "code",
   "execution_count": 56,
   "metadata": {},
   "outputs": [
    {
     "data": {
      "text/plain": [
       "'Mayank Sharma'"
      ]
     },
     "execution_count": 56,
     "metadata": {},
     "output_type": "execute_result"
    }
   ],
   "source": [
    "str2 = \"Mayank Sharma\"\n",
    "str2"
   ]
  },
  {
   "cell_type": "code",
   "execution_count": 61,
   "metadata": {},
   "outputs": [
    {
     "name": "stdout",
     "output_type": "stream",
     "text": [
      "True\n"
     ]
    }
   ],
   "source": [
    "for i in str2:\n",
    "    if 'Maya' in str2:\n",
    "        print(True)\n",
    "        break"
   ]
  },
  {
   "cell_type": "code",
   "execution_count": 73,
   "metadata": {},
   "outputs": [
    {
     "name": "stdout",
     "output_type": "stream",
     "text": [
      "False\n"
     ]
    }
   ],
   "source": [
    "str2\n",
    "if 'sh' in str2:\n",
    "    print(True)\n",
    "else:\n",
    "    print(False)"
   ]
  },
  {
   "cell_type": "code",
   "execution_count": 80,
   "metadata": {},
   "outputs": [
    {
     "data": {
      "text/plain": [
       "35"
      ]
     },
     "execution_count": 80,
     "metadata": {},
     "output_type": "execute_result"
    }
   ],
   "source": [
    "ord('#')"
   ]
  },
  {
   "cell_type": "code",
   "execution_count": 82,
   "metadata": {},
   "outputs": [
    {
     "name": "stdout",
     "output_type": "stream",
     "text": [
      "False\n"
     ]
    }
   ],
   "source": [
    "a = \"abcdef\" == \"abcd\"\n",
    "print(a)"
   ]
  },
  {
   "cell_type": "code",
   "execution_count": 83,
   "metadata": {},
   "outputs": [
    {
     "name": "stdout",
     "output_type": "stream",
     "text": [
      "True\n"
     ]
    }
   ],
   "source": [
    "a = \"abce\" >= \"abcdef\"\n",
    "print(a)"
   ]
  },
  {
   "cell_type": "code",
   "execution_count": 85,
   "metadata": {},
   "outputs": [
    {
     "data": {
      "text/plain": [
       "True"
      ]
     },
     "execution_count": 85,
     "metadata": {},
     "output_type": "execute_result"
    }
   ],
   "source": [
    "a = \"mayank\" <= \"mayn\"\n",
    "a"
   ]
  },
  {
   "cell_type": "code",
   "execution_count": 131,
   "metadata": {},
   "outputs": [
    {
     "name": "stdout",
     "output_type": "stream",
     "text": [
      "false\n"
     ]
    }
   ],
   "source": [
    "s=input()\n",
    "p=s[::-1]\n",
    "if(s==p):\n",
    "    print(\"true\")\n",
    "else:\n",
    "    print(\"false\")"
   ]
  },
  {
   "cell_type": "code",
   "execution_count": 137,
   "metadata": {},
   "outputs": [
    {
     "name": "stdout",
     "output_type": "stream",
     "text": [
      "true\n",
      "121\n"
     ]
    }
   ],
   "source": [
    "s=input()\n",
    "p=s[::-1]\n",
    "if(s==p):\n",
    "    print(\"true\")\n",
    "    print(s)\n",
    "else:\n",
    "    print(\"false\")"
   ]
  },
  {
   "cell_type": "code",
   "execution_count": 99,
   "metadata": {},
   "outputs": [
    {
     "name": "stdout",
     "output_type": "stream",
     "text": [
      "My Name Is Monu\n"
     ]
    }
   ],
   "source": [
    "any_string = \"My Name Is Mayank\"\n",
    "print(any_string.replace(\"Mayank\",\"Monu\"))"
   ]
  },
  {
   "cell_type": "code",
   "execution_count": 102,
   "metadata": {},
   "outputs": [
    {
     "name": "stdout",
     "output_type": "stream",
     "text": [
      "My Name Is Monu Mayank\n"
     ]
    }
   ],
   "source": [
    "any_string = \"My Name Is Mayank Mayank\"\n",
    "print(any_string.replace(\"Mayank\",\"Monu\",1))"
   ]
  },
  {
   "cell_type": "code",
   "execution_count": 103,
   "metadata": {},
   "outputs": [
    {
     "data": {
      "text/plain": [
       "2"
      ]
     },
     "execution_count": 103,
     "metadata": {},
     "output_type": "execute_result"
    }
   ],
   "source": [
    "list1 = [3, 4, 5, 20, 5, 25, 1, 3]\n",
    "list1.count(5)"
   ]
  },
  {
   "cell_type": "code",
   "execution_count": 106,
   "metadata": {},
   "outputs": [
    {
     "name": "stdout",
     "output_type": "stream",
     "text": [
      "None\n"
     ]
    }
   ],
   "source": [
    " list1 = [3, 4, 5, 20, 5, 25, 1, 3]\n",
    " print(list1.sort())"
   ]
  },
  {
   "cell_type": "code",
   "execution_count": 113,
   "metadata": {},
   "outputs": [
    {
     "data": {
      "text/plain": [
       "8"
      ]
     },
     "execution_count": 113,
     "metadata": {},
     "output_type": "execute_result"
    }
   ],
   "source": [
    "str1 = \"my Name Is mayank sharma\"\n",
    "str1.title()\n",
    "str1.find(\"Is\")"
   ]
  },
  {
   "cell_type": "code",
   "execution_count": 143,
   "metadata": {},
   "outputs": [
    {
     "name": "stdout",
     "output_type": "stream",
     "text": [
      "false\n"
     ]
    }
   ],
   "source": [
    "s=input()\n",
    "p=s[::-1]\n",
    "if(s==p):\n",
    "    print(\"true\")\n",
    "    print(s)\n",
    "else:\n",
    "    print(\"false\")"
   ]
  },
  {
   "cell_type": "code",
   "execution_count": 146,
   "metadata": {},
   "outputs": [
    {
     "name": "stdout",
     "output_type": "stream",
     "text": [
      "0\n",
      "1\n",
      "1\n",
      "2\n",
      "3\n",
      "5\n",
      "8\n",
      "13\n",
      "21\n",
      "34\n"
     ]
    }
   ],
   "source": [
    "def fibo(n):\n",
    "    a = 0\n",
    "    b = 1\n",
    "    print(a)\n",
    "    print(b)\n",
    "    for i in range(2,n):\n",
    "        c = a + b\n",
    "        a = b\n",
    "        b = c\n",
    "        print(c)\n",
    "fibo(10)"
   ]
  },
  {
   "cell_type": "code",
   "execution_count": 161,
   "metadata": {},
   "outputs": [
    {
     "name": "stdout",
     "output_type": "stream",
     "text": [
      "false\n"
     ]
    }
   ],
   "source": [
    "def check_palin(n):\n",
    "    rev = 0\n",
    "    x = n\n",
    "    while n>0:\n",
    "        rev = rev*10 + rev%10\n",
    "        n = n//10\n",
    "    if(x == rev):\n",
    "        return 1\n",
    "    else:\n",
    "        return 0\n",
    "n = int(input())\n",
    "is_palin = check_palin(n)\n",
    "if(is_palin):\n",
    "    print(\"true\")\n",
    "else:\n",
    "    print(\"false\")"
   ]
  },
  {
   "cell_type": "code",
   "execution_count": 28,
   "metadata": {},
   "outputs": [
    {
     "name": "stdout",
     "output_type": "stream",
     "text": [
      "*\n",
      "4321\n",
      "5*\n",
      "321\n",
      "54*\n",
      "21\n",
      "543*\n",
      "1\n",
      "5432*\n",
      "\n"
     ]
    }
   ],
   "source": [
    "n = int(input())\n",
    "for i in range(n):\n",
    "    for j in range(n):\n",
    "        if (j==i):\n",
    "            print(\"*\")\n",
    "        else:\n",
    "            print(n-j,end=\"\")\n",
    "    print()"
   ]
  },
  {
   "cell_type": "code",
   "execution_count": 35,
   "metadata": {},
   "outputs": [
    {
     "name": "stdout",
     "output_type": "stream",
     "text": [
      "*12345\n",
      "0*2345\n",
      "01*345\n",
      "012*45\n",
      "0123*5\n",
      "01234*\n"
     ]
    }
   ],
   "source": [
    "n = int(input())\n",
    "for i in range(n+1):\n",
    "    for j in range(n+1):\n",
    "        if (j!=i):\n",
    "            print(j,end=\"\")\n",
    "        else:\n",
    "            print('*',end=\"\")\n",
    "    print()"
   ]
  },
  {
   "cell_type": "code",
   "execution_count": 36,
   "metadata": {},
   "outputs": [
    {
     "name": "stdout",
     "output_type": "stream",
     "text": [
      "true\n"
     ]
    }
   ],
   "source": [
    "num = int(input())\n",
    "copy = num\n",
    "n=0\n",
    "while(copy>0):\n",
    "    n=n+1  # counting number of digits\n",
    "    copy=copy//10\n",
    "\n",
    "sum = 0\n",
    "temp = num\n",
    "while temp > 0:\n",
    "   digit = temp % 10\n",
    "   sum += digit ** n #number of digits in power\n",
    "   temp //= 10\n",
    "if num == sum:\n",
    "    print(\"true\")\n",
    "else:\n",
    "    print(\"false\")"
   ]
  },
  {
   "cell_type": "code",
   "execution_count": 39,
   "metadata": {},
   "outputs": [
    {
     "name": "stdout",
     "output_type": "stream",
     "text": [
      "false\n"
     ]
    }
   ],
   "source": [
    "n = input()\n",
    "p = n[::-1]\n",
    "if(p==n):\n",
    "    print(\"true\")\n",
    "else:\n",
    "    print(\"false\")"
   ]
  },
  {
   "cell_type": "code",
   "execution_count": 41,
   "metadata": {},
   "outputs": [
    {
     "name": "stdout",
     "output_type": "stream",
     "text": [
      "5\n"
     ]
    }
   ],
   "source": [
    "a = 2\n",
    "b = 3\n",
    "c = a+b\n",
    "print(c)"
   ]
  },
  {
   "cell_type": "code",
   "execution_count": 43,
   "metadata": {},
   "outputs": [
    {
     "data": {
      "text/plain": [
       "5"
      ]
     },
     "execution_count": 43,
     "metadata": {},
     "output_type": "execute_result"
    }
   ],
   "source": [
    "def add(a,b):\n",
    "    c = a+b\n",
    "    return c\n",
    "\n",
    "\n",
    "add(2,3)"
   ]
  },
  {
   "cell_type": "code",
   "execution_count": 45,
   "metadata": {},
   "outputs": [
    {
     "name": "stdout",
     "output_type": "stream",
     "text": [
      "[67, 65, 89, 90, 99]\n"
     ]
    }
   ],
   "source": [
    "n = int(input())\n",
    "li = []\n",
    "for i in range(n):\n",
    "    element = int(input())\n",
    "    li.append(element)\n",
    "print(li)"
   ]
  },
  {
   "cell_type": "code",
   "execution_count": 46,
   "metadata": {},
   "outputs": [
    {
     "name": "stdout",
     "output_type": "stream",
     "text": [
      "[99, 67, 65, 89, 90]\n"
     ]
    }
   ],
   "source": [
    "li = li[-1:] + li[:-1]\n",
    "print(li)"
   ]
  },
  {
   "cell_type": "code",
   "execution_count": 55,
   "metadata": {},
   "outputs": [
    {
     "name": "stdout",
     "output_type": "stream",
     "text": [
      "120\n"
     ]
    }
   ],
   "source": [
    "n = 5\n",
    "fact = 1\n",
    "for i in range(1,n+1):\n",
    "    fact = fact * i\n",
    "print(fact)"
   ]
  },
  {
   "cell_type": "code",
   "execution_count": 56,
   "metadata": {},
   "outputs": [
    {
     "data": {
      "text/plain": [
       "120"
      ]
     },
     "execution_count": 56,
     "metadata": {},
     "output_type": "execute_result"
    }
   ],
   "source": [
    "def fact(n):\n",
    "    fact = 1\n",
    "    for i in range(1,n+1):\n",
    "        fact = fact * i\n",
    "    return fact\n",
    "\n",
    "n = int(input())\n",
    "fact(n)"
   ]
  },
  {
   "cell_type": "code",
   "execution_count": 68,
   "metadata": {},
   "outputs": [
    {
     "name": "stdout",
     "output_type": "stream",
     "text": [
      "[1, 2, 3, 4, 5]\n"
     ]
    }
   ],
   "source": [
    "li = [1,2,3,4,5]\n",
    "print(li)"
   ]
  },
  {
   "cell_type": "code",
   "execution_count": 69,
   "metadata": {},
   "outputs": [
    {
     "name": "stdout",
     "output_type": "stream",
     "text": [
      "[5, 4, 3, 2, 1]\n"
     ]
    }
   ],
   "source": [
    "li = li[::-1]\n",
    "print(li)"
   ]
  },
  {
   "cell_type": "code",
   "execution_count": 70,
   "metadata": {},
   "outputs": [
    {
     "name": "stdout",
     "output_type": "stream",
     "text": [
      "[1, 2, 3, 4, 5]\n"
     ]
    }
   ],
   "source": [
    "n = int(input())\n",
    "li = []\n",
    "for i in range(n):\n",
    "    element = int(input())\n",
    "    li.append(element)\n",
    "print(li)"
   ]
  },
  {
   "cell_type": "code",
   "execution_count": 71,
   "metadata": {},
   "outputs": [
    {
     "data": {
      "text/plain": [
       "[5, 4, 3, 2, 1]"
      ]
     },
     "execution_count": 71,
     "metadata": {},
     "output_type": "execute_result"
    }
   ],
   "source": [
    "li = li[::-1]\n",
    "li"
   ]
  },
  {
   "cell_type": "markdown",
   "metadata": {},
   "source": [
    "li = [1,2,3,4,5]\n",
    "li = [5,4,3,2,1]"
   ]
  },
  {
   "cell_type": "code",
   "execution_count": 82,
   "metadata": {},
   "outputs": [],
   "source": [
    "li = [1,2,3,4,5]\n",
    "for i in li:\n",
    "    if(li[0]==li[4]):\n",
    "        print(li)"
   ]
  },
  {
   "cell_type": "code",
   "execution_count": 85,
   "metadata": {},
   "outputs": [
    {
     "name": "stdout",
     "output_type": "stream",
     "text": [
      "[1, 2, 3, 4, 5]\n",
      "[5, 5, 5, 5, 5]\n"
     ]
    }
   ],
   "source": [
    "li = [1,2,3,4,5]\n",
    "l = len(li)\n",
    "print(li)\n",
    "i = 0\n",
    "li2 = []\n",
    "while i<l:\n",
    "    li2.append(li[j-1])\n",
    "    i+=1\n",
    "print(li2)"
   ]
  },
  {
   "cell_type": "code",
   "execution_count": 88,
   "metadata": {},
   "outputs": [
    {
     "name": "stdout",
     "output_type": "stream",
     "text": [
      "[1, 2, 3, 4, 5]\n",
      "[5, 1, 2, 3, 4]\n"
     ]
    }
   ],
   "source": [
    "n = int(input())\n",
    "li = []\n",
    "for i in range(n):\n",
    "    element = int(input())\n",
    "    li.append(element)\n",
    "#print(li)\n",
    "l = len(li)\n",
    "print(li)\n",
    "j=0\n",
    "lst2 = []\n",
    "while j<l:\n",
    "    lst2.append(li[j-1])\n",
    "    j+=1\n",
    "print(lst2)"
   ]
  },
  {
   "cell_type": "code",
   "execution_count": 4,
   "metadata": {},
   "outputs": [
    {
     "name": "stdout",
     "output_type": "stream",
     "text": [
      "apple\n",
      "mango\n",
      "bannana\n"
     ]
    }
   ],
   "source": [
    "def food(fruit):\n",
    "    for i in fruit:\n",
    "        print(i)\n",
    "\n",
    "fruit = [\"apple\",\"mango\",\"bannana\"]\n",
    "food(fruit)"
   ]
  },
  {
   "cell_type": "code",
   "execution_count": 8,
   "metadata": {},
   "outputs": [
    {
     "name": "stdout",
     "output_type": "stream",
     "text": [
      "0\n"
     ]
    }
   ],
   "source": [
    "fruit = [\"mango\",\"apple\",\"bannana\"]\n",
    "c = fruit.index(\"mango\")\n",
    "print(c)"
   ]
  },
  {
   "cell_type": "code",
   "execution_count": null,
   "metadata": {},
   "outputs": [],
   "source": [
    "list = [1,2,3,4,5]\n",
    "tuple = (1,2,3,4)"
   ]
  },
  {
   "cell_type": "code",
   "execution_count": 48,
   "metadata": {},
   "outputs": [
    {
     "name": "stdout",
     "output_type": "stream",
     "text": [
      "[1, 2, 4, 5]\n"
     ]
    }
   ],
   "source": [
    "li = [1,2,3,4,5]\n",
    "li.remove(3)\n",
    "print(li)\n"
   ]
  },
  {
   "cell_type": "code",
   "execution_count": 49,
   "metadata": {},
   "outputs": [
    {
     "ename": "AttributeError",
     "evalue": "'tuple' object has no attribute 'remove'",
     "output_type": "error",
     "traceback": [
      "\u001b[1;31m---------------------------------------------------------------------------\u001b[0m",
      "\u001b[1;31mAttributeError\u001b[0m                            Traceback (most recent call last)",
      "Cell \u001b[1;32mIn [49], line 2\u001b[0m\n\u001b[0;32m      1\u001b[0m tuplee \u001b[39m=\u001b[39m (\u001b[39m1\u001b[39m,\u001b[39m2\u001b[39m,\u001b[39m3\u001b[39m,\u001b[39m4\u001b[39m,\u001b[39m5\u001b[39m)\n\u001b[1;32m----> 2\u001b[0m tuplee\u001b[39m.\u001b[39;49mremove(\u001b[39m3\u001b[39m)\n\u001b[0;32m      3\u001b[0m \u001b[39mprint\u001b[39m(tuplee)\n",
      "\u001b[1;31mAttributeError\u001b[0m: 'tuple' object has no attribute 'remove'"
     ]
    }
   ],
   "source": [
    "tuplee = (1,2,3,4,5)\n",
    "tuplee.remove(3)\n",
    "print(tuplee)\n"
   ]
  },
  {
   "cell_type": "code",
   "execution_count": 52,
   "metadata": {},
   "outputs": [
    {
     "name": "stdout",
     "output_type": "stream",
     "text": [
      "[1, 2, 3, 4, 5, 'mayank sharma']\n"
     ]
    }
   ],
   "source": [
    "li = [1,2,3,4,5]                       # because its mutable\n",
    "li.append(\"mayank sharma\")\n",
    "print(li)"
   ]
  },
  {
   "cell_type": "code",
   "execution_count": 58,
   "metadata": {},
   "outputs": [
    {
     "name": "stdout",
     "output_type": "stream",
     "text": [
      "[1, 2, 3, 4, 5, ['mayank ', 'singla']]\n",
      "[1, 2, 3, 5, ['mayank ', 'singla']]\n"
     ]
    }
   ],
   "source": [
    "li = [1,2,3,4,5]\n",
    "li2 = [\"mayank \",\"singla\"]\n",
    "li.append(li2)\n",
    "print(li)\n",
    "li.remove(4)\n",
    "print(li)"
   ]
  },
  {
   "cell_type": "code",
   "execution_count": 75,
   "metadata": {},
   "outputs": [
    {
     "name": "stdout",
     "output_type": "stream",
     "text": [
      "4444\n",
      "4444\n",
      "4444\n",
      "4444\n"
     ]
    }
   ],
   "source": [
    "n = int(input())\n",
    "for i in range(n):\n",
    "    for j in range(n):\n",
    "        print(n,end=\"\")\n",
    "    print()"
   ]
  },
  {
   "cell_type": "code",
   "execution_count": 69,
   "metadata": {},
   "outputs": [
    {
     "name": "stdout",
     "output_type": "stream",
     "text": [
      "pc\n",
      "laptop\n",
      "mobile\n"
     ]
    }
   ],
   "source": [
    "def devices(electronics):\n",
    "    for i in electronic:\n",
    "        print(i)\n",
    "\n",
    "electronic = [\"pc\",\"laptop\",\"mobile\"]\n",
    "devices(electronic)"
   ]
  },
  {
   "cell_type": "code",
   "execution_count": 77,
   "metadata": {},
   "outputs": [
    {
     "name": "stdout",
     "output_type": "stream",
     "text": [
      "10\n",
      "11\n",
      "12\n",
      "13\n"
     ]
    }
   ],
   "source": [
    "for i in range(10,14):\n",
    "    for j in range(2,i):  # 2,3,4,5,6,7,8,9,10\n",
    "        if i%j==1:\n",
    "            print(i)\n",
    "            break"
   ]
  },
  {
   "cell_type": "code",
   "execution_count": 78,
   "metadata": {},
   "outputs": [
    {
     "name": "stdout",
     "output_type": "stream",
     "text": [
      "1\n",
      "2\n",
      "3\n",
      "4\n",
      "5\n",
      "mayank sharma\n",
      "2.23\n"
     ]
    }
   ],
   "source": [
    "li = [1,2,3,4,5,\"mayank sharma\",2.23]\n",
    "for i in li:\n",
    "    print(i)"
   ]
  },
  {
   "cell_type": "code",
   "execution_count": 79,
   "metadata": {},
   "outputs": [
    {
     "data": {
      "text/plain": [
       "[1, 2, 3, 4, 5, 'mayank sharma', 2.23]"
      ]
     },
     "execution_count": 79,
     "metadata": {},
     "output_type": "execute_result"
    }
   ],
   "source": [
    "li"
   ]
  },
  {
   "cell_type": "code",
   "execution_count": 82,
   "metadata": {},
   "outputs": [
    {
     "data": {
      "text/plain": [
       "[1, 2, 3, 'mayank sharma', 2.23]"
      ]
     },
     "execution_count": 82,
     "metadata": {},
     "output_type": "execute_result"
    }
   ],
   "source": [
    "li.pop(3)\n",
    "li"
   ]
  },
  {
   "cell_type": "code",
   "execution_count": 85,
   "metadata": {},
   "outputs": [
    {
     "data": {
      "text/plain": [
       "[1, 2, 3, 'mayank sharma', 2.23, 6, 6, 546678]"
      ]
     },
     "execution_count": 85,
     "metadata": {},
     "output_type": "execute_result"
    }
   ],
   "source": [
    "li.append(546678)\n",
    "li"
   ]
  },
  {
   "cell_type": "code",
   "execution_count": 93,
   "metadata": {},
   "outputs": [
    {
     "data": {
      "text/plain": [
       "[1, 2, 3, 'mayank sharma', 2.23, 6, 6, 546678]"
      ]
     },
     "execution_count": 93,
     "metadata": {},
     "output_type": "execute_result"
    }
   ],
   "source": [
    "li "
   ]
  },
  {
   "cell_type": "code",
   "execution_count": null,
   "metadata": {},
   "outputs": [],
   "source": []
  },
  {
   "cell_type": "code",
   "execution_count": 3,
   "metadata": {},
   "outputs": [
    {
     "data": {
      "text/plain": [
       "['mayank sharma', [1, 2, 3, 4, 5]]"
      ]
     },
     "execution_count": 3,
     "metadata": {},
     "output_type": "execute_result"
    }
   ],
   "source": [
    "li1 = [1,2,3,4,5]\n",
    "li2 = [\"mayank sharma\"]\n",
    "li2.append(li1)\n",
    "li2"
   ]
  },
  {
   "cell_type": "code",
   "execution_count": 12,
   "metadata": {},
   "outputs": [
    {
     "data": {
      "text/plain": [
       "3"
      ]
     },
     "execution_count": 12,
     "metadata": {},
     "output_type": "execute_result"
    }
   ],
   "source": [
    "li2[1][2]"
   ]
  },
  {
   "cell_type": "code",
   "execution_count": 10,
   "metadata": {},
   "outputs": [
    {
     "data": {
      "text/plain": [
       "[1, 1, 2, 2, 3, 4, 4, 12232, 3454355]"
      ]
     },
     "execution_count": 10,
     "metadata": {},
     "output_type": "execute_result"
    }
   ],
   "source": [
    "list1 = [1,2,3,4,4,12232,3454355,1,2,]\n",
    "list1.sort()\n",
    "list1"
   ]
  },
  {
   "cell_type": "code",
   "execution_count": 13,
   "metadata": {},
   "outputs": [
    {
     "data": {
      "text/plain": [
       "['mayank sharma', 1, 2, 3, 4, 5]"
      ]
     },
     "execution_count": 13,
     "metadata": {},
     "output_type": "execute_result"
    }
   ],
   "source": [
    "li1 = [1,2,3,4,5]\n",
    "li2 = [\"mayank sharma\"]\n",
    "li2.extend(li1)\n",
    "li2"
   ]
  },
  {
   "cell_type": "code",
   "execution_count": 19,
   "metadata": {},
   "outputs": [
    {
     "data": {
      "text/plain": [
       "[4, 4, 4, 1, 4, 4, 2, 3, 4, 5]"
      ]
     },
     "execution_count": 19,
     "metadata": {},
     "output_type": "execute_result"
    }
   ],
   "source": [
    "li1"
   ]
  },
  {
   "cell_type": "code",
   "execution_count": 21,
   "metadata": {},
   "outputs": [
    {
     "data": {
      "text/plain": [
       "[1, 2, 4, 3, 4, 5]"
      ]
     },
     "execution_count": 21,
     "metadata": {},
     "output_type": "execute_result"
    }
   ],
   "source": [
    "list1 = [1,2,3,4,5]\n",
    "list1.insert(2,4)\n",
    "list1"
   ]
  },
  {
   "cell_type": "code",
   "execution_count": 26,
   "metadata": {},
   "outputs": [
    {
     "name": "stdout",
     "output_type": "stream",
     "text": [
      "5\n"
     ]
    }
   ],
   "source": [
    "def add(a,b):\n",
    "    a = a + b\n",
    "    return a\n",
    "\n",
    "a = 2\n",
    "b = 3\n",
    "c = add(a,b)\n",
    "print(c)"
   ]
  },
  {
   "cell_type": "code",
   "execution_count": 32,
   "metadata": {},
   "outputs": [
    {
     "data": {
      "text/plain": [
       "['mayank sharma', 4, 3, 2, 1]"
      ]
     },
     "execution_count": 32,
     "metadata": {},
     "output_type": "execute_result"
    }
   ],
   "source": [
    "li = [1,2,3,4,\"mayank sharma\"]\n",
    "li[::-1]"
   ]
  },
  {
   "cell_type": "code",
   "execution_count": 35,
   "metadata": {},
   "outputs": [
    {
     "data": {
      "text/plain": [
       "[1, 2, 3, 4, 'mayank sharma']"
      ]
     },
     "execution_count": 35,
     "metadata": {},
     "output_type": "execute_result"
    }
   ],
   "source": [
    "list1 = [1,2,3,4]\n",
    "list2 = [\"mayank sharma\"]\n",
    "list1.extend(list2)\n",
    "list1"
   ]
  },
  {
   "cell_type": "code",
   "execution_count": 37,
   "metadata": {},
   "outputs": [
    {
     "data": {
      "text/plain": [
       "[1, 2, 3, 4, 7]"
      ]
     },
     "execution_count": 37,
     "metadata": {},
     "output_type": "execute_result"
    }
   ],
   "source": [
    "list1[4] = 7\n",
    "list1"
   ]
  },
  {
   "cell_type": "code",
   "execution_count": 38,
   "metadata": {},
   "outputs": [
    {
     "data": {
      "text/plain": [
       "[1, 2, 3, 4, 7]"
      ]
     },
     "execution_count": 38,
     "metadata": {},
     "output_type": "execute_result"
    }
   ],
   "source": [
    "list1"
   ]
  },
  {
   "cell_type": "code",
   "execution_count": 40,
   "metadata": {},
   "outputs": [
    {
     "data": {
      "text/plain": [
       "[1, 2, 3]"
      ]
     },
     "execution_count": 40,
     "metadata": {},
     "output_type": "execute_result"
    }
   ],
   "source": [
    "list1.pop()\n",
    "list1"
   ]
  },
  {
   "cell_type": "code",
   "execution_count": 41,
   "metadata": {},
   "outputs": [
    {
     "data": {
      "text/plain": [
       "[1, 2, 3]"
      ]
     },
     "execution_count": 41,
     "metadata": {},
     "output_type": "execute_result"
    }
   ],
   "source": [
    "list1"
   ]
  },
  {
   "cell_type": "code",
   "execution_count": 45,
   "metadata": {},
   "outputs": [
    {
     "data": {
      "text/plain": [
       "[1, 7, 4, 4, 2, 3]"
      ]
     },
     "execution_count": 45,
     "metadata": {},
     "output_type": "execute_result"
    }
   ],
   "source": [
    "list1.insert(1,7)\n",
    "list1\n"
   ]
  },
  {
   "cell_type": "code",
   "execution_count": 48,
   "metadata": {},
   "outputs": [
    {
     "data": {
      "text/plain": [
       "[1, 7, 4, 2]"
      ]
     },
     "execution_count": 48,
     "metadata": {},
     "output_type": "execute_result"
    }
   ],
   "source": [
    "list1.remove(4)\n",
    "list1"
   ]
  },
  {
   "cell_type": "code",
   "execution_count": 51,
   "metadata": {},
   "outputs": [
    {
     "data": {
      "text/plain": [
       "[1, 3, 4, 5, 2]"
      ]
     },
     "execution_count": 51,
     "metadata": {},
     "output_type": "execute_result"
    }
   ],
   "source": [
    "list3 = [1,2,3,4,5,2]\n",
    "list3.remove(2)\n",
    "list3"
   ]
  },
  {
   "cell_type": "code",
   "execution_count": 53,
   "metadata": {},
   "outputs": [
    {
     "data": {
      "text/plain": [
       "[9, 8, 7, 5, 4, 3, 2, 1, 0]"
      ]
     },
     "execution_count": 53,
     "metadata": {},
     "output_type": "execute_result"
    }
   ],
   "source": [
    "list4 = [1,7,8,2,3,9,0,4,5]\n",
    "list4.sort(reverse=True)\n",
    "list4"
   ]
  },
  {
   "cell_type": "code",
   "execution_count": 54,
   "metadata": {},
   "outputs": [
    {
     "name": "stdout",
     "output_type": "stream",
     "text": [
      "['apple', 'bannana', 'cherry']\n"
     ]
    }
   ],
   "source": [
    "fruits = [\"apple\",\"bannana\",\"cherry\"]\n",
    "print(fruits)"
   ]
  },
  {
   "cell_type": "code",
   "execution_count": 56,
   "metadata": {},
   "outputs": [
    {
     "name": "stdout",
     "output_type": "stream",
     "text": [
      "apple\n",
      "bannana\n",
      "cherry\n"
     ]
    }
   ],
   "source": [
    "for i in fruits:\n",
    "    print(i)"
   ]
  },
  {
   "cell_type": "code",
   "execution_count": 60,
   "metadata": {},
   "outputs": [
    {
     "name": "stdout",
     "output_type": "stream",
     "text": [
      "apple\n",
      "bannana\n",
      "cherry\n"
     ]
    }
   ],
   "source": [
    "def food(fruits2):\n",
    "    for i in fruits:\n",
    "        print(i)\n",
    "    \n",
    "\n",
    "fruits2 = [\"apple\",\"mango\",\"watermelon\"]\n",
    "food(fruits)"
   ]
  },
  {
   "cell_type": "code",
   "execution_count": 63,
   "metadata": {},
   "outputs": [
    {
     "name": "stdout",
     "output_type": "stream",
     "text": [
      "[1, 2, 3, 4]\n"
     ]
    }
   ],
   "source": [
    "n = int(input())\n",
    "li = []\n",
    "for i in range(n):\n",
    "    mayank = int(input())\n",
    "    li.append(mayank)\n",
    "print(li)\n"
   ]
  },
  {
   "cell_type": "code",
   "execution_count": 72,
   "metadata": {},
   "outputs": [
    {
     "ename": "AttributeError",
     "evalue": "'list' object has no attribute 'split'",
     "output_type": "error",
     "traceback": [
      "\u001b[1;31m---------------------------------------------------------------------------\u001b[0m",
      "\u001b[1;31mAttributeError\u001b[0m                            Traceback (most recent call last)",
      "Cell \u001b[1;32mIn [72], line 2\u001b[0m\n\u001b[0;32m      1\u001b[0m list4 \u001b[39m=\u001b[39m [\u001b[39m1\u001b[39m,\u001b[39m2\u001b[39m,\u001b[39m3\u001b[39m,\u001b[39m4\u001b[39m,\u001b[39m\"\u001b[39m\u001b[39mmayank\u001b[39m\u001b[39m\"\u001b[39m,\u001b[39m5\u001b[39m]\n\u001b[1;32m----> 2\u001b[0m c\u001b[39m=\u001b[39mlist4\u001b[39m.\u001b[39;49msplit()\n\u001b[0;32m      3\u001b[0m \u001b[39mprint\u001b[39m(c)\n",
      "\u001b[1;31mAttributeError\u001b[0m: 'list' object has no attribute 'split'"
     ]
    }
   ],
   "source": [
    "list4 = [1,2,3,4,\"mayank\",5]\n",
    "c=list4.split()\n",
    "print(c)"
   ]
  },
  {
   "cell_type": "code",
   "execution_count": 73,
   "metadata": {},
   "outputs": [],
   "source": [
    "lst1 = [1,2,3,4,5,6,7,8,9]\n",
    "lst2 = []"
   ]
  },
  {
   "cell_type": "code",
   "execution_count": 74,
   "metadata": {},
   "outputs": [
    {
     "data": {
      "text/plain": [
       "[2, 4, 6, 8]"
      ]
     },
     "execution_count": 74,
     "metadata": {},
     "output_type": "execute_result"
    }
   ],
   "source": [
    "lst2 = [i for i in lst1 if i%2==0]\n",
    "lst2"
   ]
  },
  {
   "cell_type": "code",
   "execution_count": 75,
   "metadata": {},
   "outputs": [
    {
     "data": {
      "text/plain": [
       "300"
      ]
     },
     "execution_count": 75,
     "metadata": {},
     "output_type": "execute_result"
    }
   ],
   "source": [
    "(lambda x,y,z:(x+y+z))(100,100,100)"
   ]
  },
  {
   "cell_type": "code",
   "execution_count": 4,
   "metadata": {},
   "outputs": [
    {
     "name": "stdout",
     "output_type": "stream",
     "text": [
      "true\n"
     ]
    }
   ],
   "source": [
    "n = input()\n",
    "s = n[::-1]\n",
    "if(s==n):\n",
    "    print(\"true\")\n",
    "else:\n",
    "    print(\"false\")"
   ]
  },
  {
   "cell_type": "code",
   "execution_count": 9,
   "metadata": {},
   "outputs": [
    {
     "data": {
      "text/plain": [
       "1"
      ]
     },
     "execution_count": 9,
     "metadata": {},
     "output_type": "execute_result"
    }
   ],
   "source": [
    "new_list2 = [1,2,3,4,5]\n",
    "min(new_list2)"
   ]
  },
  {
   "cell_type": "code",
   "execution_count": 13,
   "metadata": {},
   "outputs": [
    {
     "name": "stdout",
     "output_type": "stream",
     "text": [
      "5\n"
     ]
    }
   ],
   "source": [
    "new_list3 = [1,2,3,4,5]\n",
    "greatest = new_list3[0]\n",
    "for i in new_list3:\n",
    "    if(greatest < i):\n",
    "        greatest = i\n",
    "print(greatest)"
   ]
  },
  {
   "cell_type": "code",
   "execution_count": 18,
   "metadata": {},
   "outputs": [
    {
     "name": "stdout",
     "output_type": "stream",
     "text": [
      "1738450650816\n"
     ]
    }
   ],
   "source": [
    "print(id(new_list3))"
   ]
  },
  {
   "cell_type": "code",
   "execution_count": null,
   "metadata": {},
   "outputs": [],
   "source": []
  },
  {
   "cell_type": "markdown",
   "metadata": {},
   "source": [
    "n = int(input())\n",
    "rev = 0\n",
    "x = n\n",
    "while n>0:\n",
    "    rev = rev*10+rev%10\n",
    "    n = n//10\n",
    "    if(rev==n):\n",
    "        print(\"true\")\n",
    "        break\n",
    "    else:\n",
    "        print(\"false\")\n",
    "    i = i + 1 "
   ]
  },
  {
   "cell_type": "code",
   "execution_count": 58,
   "metadata": {},
   "outputs": [
    {
     "name": "stdout",
     "output_type": "stream",
     "text": [
      "true\n"
     ]
    }
   ],
   "source": [
    "n = int(input())\n",
    "rev = 0\n",
    "x = n\n",
    "while n>0:\n",
    "    rev = (rev*10)+n%10\n",
    "    n = n//10\n",
    "if(rev==x):\n",
    "    print(\"true\")\n",
    "\n",
    "else:\n",
    "    print(\"false\")\n",
    "        \n",
    " "
   ]
  },
  {
   "cell_type": "code",
   "execution_count": 66,
   "metadata": {},
   "outputs": [
    {
     "name": "stdout",
     "output_type": "stream",
     "text": [
      "true\n"
     ]
    }
   ],
   "source": [
    "num = int(input())\n",
    "'''\n",
    "x = num\n",
    "n=0\n",
    "while(x>0):\n",
    "    n=n+1  # counting number of digits\n",
    "    x=x//10\n",
    "'''\n",
    "sum = 0\n",
    "temp = num\n",
    "while temp > 0:\n",
    "   digit = temp % 10\n",
    "   sum += digit ** n #number of digits in power\n",
    "   temp //= 10\n",
    "if num == sum:\n",
    "    print(\"true\")\n",
    "else:\n",
    "    print(\"false\")"
   ]
  },
  {
   "cell_type": "code",
   "execution_count": 84,
   "metadata": {},
   "outputs": [
    {
     "name": "stdout",
     "output_type": "stream",
     "text": [
      "false\n"
     ]
    }
   ],
   "source": [
    "n = int(input())\n",
    "x = n\n",
    "sum = 0\n",
    "while n>0:\n",
    "    digit = n%10\n",
    "    sum = sum + digit**n\n",
    "    n = n//10\n",
    "if(x == sum):\n",
    "    print(\"true\")\n",
    "else:\n",
    "    print(\"false\")\n",
    "\n"
   ]
  },
  {
   "cell_type": "code",
   "execution_count": 129,
   "metadata": {},
   "outputs": [
    {
     "name": "stdout",
     "output_type": "stream",
     "text": [
      "1   -17\n",
      "2   -16\n",
      "3   -16\n",
      "4   -15\n",
      "5   -15\n",
      "6   -14\n"
     ]
    }
   ],
   "source": [
    "def printTable(start,end,step):\n",
    "    for curr_temp in range(start, end+1, step):\n",
    "        c = 5/9 * (curr_temp-32)\n",
    "        print(curr_temp, \" \",int(c))\n",
    "   \n",
    "s = int(input())\n",
    "e = int(input())\n",
    "step = int(input())\n",
    "printTable(s,e,step)\n",
    "\n"
   ]
  },
  {
   "cell_type": "code",
   "execution_count": 128,
   "metadata": {},
   "outputs": [
    {
     "name": "stdout",
     "output_type": "stream",
     "text": [
      "['1', '2', '3', '4', '5']\n"
     ]
    }
   ],
   "source": [
    "li = [x for x in input().split()]\n",
    "print(li)"
   ]
  },
  {
   "cell_type": "code",
   "execution_count": 126,
   "metadata": {},
   "outputs": [
    {
     "name": "stdout",
     "output_type": "stream",
     "text": [
      "15\n"
     ]
    }
   ],
   "source": [
    "list = [1,2,3,4,5]\n",
    "# 1+2+3+4+5 = 15\n",
    "sum=0\n",
    "for i in range(len(list)):\n",
    "    sum = sum+list[i]\n",
    "print(sum)\n"
   ]
  },
  {
   "cell_type": "code",
   "execution_count": 18,
   "metadata": {},
   "outputs": [
    {
     "data": {
      "text/plain": [
       "2462037573872"
      ]
     },
     "execution_count": 18,
     "metadata": {},
     "output_type": "execute_result"
    }
   ],
   "source": [
    "list1 = [[1,2,3,4],[5,6,7,8],[67,78,90],[12,34,5,6,78],[12,34,56,78,78]]\n",
    "#print(list1)\n",
    "id(1)\n",
    "#id(list1)\n",
    "#id(list[0])"
   ]
  },
  {
   "cell_type": "code",
   "execution_count": 19,
   "metadata": {},
   "outputs": [
    {
     "data": {
      "text/plain": [
       "[[1, 2, 3, 4],\n",
       " [5, 6, 7, 8],\n",
       " [67, 78, 90],\n",
       " [12, 34, 5, 6, 78],\n",
       " [12, 34, 56, 78, 78]]"
      ]
     },
     "execution_count": 19,
     "metadata": {},
     "output_type": "execute_result"
    }
   ],
   "source": [
    "list1"
   ]
  },
  {
   "cell_type": "code",
   "execution_count": 27,
   "metadata": {},
   "outputs": [],
   "source": [
    "li1 = [1,2,3,4,5,6,7,8,9,10]\n",
    "li2 = []"
   ]
  },
  {
   "cell_type": "code",
   "execution_count": 29,
   "metadata": {},
   "outputs": [
    {
     "data": {
      "text/plain": [
       "[2, 3, 4, 6, 8, 9, 10]"
      ]
     },
     "execution_count": 29,
     "metadata": {},
     "output_type": "execute_result"
    }
   ],
   "source": [
    "li2 = [i for i in li1 if i%2==0 or i%3==0]\n",
    "li2"
   ]
  },
  {
   "cell_type": "code",
   "execution_count": 30,
   "metadata": {},
   "outputs": [
    {
     "data": {
      "text/plain": [
       "[6]"
      ]
     },
     "execution_count": 30,
     "metadata": {},
     "output_type": "execute_result"
    }
   ],
   "source": [
    "li2 = [i for i in li1 if i%2==0 and i%3==0]\n",
    "li2"
   ]
  },
  {
   "cell_type": "code",
   "execution_count": 14,
   "metadata": {},
   "outputs": [
    {
     "name": "stdout",
     "output_type": "stream",
     "text": [
      "[10, 10, 10, 10]\n",
      "[8, 9, 11, 13]\n",
      "[10, 10, 20, 22]\n"
     ]
    }
   ],
   "source": [
    "x = [[1,2,3,4],\n",
    "    [5,6,7,8],\n",
    "    [8,9,10,11]]\n",
    "\n",
    "y = [[9,8,7,6],\n",
    "    [3,3,4,5],\n",
    "    [2,1,10,11]]\n",
    "result = [[0,0,0,0],\n",
    "        [0,0,0,0],\n",
    "        [0,0,0,0]] \n",
    "for i in range(len(x)):\n",
    "    for j in range(len(x[0])):\n",
    "        result[i][j] = x[i][j] + y[i][j]\n",
    "for r in result:\n",
    "    print(r)\n",
    "#print(result)"
   ]
  },
  {
   "cell_type": "code",
   "execution_count": 23,
   "metadata": {},
   "outputs": [
    {
     "name": "stdout",
     "output_type": "stream",
     "text": [
      "[10, 10, 10, 10]\n",
      "[8, 9, 11, 13]\n",
      "[10, 10, 20, 22]\n"
     ]
    }
   ],
   "source": [
    "x = [[1,2,3,4],\n",
    "    [5,6,7,8],\n",
    "    [8,9,10,11]]\n",
    "\n",
    "y = [[9,8,7,6],\n",
    "    [3,3,4,5],\n",
    "    [2,1,10,11]]\n",
    "result = [[0,0,0,0],\n",
    "        [0,0,0,0],\n",
    "        [0,0,0,0]] \n",
    "for i in range(len(x)):\n",
    "    for j in range(len(y[0])):\n",
    "        result[i][j] = x[i][j] + y[i][j]\n",
    "for r in result:\n",
    "    print(r)"
   ]
  },
  {
   "cell_type": "code",
   "execution_count": 26,
   "metadata": {},
   "outputs": [
    {
     "name": "stdout",
     "output_type": "stream",
     "text": [
      "[9, 16, 21, 24]\n",
      "[15, 18, 28, 40]\n",
      "[16, 9, 100, 121]\n"
     ]
    }
   ],
   "source": [
    "x = [[1,2,3,4],\n",
    "    [5,6,7,8],\n",
    "    [8,9,10,11]]\n",
    "\n",
    "y = [[9,8,7,6],\n",
    "    [3,3,4,5],\n",
    "    [2,1,10,11]]\n",
    "result = [[0,0,0,0],\n",
    "        [0,0,0,0],\n",
    "        [0,0,0,0]] \n",
    "for i in range(len(x)):\n",
    "    for j in range(len(y[0])):\n",
    "        result[i][j] = x[i][j] * y[i][j]\n",
    "for r in result:\n",
    "    print(r)"
   ]
  },
  {
   "cell_type": "markdown",
   "metadata": {},
   "source": [
    "doubt"
   ]
  },
  {
   "cell_type": "code",
   "execution_count": 124,
   "metadata": {},
   "outputs": [
    {
     "name": "stdout",
     "output_type": "stream",
     "text": [
      "[27, 48, 63, 72]\n",
      "[45, 54, 84, 120]\n",
      "[48, 27, 300, 363]\n"
     ]
    }
   ],
   "source": [
    "x = [[1,2,3,4],\n",
    "    [5,6,7,8],\n",
    "    [8,9,10,11]]\n",
    "\n",
    "y = [[9,8,7,6],\n",
    "    [3,3,4,5],\n",
    "    [2,1,10,11]]\n",
    "result = [[0,0,0,0],\n",
    "        [0,0,0,0],\n",
    "        [0,0,0,0]] \n",
    "for i in range(len(x)):\n",
    "    for j in range(len(y[0])):\n",
    "\n",
    "        for k in range(len(result)):\n",
    "            result[i][j] += x[i][j] * y[i][j]\n",
    "\n",
    "for r in result:\n",
    "    print(r)"
   ]
  },
  {
   "cell_type": "code",
   "execution_count": 5,
   "metadata": {},
   "outputs": [
    {
     "ename": "ModuleNotFoundError",
     "evalue": "No module named 'numpy'",
     "output_type": "error",
     "traceback": [
      "\u001b[1;31m---------------------------------------------------------------------------\u001b[0m",
      "\u001b[1;31mModuleNotFoundError\u001b[0m                       Traceback (most recent call last)",
      "Cell \u001b[1;32mIn [5], line 1\u001b[0m\n\u001b[1;32m----> 1\u001b[0m \u001b[39mimport\u001b[39;00m \u001b[39mnumpy\u001b[39;00m \u001b[39mas\u001b[39;00m \u001b[39mnp\u001b[39;00m\n\u001b[0;32m      2\u001b[0m x \u001b[39m=\u001b[39m [[\u001b[39m1\u001b[39m,\u001b[39m2\u001b[39m,\u001b[39m3\u001b[39m,\u001b[39m4\u001b[39m],\n\u001b[0;32m      3\u001b[0m     [\u001b[39m5\u001b[39m,\u001b[39m6\u001b[39m,\u001b[39m7\u001b[39m,\u001b[39m8\u001b[39m],\n\u001b[0;32m      4\u001b[0m     [\u001b[39m8\u001b[39m,\u001b[39m9\u001b[39m,\u001b[39m10\u001b[39m,\u001b[39m11\u001b[39m]]\n\u001b[0;32m      6\u001b[0m y \u001b[39m=\u001b[39m [[\u001b[39m9\u001b[39m,\u001b[39m8\u001b[39m,\u001b[39m7\u001b[39m,\u001b[39m6\u001b[39m],\n\u001b[0;32m      7\u001b[0m     [\u001b[39m3\u001b[39m,\u001b[39m3\u001b[39m,\u001b[39m4\u001b[39m,\u001b[39m5\u001b[39m],\n\u001b[0;32m      8\u001b[0m     [\u001b[39m2\u001b[39m,\u001b[39m1\u001b[39m,\u001b[39m10\u001b[39m,\u001b[39m11\u001b[39m]]\n",
      "\u001b[1;31mModuleNotFoundError\u001b[0m: No module named 'numpy'"
     ]
    }
   ],
   "source": [
    "import numpy as np\n",
    "x = [[1,2,3,4],\n",
    "    [5,6,7,8],\n",
    "    [8,9,10,11]]\n",
    "\n",
    "y = [[9,8,7,6],\n",
    "    [3,3,4,5],\n",
    "    [2,1,10,11]]\n",
    "\n",
    "np.dot(x,y)"
   ]
  },
  {
   "cell_type": "code",
   "execution_count": 3,
   "metadata": {},
   "outputs": [
    {
     "ename": "ModuleNotFoundError",
     "evalue": "No module named 'numpy'",
     "output_type": "error",
     "traceback": [
      "\u001b[1;31m---------------------------------------------------------------------------\u001b[0m",
      "\u001b[1;31mModuleNotFoundError\u001b[0m                       Traceback (most recent call last)",
      "Cell \u001b[1;32mIn [3], line 1\u001b[0m\n\u001b[1;32m----> 1\u001b[0m \u001b[39mimport\u001b[39;00m \u001b[39mnumpy\u001b[39;00m \u001b[39mas\u001b[39;00m \u001b[39mnp\u001b[39;00m\n\u001b[0;32m      2\u001b[0m x \u001b[39m=\u001b[39m [[\u001b[39m1\u001b[39m,\u001b[39m2\u001b[39m,\u001b[39m3\u001b[39m,\u001b[39m4\u001b[39m],\n\u001b[0;32m      3\u001b[0m     [\u001b[39m5\u001b[39m,\u001b[39m6\u001b[39m,\u001b[39m7\u001b[39m,\u001b[39m8\u001b[39m]]\n\u001b[0;32m      5\u001b[0m y \u001b[39m=\u001b[39m [[\u001b[39m9\u001b[39m,\u001b[39m8\u001b[39m,\u001b[39m7\u001b[39m,\u001b[39m6\u001b[39m],\n\u001b[0;32m      6\u001b[0m     [\u001b[39m3\u001b[39m,\u001b[39m3\u001b[39m,\u001b[39m4\u001b[39m,\u001b[39m5\u001b[39m]]\n",
      "\u001b[1;31mModuleNotFoundError\u001b[0m: No module named 'numpy'"
     ]
    }
   ],
   "source": [
    "import numpy as np\n",
    "x = [[1,2,3,4],\n",
    "    [5,6,7,8]]\n",
    "\n",
    "y = [[9,8,7,6],\n",
    "    [3,3,4,5]]\n",
    "\n",
    "np.dot(x,y)"
   ]
  },
  {
   "cell_type": "code",
   "execution_count": 4,
   "metadata": {},
   "outputs": [
    {
     "ename": "ModuleNotFoundError",
     "evalue": "No module named 'numpy'",
     "output_type": "error",
     "traceback": [
      "\u001b[1;31m---------------------------------------------------------------------------\u001b[0m",
      "\u001b[1;31mModuleNotFoundError\u001b[0m                       Traceback (most recent call last)",
      "Cell \u001b[1;32mIn [4], line 1\u001b[0m\n\u001b[1;32m----> 1\u001b[0m \u001b[39mimport\u001b[39;00m \u001b[39mnumpy\u001b[39;00m \u001b[39mas\u001b[39;00m \u001b[39mnp\u001b[39;00m\n\u001b[0;32m      2\u001b[0m arr\u001b[39m=\u001b[39mnp\u001b[39m.\u001b[39marray([[\u001b[39m1\u001b[39m,\u001b[39m2\u001b[39m,\u001b[39m3\u001b[39m,\u001b[39m4\u001b[39m,\u001b[39m5\u001b[39m],[\u001b[39m11\u001b[39m,\u001b[39m232\u001b[39m,\u001b[39m131\u001b[39m,\u001b[39m121\u001b[39m,\u001b[39m112\u001b[39m]])\n\u001b[0;32m      3\u001b[0m x\u001b[39m=\u001b[39marr\u001b[39m.\u001b[39mshape\n",
      "\u001b[1;31mModuleNotFoundError\u001b[0m: No module named 'numpy'"
     ]
    }
   ],
   "source": [
    "import numpy as np\n",
    "arr=np.array([[1,2,3,4,5],[11,232,131,121,112]])\n",
    "x=arr.shape\n",
    "print(arr)\n",
    "print(type(arr))\n",
    "print(x)\n",
    "arr.dtype"
   ]
  },
  {
   "cell_type": "code",
   "execution_count": 123,
   "metadata": {},
   "outputs": [
    {
     "data": {
      "text/plain": [
       "[[5, 6, 7, 8]]"
      ]
     },
     "execution_count": 123,
     "metadata": {},
     "output_type": "execute_result"
    }
   ],
   "source": [
    "str = input().split()\n",
    "n,m = int(str[0]),int(str[1])\n",
    "li = [[int(j) for j in input().split()] for i in range(n)]\n",
    "li"
   ]
  },
  {
   "cell_type": "code",
   "execution_count": 122,
   "metadata": {},
   "outputs": [
    {
     "data": {
      "text/plain": [
       "[[5, 6, 7, 8]]"
      ]
     },
     "execution_count": 122,
     "metadata": {},
     "output_type": "execute_result"
    }
   ],
   "source": [
    "li"
   ]
  },
  {
   "cell_type": "code",
   "execution_count": 111,
   "metadata": {},
   "outputs": [],
   "source": [
    "n = 8\n",
    "#m = 4\n",
    "li = [[int(j) for j in input().split()]for i in range(n)]"
   ]
  },
  {
   "cell_type": "code",
   "execution_count": 120,
   "metadata": {},
   "outputs": [
    {
     "data": {
      "text/plain": [
       "[1, 2, 3, 4, 5]"
      ]
     },
     "execution_count": 120,
     "metadata": {},
     "output_type": "execute_result"
    }
   ],
   "source": [
    "li3 = [int (i) for i in input().split()]\n",
    "li3"
   ]
  },
  {
   "cell_type": "code",
   "execution_count": 112,
   "metadata": {},
   "outputs": [
    {
     "data": {
      "text/plain": [
       "[[1], [2], [3], [4], [5], [6], [7], [8]]"
      ]
     },
     "execution_count": 112,
     "metadata": {},
     "output_type": "execute_result"
    }
   ],
   "source": [
    "li"
   ]
  },
  {
   "cell_type": "code",
   "execution_count": 23,
   "metadata": {},
   "outputs": [
    {
     "name": "stdout",
     "output_type": "stream",
     "text": [
      "<class 'list'>\n"
     ]
    }
   ],
   "source": [
    "print(type(li))"
   ]
  },
  {
   "cell_type": "code",
   "execution_count": 28,
   "metadata": {},
   "outputs": [
    {
     "name": "stdout",
     "output_type": "stream",
     "text": [
      "123\n",
      "456\n"
     ]
    }
   ],
   "source": [
    "st = input().split()\n",
    "n,m = int(st[0]),int(st[1])\n",
    "b = input().split()\n",
    "arr = [[int(b[m*i+j]) for j in range(m)] for i in range(n)]\n",
    "\n",
    "\n",
    "for i in range(n):\n",
    "    for j in range(m):\n",
    "        print(arr[i][j],end=\"\")\n",
    "    print()"
   ]
  },
  {
   "cell_type": "code",
   "execution_count": 31,
   "metadata": {},
   "outputs": [
    {
     "data": {
      "text/plain": [
       "[[1, 2, 3], [4, 5, 6]]"
      ]
     },
     "execution_count": 31,
     "metadata": {},
     "output_type": "execute_result"
    }
   ],
   "source": [
    "arr"
   ]
  },
  {
   "cell_type": "code",
   "execution_count": 7,
   "metadata": {},
   "outputs": [
    {
     "name": "stdout",
     "output_type": "stream",
     "text": [
      "[2, 4]\n"
     ]
    }
   ],
   "source": [
    "li = [1,2,3,4]\n",
    "li2 = [2,6,4,8]\n",
    "li3 = []\n",
    "for i in li:\n",
    "    for j in li2:\n",
    "        if i==j:\n",
    "            li3.append(i)\n",
    "print(li3)\n",
    "            "
   ]
  },
  {
   "cell_type": "code",
   "execution_count": 9,
   "metadata": {},
   "outputs": [],
   "source": [
    "list = [1,2,3,4]\n",
    "list2 = [2,4,6,7]\n",
    "list3 = []"
   ]
  },
  {
   "cell_type": "code",
   "execution_count": 10,
   "metadata": {},
   "outputs": [
    {
     "data": {
      "text/plain": [
       "[2, 4]"
      ]
     },
     "execution_count": 10,
     "metadata": {},
     "output_type": "execute_result"
    }
   ],
   "source": [
    "list3 = [i for i in list for j in list2 if i == j]\n",
    "list3"
   ]
  },
  {
   "cell_type": "code",
   "execution_count": 18,
   "metadata": {},
   "outputs": [
    {
     "data": {
      "text/plain": [
       "[['m', 'a', 'y', 'a', 'n', 'k'],\n",
       " ['k', 'a', 'u', 's', 'i', 'h', 'k'],\n",
       " ['b', 'a', 'n', 's', 'a', 'l']]"
      ]
     },
     "execution_count": 18,
     "metadata": {},
     "output_type": "execute_result"
    }
   ],
   "source": [
    "list_3 = [\"mayank\",\"kausihk\",\"bansal\"]\n",
    "list_2 = [[j for j in i]for i in list_3]\n",
    "list_2"
   ]
  },
  {
   "cell_type": "code",
   "execution_count": 34,
   "metadata": {},
   "outputs": [],
   "source": [
    "#str = input().split()\n",
    "n = int(input())\n",
    "m = int(input())\n",
    "str = input().split()\n",
    "li = [[int(j) for j in input().split()] for i in range(n)]\n"
   ]
  },
  {
   "cell_type": "code",
   "execution_count": 49,
   "metadata": {},
   "outputs": [
    {
     "data": {
      "text/plain": [
       "[[1, 2, 3], [1, 2, 3]]"
      ]
     },
     "execution_count": 49,
     "metadata": {},
     "output_type": "execute_result"
    }
   ],
   "source": [
    "str = input().split()\n",
    "n,m = int(str[0]),int(str[1])\n",
    "li = [[int(j) for j in input().split()] for i in range(n)]\n",
    "li"
   ]
  },
  {
   "cell_type": "code",
   "execution_count": 35,
   "metadata": {},
   "outputs": [
    {
     "data": {
      "text/plain": [
       "[[1, 2, 3], [1, 2, 3], [1, 2, 3]]"
      ]
     },
     "execution_count": 35,
     "metadata": {},
     "output_type": "execute_result"
    }
   ],
   "source": [
    "li"
   ]
  },
  {
   "cell_type": "code",
   "execution_count": 40,
   "metadata": {},
   "outputs": [
    {
     "ename": "TypeError",
     "evalue": "'builtin_function_or_method' object is not iterable",
     "output_type": "error",
     "traceback": [
      "\u001b[1;31m---------------------------------------------------------------------------\u001b[0m",
      "\u001b[1;31mTypeError\u001b[0m                                 Traceback (most recent call last)",
      "Cell \u001b[1;32mIn [40], line 3\u001b[0m\n\u001b[0;32m      1\u001b[0m \u001b[39mstr\u001b[39m \u001b[39m=\u001b[39m \u001b[39minput\u001b[39m()\u001b[39m.\u001b[39msplit()\n\u001b[0;32m      2\u001b[0m n,m \u001b[39m=\u001b[39m \u001b[39mint\u001b[39m(\u001b[39mstr\u001b[39m[\u001b[39m0\u001b[39m]),\u001b[39mint\u001b[39m(\u001b[39mstr\u001b[39m[\u001b[39m1\u001b[39m])\n\u001b[1;32m----> 3\u001b[0m li_2 \u001b[39m=\u001b[39m [[\u001b[39mint\u001b[39m(j) \u001b[39mfor\u001b[39;00m j \u001b[39min\u001b[39;00m \u001b[39minput\u001b[39m()\u001b[39m.\u001b[39msplit] \u001b[39mfor\u001b[39;00m i \u001b[39min\u001b[39;00m \u001b[39mrange\u001b[39m(n)]\n\u001b[0;32m      4\u001b[0m li_2\n",
      "Cell \u001b[1;32mIn [40], line 3\u001b[0m, in \u001b[0;36m<listcomp>\u001b[1;34m(.0)\u001b[0m\n\u001b[0;32m      1\u001b[0m \u001b[39mstr\u001b[39m \u001b[39m=\u001b[39m \u001b[39minput\u001b[39m()\u001b[39m.\u001b[39msplit()\n\u001b[0;32m      2\u001b[0m n,m \u001b[39m=\u001b[39m \u001b[39mint\u001b[39m(\u001b[39mstr\u001b[39m[\u001b[39m0\u001b[39m]),\u001b[39mint\u001b[39m(\u001b[39mstr\u001b[39m[\u001b[39m1\u001b[39m])\n\u001b[1;32m----> 3\u001b[0m li_2 \u001b[39m=\u001b[39m [[\u001b[39mint\u001b[39m(j) \u001b[39mfor\u001b[39;00m j \u001b[39min\u001b[39;00m \u001b[39minput\u001b[39m()\u001b[39m.\u001b[39msplit] \u001b[39mfor\u001b[39;00m i \u001b[39min\u001b[39;00m \u001b[39mrange\u001b[39m(n)]\n\u001b[0;32m      4\u001b[0m li_2\n",
      "\u001b[1;31mTypeError\u001b[0m: 'builtin_function_or_method' object is not iterable"
     ]
    }
   ],
   "source": [
    "str = input().split()\n",
    "n,m = int(str[0]),int(str[1])\n",
    "li_2 = [[int(j) for j in input().split] for i in range(n)]\n",
    "li_2"
   ]
  },
  {
   "cell_type": "code",
   "execution_count": 48,
   "metadata": {},
   "outputs": [
    {
     "data": {
      "text/plain": [
       "'rabcdt'"
      ]
     },
     "execution_count": 48,
     "metadata": {},
     "output_type": "execute_result"
    }
   ],
   "source": [
    "\"abcd\".join('rt')\n"
   ]
  },
  {
   "cell_type": "code",
   "execution_count": 44,
   "metadata": {},
   "outputs": [
    {
     "data": {
      "text/plain": [
       "'1abcd2abcd3'"
      ]
     },
     "execution_count": 44,
     "metadata": {},
     "output_type": "execute_result"
    }
   ],
   "source": [
    "\"abcd\".join(\"1\"\"2\"\"3\")"
   ]
  },
  {
   "cell_type": "code",
   "execution_count": 47,
   "metadata": {},
   "outputs": [
    {
     "data": {
      "text/plain": [
       "'1abcd2abcd3abcd4'"
      ]
     },
     "execution_count": 47,
     "metadata": {},
     "output_type": "execute_result"
    }
   ],
   "source": [
    "\"abcd\".join(['1','2','3','4'])"
   ]
  },
  {
   "cell_type": "code",
   "execution_count": 56,
   "metadata": {},
   "outputs": [
    {
     "ename": "TypeError",
     "evalue": "'list' object is not callable",
     "output_type": "error",
     "traceback": [
      "\u001b[1;31m---------------------------------------------------------------------------\u001b[0m",
      "\u001b[1;31mTypeError\u001b[0m                                 Traceback (most recent call last)",
      "Cell \u001b[1;32mIn [56], line 4\u001b[0m\n\u001b[0;32m      2\u001b[0m n\u001b[39m=\u001b[39m\u001b[39m3\u001b[39m\n\u001b[0;32m      3\u001b[0m \u001b[39mfor\u001b[39;00m row \u001b[39min\u001b[39;00m li:\n\u001b[1;32m----> 4\u001b[0m     output \u001b[39m=\u001b[39m \u001b[39m'\u001b[39m\u001b[39m \u001b[39m\u001b[39m'\u001b[39m\u001b[39m.\u001b[39mjoin([\u001b[39mstr\u001b[39m(ele) \u001b[39mfor\u001b[39;00m ele \u001b[39min\u001b[39;00m row])\n\u001b[0;32m      5\u001b[0m     \u001b[39mprint\u001b[39m(output)\n",
      "Cell \u001b[1;32mIn [56], line 4\u001b[0m, in \u001b[0;36m<listcomp>\u001b[1;34m(.0)\u001b[0m\n\u001b[0;32m      2\u001b[0m n\u001b[39m=\u001b[39m\u001b[39m3\u001b[39m\n\u001b[0;32m      3\u001b[0m \u001b[39mfor\u001b[39;00m row \u001b[39min\u001b[39;00m li:\n\u001b[1;32m----> 4\u001b[0m     output \u001b[39m=\u001b[39m \u001b[39m'\u001b[39m\u001b[39m \u001b[39m\u001b[39m'\u001b[39m\u001b[39m.\u001b[39mjoin([\u001b[39mstr\u001b[39;49m(ele) \u001b[39mfor\u001b[39;00m ele \u001b[39min\u001b[39;00m row])\n\u001b[0;32m      5\u001b[0m     \u001b[39mprint\u001b[39m(output)\n",
      "\u001b[1;31mTypeError\u001b[0m: 'list' object is not callable"
     ]
    }
   ],
   "source": [
    "# not running in v.s code\n",
    "li = [[1,2,3,4],[4,5,6,7],[78,89,90,45]]\n",
    "n=3\n",
    "for row in li:\n",
    "    output = ' '.join([str(ele) for ele in row])\n",
    "    print(output)"
   ]
  },
  {
   "cell_type": "code",
   "execution_count": 79,
   "metadata": {},
   "outputs": [
    {
     "name": "stdout",
     "output_type": "stream",
     "text": [
      "21 3\n"
     ]
    }
   ],
   "source": [
    "def sum_of_largest_column(li_6):\n",
    "    n = len(li)\n",
    "    m = len(li[0])\n",
    "    max = -1\n",
    "    max_col_index = -1\n",
    "    for j in range(m):\n",
    "        sum = 0\n",
    "        #max = -1\n",
    "        for i in range(n):\n",
    "            sum = sum + li_6[i][j]\n",
    "        if sum > max:\n",
    "            max_col_index = j\n",
    "            max = sum\n",
    "    return max,max_col_index\n",
    "\n",
    "\n",
    "li_6 = [[1,2,3,4],[5,6,7,8],[4,7,8,9]]\n",
    "lar_sum,last = sum_of_largest_column(li_6)\n",
    "print(lar_sum,last)\n"
   ]
  },
  {
   "cell_type": "code",
   "execution_count": 80,
   "metadata": {},
   "outputs": [
    {
     "name": "stdout",
     "output_type": "stream",
     "text": [
      "21\n"
     ]
    }
   ],
   "source": [
    "def sum_of_largest_column(li_6):\n",
    "    n = len(li)\n",
    "    m = len(li[0])\n",
    "    max = -1\n",
    "    #max_col_index = -1\n",
    "    for j in range(m):\n",
    "        sum = 0\n",
    "        #max = -1\n",
    "        for i in range(n):\n",
    "            sum = sum + li_6[i][j]\n",
    "        if sum > max:\n",
    "            #max_col_index = j\n",
    "            max = sum\n",
    "    return max\n",
    "\n",
    "\n",
    "li_6 = [[1,2,3,4],[5,6,7,8],[4,7,8,9]]\n",
    "last = sum_of_largest_column(li_6)\n",
    "print(last)"
   ]
  },
  {
   "cell_type": "code",
   "execution_count": 4,
   "metadata": {},
   "outputs": [
    {
     "ename": "NameError",
     "evalue": "name 'li' is not defined",
     "output_type": "error",
     "traceback": [
      "\u001b[1;31m---------------------------------------------------------------------------\u001b[0m",
      "\u001b[1;31mNameError\u001b[0m                                 Traceback (most recent call last)",
      "Cell \u001b[1;32mIn [4], line 18\u001b[0m\n\u001b[0;32m     14\u001b[0m     \u001b[39mreturn\u001b[39;00m \u001b[39mmax\u001b[39m\n\u001b[0;32m     17\u001b[0m li_6 \u001b[39m=\u001b[39m [[\u001b[39m1\u001b[39m,\u001b[39m2\u001b[39m,\u001b[39m3\u001b[39m,\u001b[39m4\u001b[39m],[\u001b[39m5\u001b[39m,\u001b[39m6\u001b[39m,\u001b[39m7\u001b[39m,\u001b[39m8\u001b[39m],[\u001b[39m4\u001b[39m,\u001b[39m7\u001b[39m,\u001b[39m8\u001b[39m,\u001b[39m9\u001b[39m]]\n\u001b[1;32m---> 18\u001b[0m last \u001b[39m=\u001b[39m sum_of_largest_column(li_6)\n\u001b[0;32m     19\u001b[0m \u001b[39mprint\u001b[39m(last)\n",
      "Cell \u001b[1;32mIn [4], line 6\u001b[0m, in \u001b[0;36msum_of_largest_column\u001b[1;34m(li_6)\u001b[0m\n\u001b[0;32m      4\u001b[0m \u001b[39mmax\u001b[39m \u001b[39m=\u001b[39m \u001b[39m-\u001b[39m\u001b[39m1\u001b[39m\n\u001b[0;32m      5\u001b[0m \u001b[39m#max_col_index = -1\u001b[39;00m\n\u001b[1;32m----> 6\u001b[0m \u001b[39mfor\u001b[39;00m j \u001b[39min\u001b[39;00m \u001b[39mrange\u001b[39m(\u001b[39mlen\u001b[39m(li[\u001b[39m0\u001b[39m])):\n\u001b[0;32m      7\u001b[0m     \u001b[39msum\u001b[39m \u001b[39m=\u001b[39m \u001b[39m0\u001b[39m\n\u001b[0;32m      8\u001b[0m     \u001b[39m#max = -1\u001b[39;00m\n",
      "\u001b[1;31mNameError\u001b[0m: name 'li' is not defined"
     ]
    }
   ],
   "source": [
    "def sum_of_largest_column(li_6):\n",
    "    #n = len(li)\n",
    "    #m = len(li[0])\n",
    "    max = -1\n",
    "    #max_col_index = -1\n",
    "    for j in range(len(li[0])):\n",
    "        sum = 0\n",
    "        #max = -1\n",
    "        for i in range(len(li)):\n",
    "            sum = sum + li_6[i][j]\n",
    "        if sum > max:\n",
    "            #max_col_index = j\n",
    "            max = sum\n",
    "    return max\n",
    "\n",
    "\n",
    "li_6 = [[1,2,3,4],[5,6,7,8],[4,7,8,9]]\n",
    "last = sum_of_largest_column(li_6)\n",
    "print(last)"
   ]
  },
  {
   "cell_type": "code",
   "execution_count": 85,
   "metadata": {},
   "outputs": [
    {
     "name": "stdout",
     "output_type": "stream",
     "text": [
      "1 5 9 2 6 10 3 7 11 4 8 12 "
     ]
    }
   ],
   "source": [
    "li=[[1,2,3,4],[5,6,7,8],[9,10,11,12]]\n",
    "for j in range(4):\n",
    "    for ele in li:\n",
    "        print(ele[j],end = \" \")"
   ]
  },
  {
   "cell_type": "code",
   "execution_count": 86,
   "metadata": {},
   "outputs": [
    {
     "ename": "TypeError",
     "evalue": "'str' object does not support item assignment",
     "output_type": "error",
     "traceback": [
      "\u001b[1;31m---------------------------------------------------------------------------\u001b[0m",
      "\u001b[1;31mTypeError\u001b[0m                                 Traceback (most recent call last)",
      "Cell \u001b[1;32mIn [86], line 2\u001b[0m\n\u001b[0;32m      1\u001b[0m \u001b[39mstr\u001b[39m \u001b[39m=\u001b[39m \u001b[39m\"\u001b[39m\u001b[39mhello\u001b[39m\u001b[39m\"\u001b[39m\n\u001b[1;32m----> 2\u001b[0m \u001b[39mstr\u001b[39;49m[\u001b[39m1\u001b[39;49m]\u001b[39m=\u001b[39m\u001b[39m\"\u001b[39m\u001b[39ma\u001b[39m\u001b[39m\"\u001b[39m\n\u001b[0;32m      3\u001b[0m \u001b[39mprint\u001b[39m(\u001b[39mstr\u001b[39m)\n",
      "\u001b[1;31mTypeError\u001b[0m: 'str' object does not support item assignment"
     ]
    }
   ],
   "source": [
    "str = \"hello\"\n",
    "str[1]=\"a\"\n",
    "print(str)"
   ]
  },
  {
   "cell_type": "code",
   "execution_count": 87,
   "metadata": {},
   "outputs": [
    {
     "name": "stdout",
     "output_type": "stream",
     "text": [
      "helloworld\n"
     ]
    }
   ],
   "source": [
    "str = \"hello\"\n",
    "str1 = \"world\"\n",
    "print(str+str1)"
   ]
  },
  {
   "cell_type": "code",
   "execution_count": 89,
   "metadata": {},
   "outputs": [
    {
     "name": "stdout",
     "output_type": "stream",
     "text": [
      "1\n"
     ]
    }
   ],
   "source": [
    "str_1 = \"hello how are you python\"\n",
    "print(str_1.count(str_1))"
   ]
  },
  {
   "cell_type": "code",
   "execution_count": 92,
   "metadata": {},
   "outputs": [
    {
     "ename": "AttributeError",
     "evalue": "'str' object has no attribute 'endwith'",
     "output_type": "error",
     "traceback": [
      "\u001b[1;31m---------------------------------------------------------------------------\u001b[0m",
      "\u001b[1;31mAttributeError\u001b[0m                            Traceback (most recent call last)",
      "Cell \u001b[1;32mIn [92], line 2\u001b[0m\n\u001b[0;32m      1\u001b[0m message \u001b[39m=\u001b[39m \u001b[39m\"\u001b[39m\u001b[39mshe is my best friend\u001b[39m\u001b[39m\"\u001b[39m\n\u001b[1;32m----> 2\u001b[0m \u001b[39mprint\u001b[39m(message\u001b[39m.\u001b[39;49mendwith(\u001b[39m\"\u001b[39m\u001b[39mend\u001b[39m\u001b[39m\"\u001b[39m,\u001b[39m0\u001b[39m,\u001b[39mlen\u001b[39m(message)))\n",
      "\u001b[1;31mAttributeError\u001b[0m: 'str' object has no attribute 'endwith'"
     ]
    }
   ],
   "source": [
    "message = \"she is my best friend\"\n",
    "print(message.endwith(\"end\",0,len(message)))"
   ]
  },
  {
   "cell_type": "code",
   "execution_count": 4,
   "metadata": {},
   "outputs": [
    {
     "data": {
      "text/plain": [
       "tuple"
      ]
     },
     "execution_count": 4,
     "metadata": {},
     "output_type": "execute_result"
    }
   ],
   "source": [
    "tuple = (1,)\n",
    "type(tuple)"
   ]
  },
  {
   "cell_type": "code",
   "execution_count": 6,
   "metadata": {},
   "outputs": [
    {
     "data": {
      "text/plain": [
       "(1, 2, 'fivc')"
      ]
     },
     "execution_count": 6,
     "metadata": {},
     "output_type": "execute_result"
    }
   ],
   "source": [
    "tu = (1,2,\"fivc\")\n",
    "tu"
   ]
  },
  {
   "cell_type": "code",
   "execution_count": 8,
   "metadata": {},
   "outputs": [
    {
     "name": "stdout",
     "output_type": "stream",
     "text": [
      "33\n",
      "1\n"
     ]
    }
   ],
   "source": [
    "quo,rem = divmod(100,3)\n",
    "print(quo)\n",
    "print(rem)"
   ]
  },
  {
   "cell_type": "code",
   "execution_count": 28,
   "metadata": {},
   "outputs": [
    {
     "name": "stdout",
     "output_type": "stream",
     "text": [
      "18\n",
      "2\n"
     ]
    }
   ],
   "source": [
    "tup = (56,3)\n",
    "quo,rem = divmod(*tup)\n",
    "print(quo)\n",
    "print(rem)"
   ]
  },
  {
   "cell_type": "code",
   "execution_count": 19,
   "metadata": {},
   "outputs": [
    {
     "name": "stdout",
     "output_type": "stream",
     "text": [
      "True\n"
     ]
    }
   ],
   "source": [
    "tuple1 = (1,2,3,4)\n",
    "tuple2 = (1,6,3)\n",
    "print(tuple1<tuple2)"
   ]
  },
  {
   "cell_type": "code",
   "execution_count": 21,
   "metadata": {},
   "outputs": [
    {
     "name": "stdout",
     "output_type": "stream",
     "text": [
      "1 2 3\n"
     ]
    }
   ],
   "source": [
    "(val1,val2,val3) = (1,2,3)\n",
    "print(val1,val2,val3)"
   ]
  },
  {
   "cell_type": "code",
   "execution_count": 23,
   "metadata": {},
   "outputs": [
    {
     "name": "stdout",
     "output_type": "stream",
     "text": [
      "('mayank',)\n",
      "('kaushik',)\n"
     ]
    }
   ],
   "source": [
    "name = ((\"mayank\",),(\"kaushik\",))\n",
    "for i in name:\n",
    "    print(i)"
   ]
  },
  {
   "cell_type": "code",
   "execution_count": 26,
   "metadata": {},
   "outputs": [
    {
     "name": "stdout",
     "output_type": "stream",
     "text": [
      "[1, 2, 3]\n"
     ]
    }
   ],
   "source": [
    "n = int(input())\n",
    "li = []\n",
    "for i in range(n):\n",
    "    ele = int(input())\n",
    "    li.append(ele)\n",
    "print(li)"
   ]
  },
  {
   "cell_type": "code",
   "execution_count": 29,
   "metadata": {},
   "outputs": [
    {
     "ename": "AttributeError",
     "evalue": "'tuple' object has no attribute 'append'",
     "output_type": "error",
     "traceback": [
      "\u001b[1;31m---------------------------------------------------------------------------\u001b[0m",
      "\u001b[1;31mAttributeError\u001b[0m                            Traceback (most recent call last)",
      "Cell \u001b[1;32mIn [29], line 5\u001b[0m\n\u001b[0;32m      3\u001b[0m \u001b[39mfor\u001b[39;00m i \u001b[39min\u001b[39;00m \u001b[39mrange\u001b[39m(n):\n\u001b[0;32m      4\u001b[0m     ele \u001b[39m=\u001b[39m \u001b[39mint\u001b[39m(\u001b[39minput\u001b[39m())\n\u001b[1;32m----> 5\u001b[0m     li\u001b[39m.\u001b[39;49mappend(ele)\n\u001b[0;32m      6\u001b[0m \u001b[39mprint\u001b[39m(li)\n",
      "\u001b[1;31mAttributeError\u001b[0m: 'tuple' object has no attribute 'append'"
     ]
    }
   ],
   "source": [
    "n = int(input())\n",
    "li = ()\n",
    "for i in range(n):\n",
    "    ele = int(input())\n",
    "    li.append(ele)\n",
    "print(li)"
   ]
  },
  {
   "cell_type": "code",
   "execution_count": 38,
   "metadata": {},
   "outputs": [
    {
     "ename": "TypeError",
     "evalue": "'list' object is not callable",
     "output_type": "error",
     "traceback": [
      "\u001b[1;31m---------------------------------------------------------------------------\u001b[0m",
      "\u001b[1;31mTypeError\u001b[0m                                 Traceback (most recent call last)",
      "Cell \u001b[1;32mIn [38], line 3\u001b[0m\n\u001b[0;32m      1\u001b[0m tup \u001b[39m=\u001b[39m (\u001b[39m1\u001b[39m,\u001b[39m2\u001b[39m,\u001b[39m3\u001b[39m,\u001b[39m4\u001b[39m,\u001b[39m5\u001b[39m)\n\u001b[0;32m      2\u001b[0m list1 \u001b[39m=\u001b[39m [\u001b[39m\"\u001b[39m\u001b[39ma\u001b[39m\u001b[39m\"\u001b[39m,\u001b[39m\"\u001b[39m\u001b[39mb\u001b[39m\u001b[39m\"\u001b[39m,\u001b[39m\"\u001b[39m\u001b[39mc\u001b[39m\u001b[39m\"\u001b[39m,\u001b[39m\"\u001b[39m\u001b[39md\u001b[39m\u001b[39m\"\u001b[39m,\u001b[39m\"\u001b[39m\u001b[39me\u001b[39m\u001b[39m\"\u001b[39m]\n\u001b[1;32m----> 3\u001b[0m \u001b[39mprint\u001b[39m(\u001b[39mlist\u001b[39;49m((\u001b[39mzip\u001b[39;49m(tup,list1))))\n",
      "\u001b[1;31mTypeError\u001b[0m: 'list' object is not callable"
     ]
    }
   ],
   "source": [
    "tup = (1,2,3,4,5)\n",
    "list1 = [\"a\",\"b\",\"c\",\"d\",\"e\"]\n",
    "print(list((zip(tup,list1))))"
   ]
  },
  {
   "cell_type": "code",
   "execution_count": 43,
   "metadata": {},
   "outputs": [
    {
     "name": "stdout",
     "output_type": "stream",
     "text": [
      "(1, 2, 3, 5, 6, 7)\n"
     ]
    }
   ],
   "source": [
    "tup1 = (1,2,3)\n",
    "tup2 = (5,6,7)\n",
    "print(tup1+tup2)"
   ]
  },
  {
   "cell_type": "code",
   "execution_count": 3,
   "metadata": {},
   "outputs": [
    {
     "data": {
      "text/plain": [
       "['my', 'name', 'is', 'mayank', 'sharma']"
      ]
     },
     "execution_count": 3,
     "metadata": {},
     "output_type": "execute_result"
    }
   ],
   "source": [
    "str = \"my name is mayank sharma\"\n",
    "str1 = str.split()\n",
    "str1"
   ]
  },
  {
   "cell_type": "code",
   "execution_count": 9,
   "metadata": {},
   "outputs": [
    {
     "data": {
      "text/plain": [
       "'our name is mayank sharma and i study in chitkara university'"
      ]
     },
     "execution_count": 9,
     "metadata": {},
     "output_type": "execute_result"
    }
   ],
   "source": [
    "str_1 = \"my name is mayank sharma and i study in chitkara university\"\n",
    "str_2 = str_1.replace(\"my\",\"our\")\n",
    "str_2"
   ]
  },
  {
   "cell_type": "code",
   "execution_count": 6,
   "metadata": {},
   "outputs": [
    {
     "data": {
      "text/plain": [
       "'my name is mayank sharma and i study in chitkara university'"
      ]
     },
     "execution_count": 6,
     "metadata": {},
     "output_type": "execute_result"
    }
   ],
   "source": [
    "str_1"
   ]
  },
  {
   "cell_type": "code",
   "execution_count": 7,
   "metadata": {},
   "outputs": [
    {
     "data": {
      "text/plain": [
       "'our name is mayank sharma and i study in chitkara university'"
      ]
     },
     "execution_count": 7,
     "metadata": {},
     "output_type": "execute_result"
    }
   ],
   "source": [
    "str_2"
   ]
  },
  {
   "cell_type": "code",
   "execution_count": 110,
   "metadata": {},
   "outputs": [
    {
     "data": {
      "text/plain": [
       "'my name is sharma mayank mayank'"
      ]
     },
     "execution_count": 110,
     "metadata": {},
     "output_type": "execute_result"
    }
   ],
   "source": [
    "str_old = \"my name is mayank mayank mayank\"\n",
    "str_new = str_old.replace(\"mayank\",\"sharma\",1)\n",
    "str_new"
   ]
  },
  {
   "cell_type": "code",
   "execution_count": 18,
   "metadata": {},
   "outputs": [
    {
     "data": {
      "text/plain": [
       "11"
      ]
     },
     "execution_count": 18,
     "metadata": {},
     "output_type": "execute_result"
    }
   ],
   "source": [
    "str_old.find(\"mayank\")\n"
   ]
  },
  {
   "cell_type": "code",
   "execution_count": 21,
   "metadata": {},
   "outputs": [
    {
     "data": {
      "text/plain": [
       "25"
      ]
     },
     "execution_count": 21,
     "metadata": {},
     "output_type": "execute_result"
    }
   ],
   "source": [
    "str_old.find(\"mayank\",25,31)"
   ]
  },
  {
   "cell_type": "markdown",
   "metadata": {},
   "source": [
    "STARTSWITH ALWAYS RETURN BOOLEAN VALUE"
   ]
  },
  {
   "cell_type": "code",
   "execution_count": 26,
   "metadata": {},
   "outputs": [
    {
     "name": "stdout",
     "output_type": "stream",
     "text": [
      "True\n"
     ]
    }
   ],
   "source": [
    "new = str_old.startswith(\"my name i\")\n",
    "print(new)"
   ]
  },
  {
   "cell_type": "code",
   "execution_count": 6,
   "metadata": {},
   "outputs": [
    {
     "ename": "SyntaxError",
     "evalue": "invalid syntax (274825589.py, line 1)",
     "output_type": "error",
     "traceback": [
      "\u001b[1;36m  Cell \u001b[1;32mIn [6], line 1\u001b[1;36m\u001b[0m\n\u001b[1;33m    import sys from stdin\u001b[0m\n\u001b[1;37m               ^\u001b[0m\n\u001b[1;31mSyntaxError\u001b[0m\u001b[1;31m:\u001b[0m invalid syntax\n"
     ]
    }
   ],
   "source": [
    "import sys from stdin\n",
    "n = stdin.readline().strip();\n",
    "print(n)"
   ]
  },
  {
   "cell_type": "code",
   "execution_count": 44,
   "metadata": {},
   "outputs": [
    {
     "data": {
      "text/plain": [
       "'a a m n s y'"
      ]
     },
     "execution_count": 44,
     "metadata": {},
     "output_type": "execute_result"
    }
   ],
   "source": [
    "str2 = \"sanyam\" \n",
    "b = sorted(str2) \n",
    "str2 = \" \".join(b) \n",
    "str2"
   ]
  },
  {
   "cell_type": "code",
   "execution_count": 31,
   "metadata": {},
   "outputs": [
    {
     "data": {
      "text/plain": [
       "'s r t n i g'"
      ]
     },
     "execution_count": 31,
     "metadata": {},
     "output_type": "execute_result"
    }
   ],
   "source": [
    "str1 = \"srtnig\"\n",
    "#a = sorted(str1) \n",
    "str1 = \" \".join(str1)\n",
    "#str2 = \"string\" \n",
    "#b = sorted(str2) \n",
    "#str2 = \"\".join(b)\n",
    "str1\n",
    "#str2"
   ]
  },
  {
   "cell_type": "code",
   "execution_count": 19,
   "metadata": {},
   "outputs": [
    {
     "name": "stdout",
     "output_type": "stream",
     "text": [
      "true\n"
     ]
    }
   ],
   "source": [
    "# revise\n",
    "def is_permuntation(n,m):\n",
    "    n1 = len(n)\n",
    "    m1 = len(m)\n",
    "    if len(n) != len(m):\n",
    "        return False\n",
    "    # storted will arrange the words in aceding order\n",
    "    a = sorted(n)\n",
    "    n = \"\".join(a) # join will seperate the words \n",
    "    b = sorted(m)\n",
    "    m = \"\".join(b)\n",
    "\n",
    "    for i in range(n1): \n",
    "        if(n[i]!=m[i]):  # it will check the elements in n == m or not\n",
    "            return False  # if not then it will return false\n",
    "    return True  # if yes then it will return true\n",
    "\n",
    "#main\n",
    "n = input()\n",
    "m = input()\n",
    "if(is_permuntation(n,m)):\n",
    "    print(\"true\")\n",
    "else:\n",
    "    print(\"false\")  "
   ]
  },
  {
   "cell_type": "code",
   "execution_count": 40,
   "metadata": {},
   "outputs": [
    {
     "ename": "AttributeError",
     "evalue": "'str' object has no attribute 'remove'",
     "output_type": "error",
     "traceback": [
      "\u001b[1;31m---------------------------------------------------------------------------\u001b[0m",
      "\u001b[1;31mAttributeError\u001b[0m                            Traceback (most recent call last)",
      "Cell \u001b[1;32mIn [40], line 7\u001b[0m\n\u001b[0;32m      5\u001b[0m         \u001b[39mif\u001b[39;00m i\u001b[39m==\u001b[39mj:\n\u001b[0;32m      6\u001b[0m             str1 \u001b[39m=\u001b[39m \u001b[39m\"\u001b[39m\u001b[39m \u001b[39m\u001b[39m\"\u001b[39m\u001b[39m.\u001b[39mjoin(str1)\n\u001b[1;32m----> 7\u001b[0m             str1\u001b[39m.\u001b[39;49mremove()\n\u001b[0;32m      8\u001b[0m \u001b[39melse\u001b[39;00m:\n\u001b[0;32m      9\u001b[0m     \u001b[39mprint\u001b[39m(\u001b[39m\"\u001b[39m\u001b[39mfuck u\u001b[39m\u001b[39m\"\u001b[39m)\n",
      "\u001b[1;31mAttributeError\u001b[0m: 'str' object has no attribute 'remove'"
     ]
    }
   ],
   "source": [
    "str1 = \"aaabc\"\n",
    "for i in str1:\n",
    "    for j in i:\n",
    "        str1 = \" \".join(str1)\n",
    "        if i==j:\n",
    "            str1 = \" \".join(str1)\n",
    "            str1.remove()\n",
    "else:\n",
    "    print(\"fuck u\")\n",
    "\n",
    "    #if str1[i]\n",
    "print(count) "
   ]
  },
  {
   "cell_type": "code",
   "execution_count": 62,
   "metadata": {},
   "outputs": [
    {
     "name": "stdout",
     "output_type": "stream",
     "text": [
      "abc\n"
     ]
    }
   ],
   "source": [
    "s = \"aabcc\"\n",
    "i = 0\n",
    "s1 = \"\"\n",
    "for x in s:\n",
    "    if s.index(x)==i:\n",
    "        s1 = s1+x\n",
    "    i=i+1\n",
    "print(s1)"
   ]
  },
  {
   "cell_type": "code",
   "execution_count": 67,
   "metadata": {},
   "outputs": [
    {
     "name": "stdout",
     "output_type": "stream",
     "text": [
      "19\n"
     ]
    }
   ],
   "source": [
    "a,b = (10,19)\n",
    "print(b)"
   ]
  },
  {
   "cell_type": "code",
   "execution_count": 108,
   "metadata": {},
   "outputs": [
    {
     "name": "stdout",
     "output_type": "stream",
     "text": [
      "asb\n"
     ]
    }
   ],
   "source": [
    "str = \"asaaaaabbb\"\n",
    "empty = \"\"\n",
    "x = 0\n",
    "for i in str:\n",
    "    if str.index(i) == x:\n",
    "        empty+=i\n",
    "    x+=1\n",
    "print(empty)\n"
   ]
  },
  {
   "cell_type": "markdown",
   "metadata": {},
   "source": [
    "if we give more than more values to a variable then it automatically create tuple and its type is tuple"
   ]
  },
  {
   "cell_type": "code",
   "execution_count": 68,
   "metadata": {},
   "outputs": [
    {
     "name": "stdout",
     "output_type": "stream",
     "text": [
      "(4, 5)\n",
      "<class 'tuple'>\n"
     ]
    }
   ],
   "source": [
    "e = 4,5\n",
    "print(e)\n",
    "print(type(e))"
   ]
  },
  {
   "cell_type": "code",
   "execution_count": 85,
   "metadata": {},
   "outputs": [
    {
     "data": {
      "text/plain": [
       "(9, 3, 4, 5)"
      ]
     },
     "execution_count": 85,
     "metadata": {},
     "output_type": "execute_result"
    }
   ],
   "source": [
    "c = (9,3,4,5,2)\n",
    "c[0:-1]"
   ]
  },
  {
   "cell_type": "markdown",
   "metadata": {},
   "source": [
    "providing more numbers to add by MORE function "
   ]
  },
  {
   "cell_type": "code",
   "execution_count": 105,
   "metadata": {},
   "outputs": [
    {
     "name": "stdout",
     "output_type": "stream",
     "text": [
      "(3, 5, 6)\n"
     ]
    },
    {
     "data": {
      "text/plain": [
       "19"
      ]
     },
     "execution_count": 105,
     "metadata": {},
     "output_type": "execute_result"
    }
   ],
   "source": [
    "def sum(a,b,*more):\n",
    "    print(more)\n",
    "    ans = a + b\n",
    "    for i in more:\n",
    "        ans = ans + i\n",
    "    return(ans)\n",
    "\n",
    "\n",
    "\n",
    "sum(2,3,3,5,6)\n"
   ]
  },
  {
   "cell_type": "markdown",
   "metadata": {},
   "source": [
    "adding and multiplying numbers with more function "
   ]
  },
  {
   "cell_type": "code",
   "execution_count": 106,
   "metadata": {},
   "outputs": [
    {
     "data": {
      "text/plain": [
       "(28, 5040)"
      ]
     },
     "execution_count": 106,
     "metadata": {},
     "output_type": "execute_result"
    }
   ],
   "source": [
    "def add_multi(a,b,*more):\n",
    "    adding = a+b\n",
    "    multi = a*b\n",
    "    for i in more:\n",
    "        adding += i\n",
    "        multi *= i\n",
    "    return adding,multi\n",
    "\n",
    "add_multi(1,2,3,4,5,6,7)\n"
   ]
  },
  {
   "cell_type": "code",
   "execution_count": 112,
   "metadata": {},
   "outputs": [],
   "source": [
    "d = {1:2, \"abc\":5, \"def\":7}\n",
    "c = d.get(0)\n",
    "c"
   ]
  },
  {
   "cell_type": "code",
   "execution_count": 1,
   "metadata": {},
   "outputs": [
    {
     "name": "stdout",
     "output_type": "stream",
     "text": [
      "((1, 'a'), (2, 'b'), (3, 'c'), (4, 'd'))\n"
     ]
    }
   ],
   "source": [
    "tup = (1,2,3,4)\n",
    "list2 = [\"a\",\"b\",\"c\",\"d\"]\n",
    "print(tuple((zip(tup,list2))))"
   ]
  },
  {
   "cell_type": "code",
   "execution_count": 33,
   "metadata": {},
   "outputs": [
    {
     "ename": "TypeError",
     "evalue": "'tuple' object is not callable",
     "output_type": "error",
     "traceback": [
      "\u001b[1;31m---------------------------------------------------------------------------\u001b[0m",
      "\u001b[1;31mTypeError\u001b[0m                                 Traceback (most recent call last)",
      "Cell \u001b[1;32mIn [33], line 3\u001b[0m\n\u001b[0;32m      1\u001b[0m tuple_1 \u001b[39m=\u001b[39m (\u001b[39m3\u001b[39m,\u001b[39m4\u001b[39m,\u001b[39m5\u001b[39m,\u001b[39m6\u001b[39m)\n\u001b[0;32m      2\u001b[0m \u001b[39mlist\u001b[39m \u001b[39m=\u001b[39m [\u001b[39m\"\u001b[39m\u001b[39ma\u001b[39m\u001b[39m\"\u001b[39m,\u001b[39m\"\u001b[39m\u001b[39mb\u001b[39m\u001b[39m\"\u001b[39m,\u001b[39m\"\u001b[39m\u001b[39mc\u001b[39m\u001b[39m\"\u001b[39m,\u001b[39m\"\u001b[39m\u001b[39mf\u001b[39m\u001b[39m\"\u001b[39m]\n\u001b[1;32m----> 3\u001b[0m \u001b[39mprint\u001b[39m(\u001b[39mtuple\u001b[39;49m((\u001b[39mzip\u001b[39;49m(tuple_1,\u001b[39mlist\u001b[39;49m))))\n",
      "\u001b[1;31mTypeError\u001b[0m: 'tuple' object is not callable"
     ]
    }
   ],
   "source": [
    "tuple_1 = (3,4,5,6)\n",
    "list = [\"a\",\"b\",\"c\",\"f\"]\n",
    "print(tuple((zip(tuple_1,list))))"
   ]
  },
  {
   "cell_type": "code",
   "execution_count": 101,
   "metadata": {},
   "outputs": [
    {
     "name": "stdout",
     "output_type": "stream",
     "text": [
      "false\n"
     ]
    }
   ],
   "source": [
    "def check_palindrome(n):\n",
    "    rev = 0\n",
    "    x = n\n",
    "    while n>0:\n",
    "        rev = (rev*10)+n%10\n",
    "        n = n//10\n",
    "    if(rev==x):\n",
    "        return 1\n",
    "    else:\n",
    "        return 0\n",
    "    \n",
    "n = int(input())\n",
    "is_palindrome=check_palindrome(n)\n",
    "if(is_palindrome):\n",
    "    print(\"true\")\n",
    "else:\n",
    "    print(\"false\")"
   ]
  },
  {
   "cell_type": "code",
   "execution_count": 102,
   "metadata": {},
   "outputs": [
    {
     "name": "stdout",
     "output_type": "stream",
     "text": [
      "false\n"
     ]
    }
   ],
   "source": [
    "def check_palindrome(n):\n",
    "    rev = 0\n",
    "    x = n\n",
    "    while n>0:\n",
    "        rev = (rev*10)+n%10\n",
    "        n = n//10\n",
    "    if(rev==x):\n",
    "        return 1\n",
    "    else:\n",
    "        return 0\n",
    "    \n",
    "n = int(input())\n",
    "if check_palindrome(n):\n",
    "    print(\"true\")\n",
    "else:\n",
    "    print(\"false\")"
   ]
  },
  {
   "cell_type": "code",
   "execution_count": 105,
   "metadata": {},
   "outputs": [
    {
     "name": "stdout",
     "output_type": "stream",
     "text": [
      "true\n"
     ]
    }
   ],
   "source": [
    "def check_palindrome(n):\n",
    "    rev = 0\n",
    "    x = n\n",
    "    while n>0:\n",
    "        rev = (rev*10)+n%10\n",
    "        n = n//10\n",
    "    if(rev==x):\n",
    "        return 1\n",
    "    else:\n",
    "        return 0\n",
    "\n",
    "n = int(input())\n",
    "if check_palindrome(n):\n",
    "    print(\"true\")\n",
    "else:\n",
    "    print(\"false\")"
   ]
  },
  {
   "cell_type": "code",
   "execution_count": 10,
   "metadata": {},
   "outputs": [
    {
     "data": {
      "text/plain": [
       "['erdtfyuiodfghjkl', 'cvbhjk', 'xcfghj']"
      ]
     },
     "execution_count": 10,
     "metadata": {},
     "output_type": "execute_result"
    }
   ],
   "source": [
    "str = \"erdtfyuiodfghjkl cvbhjk xcfghj\"\n",
    "str = str.split(\" \")\n",
    "str"
   ]
  },
  {
   "cell_type": "code",
   "execution_count": 15,
   "metadata": {},
   "outputs": [
    {
     "data": {
      "text/plain": [
       "{'ert': 9, 'ryru': 4}"
      ]
     },
     "execution_count": 15,
     "metadata": {},
     "output_type": "execute_result"
    }
   ],
   "source": [
    "di = {\"ert\":9,\"ryru\":4}\n",
    "di"
   ]
  },
  {
   "cell_type": "code",
   "execution_count": 26,
   "metadata": {},
   "outputs": [
    {
     "name": "stdout",
     "output_type": "stream",
     "text": [
      "{'can': 6, 'you': 1, 'a': 3, 'as': 1, 'canner': 1}\n"
     ]
    }
   ],
   "source": [
    "twister=\"can you can a can as a canner can can a can\"\n",
    "word_count={}\n",
    "for i in twister.split():\n",
    "    if i not in word_count:\n",
    "        word_count[i]=1\n",
    "    else:\n",
    "        word_count[i]+=1\n",
    "print(word_count)"
   ]
  },
  {
   "cell_type": "code",
   "execution_count": 97,
   "metadata": {},
   "outputs": [
    {
     "name": "stdout",
     "output_type": "stream",
     "text": [
      "{'love': 1, 'the': 1, 'way': 1, 'you': 1, 'lie': 1, 'buddy': 1}\n"
     ]
    }
   ],
   "source": [
    "line = \"love the way you lie buddy\"\n",
    "str = {}\n",
    "for i in line.split():\n",
    "    if i not in str:\n",
    "        str[i] = 1\n",
    "    else:\n",
    "        str[i] += 1 \n",
    "print(str)"
   ]
  },
  {
   "cell_type": "code",
   "execution_count": 38,
   "metadata": {},
   "outputs": [
    {
     "name": "stdout",
     "output_type": "stream",
     "text": [
      "yes\n"
     ]
    }
   ],
   "source": [
    "d = {1:2, \"abc\":5, \"def\":7}\n",
    "if 1 in d:\n",
    "    print(\"yes\")\n",
    "else:\n",
    "    print(\"not present\")"
   ]
  },
  {
   "cell_type": "code",
   "execution_count": 43,
   "metadata": {},
   "outputs": [
    {
     "name": "stdout",
     "output_type": "stream",
     "text": [
      "45\n"
     ]
    }
   ],
   "source": [
    "T = int(input())\n",
    "no_of_squats = 15 * T\n",
    "print(no_of_squats)"
   ]
  },
  {
   "cell_type": "code",
   "execution_count": null,
   "metadata": {},
   "outputs": [],
   "source": [
    "import time\n",
    "n = int(input())\n",
    "for i in range(n,-1,-1):\n",
    "    print(i)\n",
    "    time.sleep(1)\n",
    "print(\"time up\")"
   ]
  },
  {
   "cell_type": "code",
   "execution_count": 53,
   "metadata": {},
   "outputs": [
    {
     "data": {
      "text/plain": [
       "[12, 34, 56]"
      ]
     },
     "execution_count": 53,
     "metadata": {},
     "output_type": "execute_result"
    }
   ],
   "source": [
    "a = list(map(int,input().split()))\n",
    "a"
   ]
  },
  {
   "cell_type": "code",
   "execution_count": 56,
   "metadata": {},
   "outputs": [
    {
     "data": {
      "text/plain": [
       "['12', '34', '56']"
      ]
     },
     "execution_count": 56,
     "metadata": {},
     "output_type": "execute_result"
    }
   ],
   "source": [
    "a = input().split()\n",
    "a"
   ]
  },
  {
   "cell_type": "code",
   "execution_count": 23,
   "metadata": {},
   "outputs": [
    {
     "data": {
      "text/plain": [
       "{'list': 3, 'tuple': 4, 'mayank': 7}"
      ]
     },
     "execution_count": 23,
     "metadata": {},
     "output_type": "execute_result"
    }
   ],
   "source": [
    "t = {\"list\":3,\"tuple\":4,\"mayank\":7}\n",
    "t"
   ]
  },
  {
   "cell_type": "code",
   "execution_count": 27,
   "metadata": {},
   "outputs": [
    {
     "name": "stdout",
     "output_type": "stream",
     "text": [
      "[1, 2, 3, 4]\n"
     ]
    }
   ],
   "source": [
    "tuple = (1,2,3,4)\n",
    "print(list(tuple))"
   ]
  },
  {
   "cell_type": "code",
   "execution_count": 24,
   "metadata": {},
   "outputs": [
    {
     "data": {
      "text/plain": [
       "{'list': 3, 'tuple': 4, 'mayank': 4}"
      ]
     },
     "execution_count": 24,
     "metadata": {},
     "output_type": "execute_result"
    }
   ],
   "source": [
    "t[\"mayank\"] = 4\n",
    "t"
   ]
  },
  {
   "cell_type": "code",
   "execution_count": 25,
   "metadata": {},
   "outputs": [
    {
     "data": {
      "text/plain": [
       "{'list': 3, 'tuple': 4, 'mayank': 4}"
      ]
     },
     "execution_count": 25,
     "metadata": {},
     "output_type": "execute_result"
    }
   ],
   "source": [
    "t"
   ]
  },
  {
   "cell_type": "code",
   "execution_count": 26,
   "metadata": {},
   "outputs": [
    {
     "data": {
      "text/plain": [
       "{'list': 9, 'tuple': 4, 'mayank': 4}"
      ]
     },
     "execution_count": 26,
     "metadata": {},
     "output_type": "execute_result"
    }
   ],
   "source": [
    "t[\"list\"]=9\n",
    "t"
   ]
  },
  {
   "cell_type": "code",
   "execution_count": 27,
   "metadata": {},
   "outputs": [
    {
     "data": {
      "text/plain": [
       "{'list': 9, 'tuple': 4, 'mayank': 4}"
      ]
     },
     "execution_count": 27,
     "metadata": {},
     "output_type": "execute_result"
    }
   ],
   "source": [
    "t"
   ]
  },
  {
   "cell_type": "code",
   "execution_count": 28,
   "metadata": {},
   "outputs": [
    {
     "data": {
      "text/plain": [
       "{'list': 9, 'tuple': 4, 'mayank': 4, 'no': 2, 4: 5, 'more exceptation': 3}"
      ]
     },
     "execution_count": 28,
     "metadata": {},
     "output_type": "execute_result"
    }
   ],
   "source": [
    "b = {\"no\":2,4:5,\"list\":9,\"more exceptation\":3}\n",
    "t.update(b)\n",
    "t"
   ]
  },
  {
   "cell_type": "code",
   "execution_count": 30,
   "metadata": {},
   "outputs": [
    {
     "data": {
      "text/plain": [
       "2"
      ]
     },
     "execution_count": 30,
     "metadata": {},
     "output_type": "execute_result"
    }
   ],
   "source": [
    "t.pop(\"no\")"
   ]
  },
  {
   "cell_type": "code",
   "execution_count": 31,
   "metadata": {},
   "outputs": [
    {
     "data": {
      "text/plain": [
       "{'list': 9, 'tuple': 4, 'mayank': 4, 4: 5, 'more exceptation': 3}"
      ]
     },
     "execution_count": 31,
     "metadata": {},
     "output_type": "execute_result"
    }
   ],
   "source": [
    "t"
   ]
  },
  {
   "cell_type": "code",
   "execution_count": 38,
   "metadata": {},
   "outputs": [
    {
     "data": {
      "text/plain": [
       "5"
      ]
     },
     "execution_count": 38,
     "metadata": {},
     "output_type": "execute_result"
    }
   ],
   "source": [
    "t = t[4]\n",
    "t"
   ]
  },
  {
   "cell_type": "code",
   "execution_count": 42,
   "metadata": {},
   "outputs": [
    {
     "data": {
      "text/plain": [
       "['this', 'world', 'is', 'selfish', 'this', 'is']"
      ]
     },
     "execution_count": 42,
     "metadata": {},
     "output_type": "execute_result"
    }
   ],
   "source": [
    "s = \"this world is selfish this is\"\n",
    "s = s.split()\n",
    "s"
   ]
  },
  {
   "cell_type": "code",
   "execution_count": 43,
   "metadata": {},
   "outputs": [
    {
     "data": {
      "text/plain": [
       "{'this': 2, 'world': 1, 'is': 2, 'selfish': 1}"
      ]
     },
     "execution_count": 43,
     "metadata": {},
     "output_type": "execute_result"
    }
   ],
   "source": [
    "d = {}\n",
    "for i in s:\n",
    "    if i in d:\n",
    "        d[i] = d[i] + 1\n",
    "    else:\n",
    "        d[i] = 1\n",
    "\n",
    "d"
   ]
  },
  {
   "cell_type": "code",
   "execution_count": 45,
   "metadata": {},
   "outputs": [
    {
     "data": {
      "text/plain": [
       "{'this': 2, 'world': 1, 'is': 2, 'selfish': 1}"
      ]
     },
     "execution_count": 45,
     "metadata": {},
     "output_type": "execute_result"
    }
   ],
   "source": [
    "d = {}\n",
    "for i in s:\n",
    "    d[i] = d.get(i,0) + 1\n",
    "d"
   ]
  },
  {
   "cell_type": "code",
   "execution_count": 9,
   "metadata": {},
   "outputs": [],
   "source": [
    "li = [1,2,3,4,5,6,7]\n",
    "li3 = [6,7,2,8,9,10]\n",
    "li2 = []\n"
   ]
  },
  {
   "cell_type": "code",
   "execution_count": 10,
   "metadata": {},
   "outputs": [
    {
     "data": {
      "text/plain": [
       "[2, 4, 6, 6, 7]"
      ]
     },
     "execution_count": 10,
     "metadata": {},
     "output_type": "execute_result"
    }
   ],
   "source": [
    "li2 = [i for i in li for j in li3 if i%j==0]\n",
    "li2"
   ]
  },
  {
   "cell_type": "code",
   "execution_count": 13,
   "metadata": {},
   "outputs": [
    {
     "data": {
      "text/plain": [
       "tuple"
      ]
     },
     "execution_count": 13,
     "metadata": {},
     "output_type": "execute_result"
    }
   ],
   "source": [
    "tuple_list = ([1,2],[3,4],[5,6])\n",
    "type(tuple_list)"
   ]
  },
  {
   "cell_type": "code",
   "execution_count": null,
   "metadata": {},
   "outputs": [],
   "source": [
    "# revise\n",
    "def is_permuntation(n,m):\n",
    "    n1 = len(n)\n",
    "    m1 = len(m)\n",
    "    if len(n) != len(m):\n",
    "        return False\n",
    "    # storted will arrange the words in aceding order\n",
    "    a = sorted(n)\n",
    "    n = \"\".join(a) # join will seperate the words \n",
    "    b = sorted(m)\n",
    "    m = \"\".join(b)\n",
    "\n",
    "    for i in range(n1): \n",
    "        if(n[i]!=m[i]):  # it will check the elements in n == m or not\n",
    "            return False  # if not then it will return false\n",
    "    return True  # if yes then it will return true\n",
    "\n",
    "#main\n",
    "n = input()\n",
    "m = input()\n",
    "if(is_permuntation(n,m)):\n",
    "    print(\"true\")\n",
    "else:\n",
    "    print(\"false\")"
   ]
  },
  {
   "cell_type": "code",
   "execution_count": 15,
   "metadata": {},
   "outputs": [
    {
     "name": "stdout",
     "output_type": "stream",
     "text": [
      "correct code\n",
      "correct code\n"
     ]
    }
   ],
   "source": [
    "for i in range(int(input())):\n",
    "    a,b = map(int,input().split())\n",
    "    if a + b == 4 or a + b < 4:\n",
    "        print()"
   ]
  },
  {
   "cell_type": "code",
   "execution_count": 17,
   "metadata": {},
   "outputs": [
    {
     "name": "stdout",
     "output_type": "stream",
     "text": [
      "Keys : roll no\n",
      "name\n",
      "course\n"
     ]
    }
   ],
   "source": [
    "dict = {\"roll no\":3456,\"name\": 'arnav',\"course\":'b.tech'}\n",
    "print(\"Keys :\",end = \" \")\n",
    "for keys in dict:\n",
    "    print(keys)"
   ]
  },
  {
   "cell_type": "code",
   "execution_count": 18,
   "metadata": {},
   "outputs": [
    {
     "data": {
      "text/plain": [
       "{'ert', 'srtru', 'tyui', 'wewr'}"
      ]
     },
     "execution_count": 18,
     "metadata": {},
     "output_type": "execute_result"
    }
   ],
   "source": [
    "set = {'srtru',\"tyui\"}\n",
    "set2 = {\"wewr\",\"ert\"}\n",
    "set.update(set2)\n",
    "set"
   ]
  },
  {
   "cell_type": "code",
   "execution_count": 78,
   "metadata": {},
   "outputs": [
    {
     "data": {
      "text/plain": [
       "('9-10', '11-12', '1-2')"
      ]
     },
     "execution_count": 78,
     "metadata": {},
     "output_type": "execute_result"
    }
   ],
   "source": [
    "import random\n",
    "import time\n",
    "\n",
    "#time_table = map(int,input().split())  #\"maths\",\"physics\"\n",
    "subjects = [\"maths\",\"physics\",\"master class python\"]\n",
    "\n",
    "days=[\"mon\",\"tue\",\"wed\",\"thu\",\"fri\"]\n",
    "for i in days:\n",
    "    i=[]\n",
    "    c=0\n",
    "    j=1\n",
    "    while j>0:\n",
    "        c=random.choice(subject)\n",
    "        if c not in i:\n",
    "            i.append(c)\n",
    "        if len(i)==x:\n",
    "            break\n",
    "        j+=1\n",
    "    table.append(i)"
   ]
  },
  {
   "cell_type": "code",
   "execution_count": 83,
   "metadata": {},
   "outputs": [
    {
     "data": {
      "text/plain": [
       "[['1-2', '3-4', '5-6']]"
      ]
     },
     "execution_count": 83,
     "metadata": {},
     "output_type": "execute_result"
    }
   ],
   "source": [
    "table=[[]]\n",
    "x = 3\n",
    "for i in range(x):\n",
    "    t=input(\"Enter time for class:\")\n",
    "    table[0].append(t)\n",
    "table"
   ]
  },
  {
   "cell_type": "code",
   "execution_count": 1,
   "metadata": {},
   "outputs": [
    {
     "name": "stdout",
     "output_type": "stream",
     "text": [
      "{'can': 4, 'you': 3, 'canner': 1}\n"
     ]
    }
   ],
   "source": [
    "s = \"can you can you can you can canner\"\n",
    "d = {}\n",
    "for i in s.split():\n",
    "    if i in d:\n",
    "        d[i] = d[i] + 1\n",
    "    else:\n",
    "        d[i] = 1\n",
    "print(d)"
   ]
  },
  {
   "cell_type": "code",
   "execution_count": 6,
   "metadata": {},
   "outputs": [
    {
     "data": {
      "text/plain": [
       "<map at 0x21ef2f56ce0>"
      ]
     },
     "execution_count": 6,
     "metadata": {},
     "output_type": "execute_result"
    }
   ],
   "source": [
    "#s = \"can you can can you can canner\"\n",
    "e = map(int,input().split())\n",
    "e"
   ]
  },
  {
   "cell_type": "code",
   "execution_count": null,
   "metadata": {},
   "outputs": [],
   "source": [
    "1. What is difference between Sets and Dictionaries?\n",
    "(a). Sets are mutable and Dictionaries are imutable.\n",
    "(b). Sets are imutable and Dictionaries are mutable.\n",
    "(c). Sets are mutable and Dictionaries are mutable but dictionaries stores data and key value-pairs.\n",
    "(d). Sets are imutable and sets stores data and key value-pairs and Dictionaries are imutable ."
   ]
  },
  {
   "cell_type": "code",
   "execution_count": null,
   "metadata": {},
   "outputs": [],
   "source": [
    "2. s = \"Maanya\"\n",
    "i = 0\n",
    "s1 = \"\"\n",
    "for x in s:\n",
    "    if s.index(x)==i:\n",
    "        s1 = s1 + x\n",
    "    i+=1\n",
    "print(s1)\n",
    "\n",
    "What Output will s1 will give ?\n",
    "\n",
    "(a) Manya\n",
    "(b) Many\n",
    "(c) Mny\n",
    "(d) Mnya"
   ]
  },
  {
   "cell_type": "code",
   "execution_count": 15,
   "metadata": {},
   "outputs": [
    {
     "data": {
      "text/plain": [
       "str"
      ]
     },
     "execution_count": 15,
     "metadata": {},
     "output_type": "execute_result"
    }
   ],
   "source": [
    "3. str = \"Chitkara university\"\n",
    "str = str.split()\n",
    "type(str)\n",
    "What is the type of str ? \n",
    "(a) list\n",
    "(b) str\n",
    "(c) tuple\n",
    "(d) int"
   ]
  },
  {
   "cell_type": "code",
   "execution_count": null,
   "metadata": {},
   "outputs": [],
   "source": [
    "4. Another way of representing or calling dictionarie ?\n",
    "\n",
    "(a) d = dict([(\"how\",3),(\"are\",4),(\"you\",3)])\n",
    "(b) d = dict.fromkeys([\"how\",\"are\",\"you\"])\n",
    "(c) d = {\"how\":3,\"are\":4,\"you\":3}\n",
    "(d) None of these"
   ]
  },
  {
   "cell_type": "code",
   "execution_count": 23,
   "metadata": {},
   "outputs": [],
   "source": [
    "5. d = {\"list\":3,\"int\":4,\"str\":3}\n",
    "d.get(\"list\")\n",
    "\n",
    "What will be the output ?\n",
    "\n",
    "(a) 3\n",
    "(b) (3)\n",
    "(c) (\"3\")\n",
    "(d) [3]"
   ]
  },
  {
   "cell_type": "code",
   "execution_count": 25,
   "metadata": {},
   "outputs": [],
   "source": [
    "d.get(\"tuple\")"
   ]
  },
  {
   "cell_type": "code",
   "execution_count": 27,
   "metadata": {},
   "outputs": [
    {
     "name": "stdout",
     "output_type": "stream",
     "text": [
      "Many\n"
     ]
    }
   ],
   "source": [
    "s = \"Maanya\"\n",
    "i = 0\n",
    "s1 = \"\"\n",
    "for x in s:\n",
    "    if s.index(x)==i:\n",
    "        s1 = s1 + x\n",
    "    i+=1\n",
    "print(s1)"
   ]
  },
  {
   "cell_type": "code",
   "execution_count": 33,
   "metadata": {},
   "outputs": [
    {
     "name": "stdout",
     "output_type": "stream",
     "text": [
      "bbcc\n"
     ]
    }
   ],
   "source": [
    "def remove_char(str,ch):\n",
    "    print(str.replace(ch,''))\n",
    "    \n",
    "str = \"baabccaaa\"\n",
    "ch = \"a\"\n",
    "remove_char(str,ch)"
   ]
  },
  {
   "cell_type": "code",
   "execution_count": 36,
   "metadata": {},
   "outputs": [
    {
     "name": "stdout",
     "output_type": "stream",
     "text": [
      "bcc\n"
     ]
    }
   ],
   "source": [
    "str = \"aaaabcca\"\n",
    "ch = \"a\"\n",
    "print(str.replace(ch,''))"
   ]
  },
  {
   "cell_type": "code",
   "execution_count": null,
   "metadata": {},
   "outputs": [],
   "source": [
    "def sum_of_largest_column(li_6):\n",
    "    n = len(li)\n",
    "    m = len(li[0])\n",
    "    max = -1\n",
    "    max_col_index = -1\n",
    "    for j in range(m):\n",
    "        sum = 0\n",
    "        #max = -1\n",
    "        for i in range(n):\n",
    "            sum = sum + li_6[i][j]\n",
    "        if sum > max:\n",
    "            max_col_index = j\n",
    "            max = sum\n",
    "    return max,max_col_index\n",
    "\n",
    "\n",
    "li_6 = [[1,2,3,4],[5,6,7,8],[4,7,8,9]]\n",
    "lar_sum,last = sum_of_largest_column(li_6)\n",
    "print(lar_sum,last)"
   ]
  },
  {
   "cell_type": "code",
   "execution_count": 11,
   "metadata": {},
   "outputs": [
    {
     "name": "stdout",
     "output_type": "stream",
     "text": [
      "[27, 48, 63, 72]\n",
      "[45, 54, 84, 120]\n",
      "[48, 27, 300, 363]\n"
     ]
    }
   ],
   "source": [
    "x = [[1,2,3,4],\n",
    "    [5,6,7,8],\n",
    "    [8,9,10,11]]\n",
    "\n",
    "y = [[9,8,7,6],\n",
    "    [3,3,4,5],\n",
    "    [2,1,10,11]]\n",
    "result = [[0,0,0,0],\n",
    "        [0,0,0,0],\n",
    "        [0,0,0,0]] \n",
    "for i in range(len(x)):\n",
    "    for j in range(len(y[0])):\n",
    "\n",
    "        for k in range(len(result)):\n",
    "            result[i][j] += x[i][j] * y[i][j]\n",
    "\n",
    "for r in result:\n",
    "    print(r)"
   ]
  },
  {
   "cell_type": "code",
   "execution_count": 12,
   "metadata": {},
   "outputs": [
    {
     "name": "stdout",
     "output_type": "stream",
     "text": [
      "[10, 10, 10, 10]\n",
      "[8, 9, 11, 13]\n",
      "[10, 10, 20, 22]\n"
     ]
    }
   ],
   "source": [
    "x = [[1,2,3,4],\n",
    "    [5,6,7,8],\n",
    "    [8,9,10,11]]\n",
    "\n",
    "y = [[9,8,7,6],\n",
    "    [3,3,4,5],\n",
    "    [2,1,10,11]]\n",
    "result = [[0,0,0,0],\n",
    "        [0,0,0,0],\n",
    "        [0,0,0,0]] \n",
    "for i in range(len(x)):\n",
    "    for j in range(len(y[0])):\n",
    "        result[i][j]+=x[i][j] + y[i][j]\n",
    "for row in result:\n",
    "    print(row)"
   ]
  },
  {
   "cell_type": "code",
   "execution_count": 25,
   "metadata": {},
   "outputs": [
    {
     "name": "stdout",
     "output_type": "stream",
     "text": [
      "18 2\n"
     ]
    }
   ],
   "source": [
    "def addition(li):\n",
    "    n = len(li)\n",
    "    m = len(li[0])\n",
    "    max_sum = -1\n",
    "    max_index = -1\n",
    "    for j in range(m):\n",
    "        sum = 0\n",
    "        for i in range (n):\n",
    "            sum += li[i][j]\n",
    "        if sum > max_sum:\n",
    "            max_sum=sum\n",
    "            max_index = j\n",
    "    return max_sum,max_index\n",
    "\n",
    "\n",
    "\n",
    "\n",
    "li= [[1,2,3],\n",
    "    [4,5,6],\n",
    "    [7,8,9]]\n",
    "sum,index = addition(li)\n",
    "print(sum,index)"
   ]
  },
  {
   "cell_type": "code",
   "execution_count": 26,
   "metadata": {},
   "outputs": [
    {
     "name": "stdout",
     "output_type": "stream",
     "text": [
      "24 2\n"
     ]
    }
   ],
   "source": [
    "def addition(li):\n",
    "    n = len(li)\n",
    "    m = len(li[0])\n",
    "    max_sum = -1\n",
    "    max_index = -1\n",
    "    for i in range(n):\n",
    "        sum = 0\n",
    "        for j in range(m):\n",
    "            sum += li[i][j]\n",
    "        if sum > max_sum:\n",
    "            max_sum=sum\n",
    "            max_index = i\n",
    "    return max_sum,max_index\n",
    "\n",
    "\n",
    "li= [[1,2,3],\n",
    "    [4,5,6],\n",
    "    [7,8,9]]\n",
    "sum,index = addition(li)\n",
    "print(sum,index)"
   ]
  },
  {
   "cell_type": "code",
   "execution_count": 32,
   "metadata": {},
   "outputs": [
    {
     "name": "stdout",
     "output_type": "stream",
     "text": [
      "10\n"
     ]
    },
    {
     "data": {
      "text/plain": [
       "22"
      ]
     },
     "execution_count": 32,
     "metadata": {},
     "output_type": "execute_result"
    }
   ],
   "source": [
    "def sum(a,b,*more):\n",
    "    c = a+b\n",
    "    print(c)\n",
    "    for i in more:\n",
    "        c = c + i\n",
    "    return c\n",
    "\n",
    "\n",
    "a = 3\n",
    "b = 7\n",
    "f = sum(a,b,3,4,5)\n",
    "f"
   ]
  },
  {
   "cell_type": "code",
   "execution_count": 4,
   "metadata": {},
   "outputs": [
    {
     "name": "stdout",
     "output_type": "stream",
     "text": [
      "21\n"
     ]
    }
   ],
   "source": [
    "def add_row(li):\n",
    "    for i in range(len(li)):\n",
    "        sum = 0\n",
    "        max = 0\n",
    "        for j in range(len(li[0])):\n",
    "            sum+=li[i][j]\n",
    "            if sum > max:\n",
    "                max=sum\n",
    "    return max\n",
    "\n",
    "\n",
    "li = [[1,2,3],[4,5,6],[6,7,8]]\n",
    "a = add_row(li)\n",
    "print(a)"
   ]
  },
  {
   "cell_type": "code",
   "execution_count": 5,
   "metadata": {},
   "outputs": [
    {
     "name": "stdout",
     "output_type": "stream",
     "text": [
      "a\n"
     ]
    }
   ],
   "source": [
    "str = \"aabbcbcas\"\n",
    "str_4 = \"\"\n",
    "for i in str:\n",
    "    if str_4 == \"\" or i!=i[len(str_4)-1]:\n",
    "        str_4+=i\n",
    "print(str_4)"
   ]
  },
  {
   "cell_type": "code",
   "execution_count": 19,
   "metadata": {},
   "outputs": [
    {
     "name": "stdout",
     "output_type": "stream",
     "text": [
      "4444\n",
      "4444\n",
      "4444\n",
      "4444\n"
     ]
    }
   ],
   "source": [
    "n = int(input())\n",
    "for i in range(n):\n",
    "    for j in range(n):\n",
    "        print(n,end='')\n",
    "    print()"
   ]
  },
  {
   "cell_type": "code",
   "execution_count": 18,
   "metadata": {},
   "outputs": [
    {
     "name": "stdout",
     "output_type": "stream",
     "text": [
      "*****\n",
      "*****\n",
      "*****\n",
      "*****\n",
      "*****\n"
     ]
    }
   ],
   "source": [
    "n = 5\n",
    "for i in range(n):\n",
    "    for j in range(n):\n",
    "        print(\"*\",end=\"\")\n",
    "    print()"
   ]
  },
  {
   "cell_type": "code",
   "execution_count": 21,
   "metadata": {},
   "outputs": [
    {
     "ename": "SyntaxError",
     "evalue": "invalid syntax (3310241707.py, line 1)",
     "output_type": "error",
     "traceback": [
      "\u001b[1;36m  Cell \u001b[1;32mIn [21], line 1\u001b[1;36m\u001b[0m\n\u001b[1;33m    *\u001b[0m\n\u001b[1;37m     ^\u001b[0m\n\u001b[1;31mSyntaxError\u001b[0m\u001b[1;31m:\u001b[0m invalid syntax\n"
     ]
    }
   ],
   "source": [
    "*\n",
    "**\n",
    "***\n",
    "****\n",
    "*****"
   ]
  },
  {
   "cell_type": "code",
   "execution_count": 23,
   "metadata": {},
   "outputs": [
    {
     "name": "stdout",
     "output_type": "stream",
     "text": [
      "*\n",
      "**\n",
      "***\n",
      "****\n",
      "*****\n"
     ]
    }
   ],
   "source": [
    "n = 5\n",
    "for i in range(n):\n",
    "    for j in range(i+1):\n",
    "        print(\"*\",end=\"\")\n",
    "    print()"
   ]
  },
  {
   "cell_type": "code",
   "execution_count": 106,
   "metadata": {},
   "outputs": [
    {
     "name": "stdout",
     "output_type": "stream",
     "text": [
      "     * \n",
      "    * * \n",
      "   * * * \n",
      "  * * * * \n",
      " * * * * * \n"
     ]
    }
   ],
   "source": [
    "n = 5\n",
    "for i in range(n):\n",
    "    for j in range(n-i):\n",
    "        print(\" \",end=\"\")\n",
    "    for j in range(i+1):\n",
    "        print(\"*\",end=\" \")\n",
    "    print()\n",
    "  \n",
    "    "
   ]
  },
  {
   "cell_type": "code",
   "execution_count": null,
   "metadata": {},
   "outputs": [],
   "source": [
    "1\n",
    "11\n",
    "121\n",
    "1221"
   ]
  },
  {
   "cell_type": "code",
   "execution_count": 64,
   "metadata": {},
   "outputs": [
    {
     "name": "stdout",
     "output_type": "stream",
     "text": [
      "\n",
      "1\n",
      "12\n",
      "121\n",
      "1211\n"
     ]
    }
   ],
   "source": [
    "n = 4\n",
    "for i in range(n+1):\n",
    "    for j in range(i):\n",
    "        if(j==1 or j>=i+1):\n",
    "            print(2,end=\"\")\n",
    "        else:\n",
    "            print(1,end=\"\")\n",
    "    print()"
   ]
  },
  {
   "cell_type": "code",
   "execution_count": 78,
   "metadata": {},
   "outputs": [
    {
     "name": "stdout",
     "output_type": "stream",
     "text": [
      "4444\n",
      "333\n",
      "22\n",
      "1\n"
     ]
    }
   ],
   "source": [
    "n = 4\n",
    "for i in range(n,0,-1):\n",
    "    for j in range(i):\n",
    "        print(i,end=\"\")\n",
    "    print()"
   ]
  },
  {
   "cell_type": "code",
   "execution_count": null,
   "metadata": {},
   "outputs": [],
   "source": [
    "\n",
    "11\n",
    "202\n",
    "3003"
   ]
  },
  {
   "cell_type": "code",
   "execution_count": 94,
   "metadata": {},
   "outputs": [
    {
     "name": "stdout",
     "output_type": "stream",
     "text": [
      "1\n",
      "11\n",
      "202\n",
      "3003\n"
     ]
    }
   ],
   "source": [
    "n = 4\n",
    "print(1)\n",
    "i = 1\n",
    "while n-1>=i:\n",
    "    j = 1\n",
    "    while j<=i+1:\n",
    "        if(j==1 or j>=i+1):\n",
    "            print(i,end=\"\")\n",
    "        else:\n",
    "            print(0,end=\"\")\n",
    "        j+=1\n",
    "    print()\n",
    "    i+=1"
   ]
  },
  {
   "cell_type": "code",
   "execution_count": 96,
   "metadata": {},
   "outputs": [
    {
     "name": "stdout",
     "output_type": "stream",
     "text": [
      "1\n",
      "11\n",
      "202\n",
      "3003\n"
     ]
    }
   ],
   "source": [
    "print(1)\n",
    "n = 4\n",
    "i = 1\n",
    "while i<=n-1:\n",
    "    j = 1\n",
    "    while j<=i+1:\n",
    "        if(j==1 or j>=i+1):\n",
    "            print(i,end=\"\")\n",
    "        else:\n",
    "            print(0,end=\"\")\n",
    "        j+=1\n",
    "    i+=1\n",
    "    print()"
   ]
  },
  {
   "cell_type": "code",
   "execution_count": 110,
   "metadata": {},
   "outputs": [
    {
     "name": "stdout",
     "output_type": "stream",
     "text": [
      "     8 \n",
      "    8 8 \n",
      "   8 8 8 \n",
      "  8 8 8 8 \n",
      " 8 8 8 8 8 \n"
     ]
    }
   ],
   "source": [
    "n = 5\n",
    "for i in range(n):\n",
    "    for j in range(n-i):\n",
    "        print(\" \",end=\"\")\n",
    "    for j in range(i+1):\n",
    "        print(8,end=\" \")\n",
    "    print()"
   ]
  },
  {
   "cell_type": "code",
   "execution_count": 119,
   "metadata": {},
   "outputs": [
    {
     "name": "stdout",
     "output_type": "stream",
     "text": [
      "\n",
      "\u0001\n",
      "\u0002\u0002\n",
      "\u0003\u0003\u0003\n",
      "\u0004\u0004\u0004\u0004\n"
     ]
    }
   ],
   "source": [
    "n = 4\n",
    "for i in range(n+1):\n",
    "    for j in range(i):\n",
    "        k = chr(i)\n",
    "        print(k,end=\"\")\n",
    "    print()"
   ]
  },
  {
   "cell_type": "code",
   "execution_count": 124,
   "metadata": {},
   "outputs": [
    {
     "name": "stdout",
     "output_type": "stream",
     "text": [
      "A\n",
      "BB\n",
      "CCC\n",
      "DDDD\n"
     ]
    }
   ],
   "source": [
    "n = 4\n",
    "for i in range(n):\n",
    "    for j in range(i+1):\n",
    "        k = ord('A')+i\n",
    "        print(chr(k),end=\"\")\n",
    "    print()"
   ]
  },
  {
   "cell_type": "code",
   "execution_count": 139,
   "metadata": {},
   "outputs": [
    {
     "name": "stdout",
     "output_type": "stream",
     "text": [
      "\n",
      "1\n",
      "22\n",
      "333\n",
      "4444\n"
     ]
    }
   ],
   "source": [
    "n = 4\n",
    "for i in range(n+1):\n",
    "    for j in range(i):\n",
    "        print(i,end=\"\")\n",
    "    print()"
   ]
  },
  {
   "cell_type": "code",
   "execution_count": 1,
   "metadata": {},
   "outputs": [
    {
     "name": "stdout",
     "output_type": "stream",
     "text": [
      "dict_items([('this', 0), ('IJK', 3)])\n"
     ]
    }
   ],
   "source": [
    "dict = {\"this\":0,\"IJK\":3}\n",
    "print(dict.items())"
   ]
  },
  {
   "cell_type": "code",
   "execution_count": 91,
   "metadata": {},
   "outputs": [
    {
     "ename": "SyntaxError",
     "evalue": "invalid syntax. Perhaps you forgot a comma? (2596919976.py, line 1)",
     "output_type": "error",
     "traceback": [
      "\u001b[1;36m  Cell \u001b[1;32mIn [91], line 1\u001b[1;36m\u001b[0m\n\u001b[1;33m    d = dict.fromkeys((\"this\"),(\"is\"),(\"you\")7)\u001b[0m\n\u001b[1;37m                                       ^\u001b[0m\n\u001b[1;31mSyntaxError\u001b[0m\u001b[1;31m:\u001b[0m invalid syntax. Perhaps you forgot a comma?\n"
     ]
    }
   ],
   "source": [
    "d = dict.fromkeys((\"this\"),(\"is\"),(\"you\")7)\n",
    "d"
   ]
  },
  {
   "cell_type": "code",
   "execution_count": null,
   "metadata": {},
   "outputs": [],
   "source": []
  },
  {
   "cell_type": "code",
   "execution_count": 2,
   "metadata": {},
   "outputs": [
    {
     "name": "stdout",
     "output_type": "stream",
     "text": [
      "d:\\python v.s code\n"
     ]
    }
   ],
   "source": [
    "import os\n",
    "t = os.getcwd()\n",
    "print(t)"
   ]
  },
  {
   "cell_type": "code",
   "execution_count": 3,
   "metadata": {},
   "outputs": [
    {
     "name": "stdout",
     "output_type": "stream",
     "text": [
      "You entered:  --ip=127.0.0.1 --stdin=9003 --control=9001\n"
     ]
    }
   ],
   "source": [
    "\n",
    "\n",
    "import sys\n",
    "print(\"You entered: \",sys.argv[1], sys.argv[2], sys.argv[3])\n",
    "\n"
   ]
  },
  {
   "cell_type": "code",
   "execution_count": 12,
   "metadata": {},
   "outputs": [
    {
     "name": "stdout",
     "output_type": "stream",
     "text": [
      "96\n"
     ]
    }
   ],
   "source": [
    "import random\n",
    "print(random.randint(1,100))\n"
   ]
  },
  {
   "cell_type": "code",
   "execution_count": 22,
   "metadata": {},
   "outputs": [
    {
     "data": {
      "text/plain": [
       "[5, 4, 2, 4, 7, 5, 1, 6, 6, 3]"
      ]
     },
     "execution_count": 22,
     "metadata": {},
     "output_type": "execute_result"
    }
   ],
   "source": [
    "import random\n",
    "list = [1,2,3,4,4,5,5,6,6,7]\n",
    "random.shuffle(list)\n",
    "list"
   ]
  },
  {
   "cell_type": "code",
   "execution_count": 36,
   "metadata": {},
   "outputs": [
    {
     "name": "stdout",
     "output_type": "stream",
     "text": [
      "4\n"
     ]
    }
   ],
   "source": [
    "import random\n",
    "e = random.choice([1,2,3,4,5])\n",
    "print(e)"
   ]
  },
  {
   "cell_type": "code",
   "execution_count": 46,
   "metadata": {},
   "outputs": [
    {
     "name": "stdout",
     "output_type": "stream",
     "text": [
      "0.5010202943305442\n"
     ]
    }
   ],
   "source": [
    "import random\n",
    "print(random.Random().random())\n"
   ]
  },
  {
   "cell_type": "code",
   "execution_count": 53,
   "metadata": {},
   "outputs": [
    {
     "data": {
      "text/plain": [
       "1"
      ]
     },
     "execution_count": 53,
     "metadata": {},
     "output_type": "execute_result"
    }
   ],
   "source": [
    "import random\n",
    "random.randint(1,1)"
   ]
  },
  {
   "cell_type": "code",
   "execution_count": 20,
   "metadata": {},
   "outputs": [
    {
     "name": "stdout",
     "output_type": "stream",
     "text": [
      "2\n"
     ]
    }
   ],
   "source": [
    "n = int(input())\n",
    "list = [1,2,3,4,5,6]\n",
    "for i in range(len(list)):\n",
    "    if n == list[i]:\n",
    "        print(i)\n",
    "        break\n",
    "else:\n",
    "    print(\"na\")"
   ]
  },
  {
   "cell_type": "code",
   "execution_count": 1,
   "metadata": {},
   "outputs": [
    {
     "ename": "TypeError",
     "evalue": "unsupported operand type(s) for //: 'list' and 'int'",
     "output_type": "error",
     "traceback": [
      "\u001b[1;31m---------------------------------------------------------------------------\u001b[0m",
      "\u001b[1;31mTypeError\u001b[0m                                 Traceback (most recent call last)",
      "Cell \u001b[1;32mIn [1], line 4\u001b[0m\n\u001b[0;32m      2\u001b[0m n \u001b[39m=\u001b[39m \u001b[39mint\u001b[39m(\u001b[39minput\u001b[39m())\n\u001b[0;32m      3\u001b[0m \u001b[39mfor\u001b[39;00m i \u001b[39min\u001b[39;00m \u001b[39mrange\u001b[39m(\u001b[39mlen\u001b[39m(list_1)):\n\u001b[1;32m----> 4\u001b[0m     d \u001b[39m=\u001b[39m list_1\u001b[39m/\u001b[39;49m\u001b[39m/\u001b[39;49m\u001b[39m2\u001b[39;49m\n\u001b[0;32m      5\u001b[0m     \u001b[39mif\u001b[39;00m n\u001b[39m>\u001b[39md:\n\u001b[0;32m      6\u001b[0m         s \u001b[39m=\u001b[39m d\u001b[39m+\u001b[39m\u001b[39mlen\u001b[39m(list_1)\u001b[39m/\u001b[39m\u001b[39m/\u001b[39m\u001b[39m2\u001b[39m    \u001b[39m# 4+7//2\u001b[39;00m\n",
      "\u001b[1;31mTypeError\u001b[0m: unsupported operand type(s) for //: 'list' and 'int'"
     ]
    }
   ],
   "source": [
    "list_1 = [1,2,3,4,5,6,7]\n",
    "n = int(input())\n",
    "for i in range(len(list_1)):\n",
    "    d = list_1//2\n",
    "    if n>d:\n",
    "        s = d+len(list_1)//2    # 4+7//2\n",
    "        if s<d:   #5+7//2\n",
    "            print(s)\n"
   ]
  },
  {
   "cell_type": "code",
   "execution_count": 8,
   "metadata": {},
   "outputs": [
    {
     "data": {
      "text/plain": [
       "('your number is at middle', 3)"
      ]
     },
     "execution_count": 8,
     "metadata": {},
     "output_type": "execute_result"
    }
   ],
   "source": [
    "def binary_search(array,x1):\n",
    "    lower_bound = 0\n",
    "    upper_bound = len(array)-1\n",
    "    \n",
    "    while lower_bound<=upper_bound:\n",
    "        middle = (lower_bound+upper_bound)//2\n",
    "        if x1 == array[middle]:\n",
    "            return \"your number is at middle\", middle\n",
    "        elif x1 < array[middle]:\n",
    "            upper_bound = middle - 1\n",
    "\n",
    "        else:\n",
    "            lower_bound = middle + 1\n",
    "    return \"Your number is not present in given array sorry !!\"\n",
    "\n",
    "array = [12,34,45,56,67,89]\n",
    "x1 = 56\n",
    "binary_search(array,x1)\n",
    "\n"
   ]
  },
  {
   "cell_type": "code",
   "execution_count": 17,
   "metadata": {},
   "outputs": [
    {
     "data": {
      "text/plain": [
       "[3, 8, 12, 45, 78, 567]"
      ]
     },
     "execution_count": 17,
     "metadata": {},
     "output_type": "execute_result"
    }
   ],
   "source": [
    "def selection_sort(a):\n",
    "    for i in range(len(a)):\n",
    "        min = i\n",
    "        for j in range(i+1,len(a)):\n",
    "            if a[j]<a[min]:\n",
    "                min = j\n",
    "        a[i],a[min] = a[min],a[i]\n",
    "    return a\n",
    "\n",
    "selection_sort([12,3,45,567,78,8])"
   ]
  },
  {
   "cell_type": "code",
   "execution_count": 22,
   "metadata": {},
   "outputs": [
    {
     "data": {
      "text/plain": [
       "('your are in middle', 1)"
      ]
     },
     "execution_count": 22,
     "metadata": {},
     "output_type": "execute_result"
    }
   ],
   "source": [
    "def binary_search(array,element):\n",
    "    lower_bound = 0\n",
    "    upper_bound = len(array)-1\n",
    "    while lower_bound <=upper_bound:\n",
    "        middle = (upper_bound+lower_bound)//2\n",
    "        if element == array[middle]:\n",
    "            return \"your are in middle\" , middle\n",
    "        elif element < array[middle]:\n",
    "            upper_bound = middle - 1\n",
    "        else:\n",
    "            lower_bound = middle + 1\n",
    "    return \"number is not present\"\n",
    "\n",
    "array = [12,23,345,56]\n",
    "element = 23\n",
    "binary_search(array,element) "
   ]
  },
  {
   "cell_type": "code",
   "execution_count": 34,
   "metadata": {},
   "outputs": [
    {
     "data": {
      "text/plain": [
       "[1, 2, 3, 12, 34, 56, 78, 90]"
      ]
     },
     "execution_count": 34,
     "metadata": {},
     "output_type": "execute_result"
    }
   ],
   "source": [
    "def selection_sort(a):\n",
    "    for i in range(len(a)):\n",
    "        smallest = i\n",
    "        for j in range(i+1,len(a)):\n",
    "            if a[j] < a[smallest]:\n",
    "                smallest = j\n",
    "        a[i],a[smallest] = a[smallest],a[i]\n",
    "    return a\n",
    "a = [12,34,56,2,1,3,78,90]\n",
    "selection_sort(a)\n",
    "    "
   ]
  },
  {
   "cell_type": "code",
   "execution_count": 37,
   "metadata": {},
   "outputs": [
    {
     "data": {
      "text/plain": [
       "('your are in middle', 2)"
      ]
     },
     "execution_count": 37,
     "metadata": {},
     "output_type": "execute_result"
    }
   ],
   "source": [
    "def binary_search(array,element):\n",
    "    lower_bound = 0\n",
    "    upper_bound = len(array)-1\n",
    "    while lower_bound <=upper_bound:\n",
    "        middle = (upper_bound+lower_bound)//2\n",
    "        if element == array[middle]:\n",
    "            return \"your are in middle\" , middle\n",
    "        elif element < array[middle]:\n",
    "            upper_bound = middle - 1\n",
    "        else:\n",
    "            lower_bound = middle + 1\n",
    "    return \"number is not present\"\n",
    "\n",
    "n = int(input())\n",
    "array = []\n",
    "for i in range(n):\n",
    "    element = int(input())\n",
    "    array.append(element)\n",
    "element = int(input())\n",
    "binary_search(array,element)"
   ]
  },
  {
   "cell_type": "code",
   "execution_count": 69,
   "metadata": {},
   "outputs": [
    {
     "data": {
      "text/plain": [
       "[1, 2, 3, 5, 12, 23, 45]"
      ]
     },
     "execution_count": 69,
     "metadata": {},
     "output_type": "execute_result"
    }
   ],
   "source": [
    "def bubble_sorting(array):\n",
    "    for i in range(len(array)):\n",
    "        for j in range(len(array)-1):\n",
    "            if array[j] > array[j+1]:\n",
    "                array[j],array[j+1] = array[j+1],array[j]\n",
    "    return array\n",
    "\n",
    "bubble_sorting([12,23,1,5,2,3,45])"
   ]
  },
  {
   "cell_type": "code",
   "execution_count": 41,
   "metadata": {},
   "outputs": [
    {
     "data": {
      "text/plain": [
       "[2, 3, 4, 4, 12, 23, 23, 45, 67]"
      ]
     },
     "execution_count": 41,
     "metadata": {},
     "output_type": "execute_result"
    }
   ],
   "source": [
    "def bubble_sorting(a):\n",
    "    for i in range(len(a)):\n",
    "        for j in range(len(a)-1):\n",
    "            if a[j] > a[j+1]:\n",
    "                a[j],a[j+1] = a[j+1],a[j]\n",
    "    return a\n",
    "bubble_sorting([12,23,45,67,2,3,4,23,4])"
   ]
  },
  {
   "cell_type": "code",
   "execution_count": 42,
   "metadata": {},
   "outputs": [
    {
     "data": {
      "text/plain": [
       "[2, 12, 12, 23, 34, 45, 78, 9078]"
      ]
     },
     "execution_count": 42,
     "metadata": {},
     "output_type": "execute_result"
    }
   ],
   "source": [
    "def selsction_sort(a):\n",
    "    for i in range(len(a)):\n",
    "        min = i\n",
    "        for j in range(i+1,len(a)):\n",
    "            if a[j] < a[min]:\n",
    "                min = j\n",
    "            a[i],a[min] = a[min],a[i]\n",
    "    return a\n",
    "\n",
    "selsction_sort([45,12,78,9078,34,23,12,2])\n"
   ]
  },
  {
   "cell_type": "code",
   "execution_count": 43,
   "metadata": {},
   "outputs": [
    {
     "data": {
      "text/plain": [
       "('you are at middle', 4)"
      ]
     },
     "execution_count": 43,
     "metadata": {},
     "output_type": "execute_result"
    }
   ],
   "source": [
    "def bubble_sorting(array,element):\n",
    "    lower_bound = 0\n",
    "    upper_bound = len(array)-1\n",
    "    for i in range(len(array)):\n",
    "        middle = (lower_bound+upper_bound)//2\n",
    "        for j in range(len(array)):\n",
    "            if element == array[middle]:\n",
    "                return \"you are at middle\",middle\n",
    "            elif element < array[middle]:\n",
    "                upper_bound = middle-1\n",
    "            else:\n",
    "                lower_bound = middle+1\n",
    "    return \"element is not present\"\n",
    "#main\n",
    "array = [12,34,56,78,890,90]\n",
    "element = 890\n",
    "bubble_sorting(array,element)"
   ]
  },
  {
   "cell_type": "code",
   "execution_count": null,
   "metadata": {},
   "outputs": [
    {
     "name": "stdout",
     "output_type": "stream",
     "text": [
      "[1, 2, 3, 4, 5, 6, 7]\n"
     ]
    }
   ],
   "source": [
    "n = int(input())\n",
    "li = []\n",
    "for i in range(n):\n",
    "    element = int(input())\n",
    "    li.append(element)\n",
    "print(li)"
   ]
  },
  {
   "cell_type": "code",
   "execution_count": 51,
   "metadata": {},
   "outputs": [
    {
     "name": "stdout",
     "output_type": "stream",
     "text": [
      "1 2 3 \n",
      "1 2 3 \n"
     ]
    }
   ],
   "source": [
    "matrix = []\n",
    "row = int(input())\n",
    "col = int(input())\n",
    "for i in range(row):\n",
    "    a = []\n",
    "    for j in range(col):\n",
    "        element = int(input())\n",
    "        a.append(element)\n",
    "        matrix.append(a)\n",
    "for i in range(row):\n",
    "    for j in range(col):\n",
    "        print(matrix[i][j],end=\" \")\n",
    "    print()\n"
   ]
  },
  {
   "cell_type": "code",
   "execution_count": 66,
   "metadata": {},
   "outputs": [
    {
     "name": "stdout",
     "output_type": "stream",
     "text": [
      "211 3\n"
     ]
    }
   ],
   "source": [
    "def sum_of_col(li):\n",
    "    n = len(li)\n",
    "    m = len(li[0])\n",
    "    max_sum = -1\n",
    "    max_index = -1\n",
    "    for i in range(m):\n",
    "        sum = 0\n",
    "        for j in range(n):\n",
    "            sum = sum + li[i][j]\n",
    "        if sum > max_sum:\n",
    "            max_index = j\n",
    "            max_sum = sum\n",
    "    return max_sum,max_index\n",
    "\n",
    "li = [[1,2,3,4],[5,6,7,8],[9,80,1,2],[34,56,78,43]]\n",
    "max_sum,max_index = sum_of_col(li)\n",
    "print(max_sum,max_index)"
   ]
  },
  {
   "cell_type": "code",
   "execution_count": 84,
   "metadata": {},
   "outputs": [
    {
     "name": "stdout",
     "output_type": "stream",
     "text": [
      "[36, 36, 36, 30]\n",
      "[162, 168, 144, 135]\n",
      "[504, 468, 1350, 1176]\n"
     ]
    }
   ],
   "source": [
    "x = [[2,3,4,5],\n",
    "    [6,7,8,9],\n",
    "    [56,78,90,56]]\n",
    "\n",
    "y = [[6,4,3,2],\n",
    "    [9,8,6,5],\n",
    "    [3,2,5,7]]\n",
    "\n",
    "result = [[0,0,0,0],\n",
    "         [0,0,0,0],\n",
    "         [0,0,0,0]]\n",
    "\n",
    "for i in range(len(x)):\n",
    "    for j in range(len(y[0])):\n",
    "\n",
    "        for k in range(len(result)):\n",
    "            result[i][j] +=  x[i][j] * y[i][j]\n",
    "for r in result:\n",
    "    print(r)\n",
    "\n",
    "\n"
   ]
  },
  {
   "cell_type": "code",
   "execution_count": 83,
   "metadata": {},
   "outputs": [
    {
     "name": "stdout",
     "output_type": "stream",
     "text": [
      "[27, 48, 63, 72]\n",
      "[45, 54, 84, 120]\n",
      "[48, 27, 300, 363]\n"
     ]
    }
   ],
   "source": [
    "x = [[1,2,3,4],\n",
    "    [5,6,7,8],\n",
    "    [8,9,10,11]]\n",
    "\n",
    "y = [[9,8,7,6],\n",
    "    [3,3,4,5],\n",
    "    [2,1,10,11]]\n",
    "result = [[0,0,0,0],\n",
    "        [0,0,0,0],\n",
    "        [0,0,0,0]] \n",
    "for i in range(len(x)):\n",
    "    for j in range(len(y[0])):\n",
    "\n",
    "        for k in range(len(result)):\n",
    "            result[i][j] += x[i][j] * y[i][j]\n",
    "\n",
    "for r in result:\n",
    "    print(r)"
   ]
  },
  {
   "cell_type": "code",
   "execution_count": 3,
   "metadata": {},
   "outputs": [
    {
     "name": "stdout",
     "output_type": "stream",
     "text": [
      "512\n"
     ]
    }
   ],
   "source": [
    "print(2**3**2)"
   ]
  },
  {
   "cell_type": "code",
   "execution_count": 1,
   "metadata": {},
   "outputs": [
    {
     "name": "stdout",
     "output_type": "stream",
     "text": [
      "8\n"
     ]
    }
   ],
   "source": [
    "a = 4\n",
    "b = 4\n",
    "print(a+b)"
   ]
  }
 ],
 "metadata": {
  "kernelspec": {
   "display_name": "Python 3.10.7 64-bit (microsoft store)",
   "language": "python",
   "name": "python3"
  },
  "language_info": {
   "codemirror_mode": {
    "name": "ipython",
    "version": 3
   },
   "file_extension": ".py",
   "mimetype": "text/x-python",
   "name": "python",
   "nbconvert_exporter": "python",
   "pygments_lexer": "ipython3",
   "version": "3.10.9"
  },
  "orig_nbformat": 4,
  "vscode": {
   "interpreter": {
    "hash": "80c318d97dd7b7f214ce67664e2d0190d59ffb0e5749b830a316645587cc9c9e"
   }
  }
 },
 "nbformat": 4,
 "nbformat_minor": 2
}
